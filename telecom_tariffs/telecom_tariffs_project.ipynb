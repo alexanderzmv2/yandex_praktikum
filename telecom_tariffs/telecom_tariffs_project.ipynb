{
 "cells": [
  {
   "cell_type": "markdown",
   "metadata": {},
   "source": [
    "# Определение перспективного тарифа для телеком-компании"
   ]
  },
  {
   "cell_type": "markdown",
   "metadata": {},
   "source": [
    "В исследовании будет рассмотрена деятельность федерального оператора сотовой связи \"Мегалайн\", где будут проанализированы два тарифных плана: \"Смарт\" и \"Ультра\". <br>\n",
    "Задача исследования - проанализировать поведений клиентов и определить какой тариф выгоднее , и приносит больше денег, тем самым коммерческий департамент хочет скорректировать рекламный бюджет. <br>\n",
    "В работе будет использоваться выборка из 500 пользователей оператора с полной расшифровкой их активность (кто, локация, даты, тариф, количество звонков и сообщений)."
   ]
  },
  {
   "cell_type": "markdown",
   "metadata": {},
   "source": [
    "## Изучение общей информации"
   ]
  },
  {
   "cell_type": "markdown",
   "metadata": {},
   "source": [
    "Для начала работы с данными и последующего их анализа, загрузим необходимые библиотеки"
   ]
  },
  {
   "cell_type": "code",
   "execution_count": 4,
   "metadata": {},
   "outputs": [],
   "source": [
    "import pandas as pd\n",
    "import matplotlib.pyplot as plt\n",
    "import matplotlib.ticker as plticker\n",
    "import numpy as np\n",
    "from scipy import stats as st\n",
    "import os #для использования в функции открытия файлов `open_file`\n",
    "#отключим уведомления об ограничениях\n",
    "pd.options.mode.chained_assignment = None"
   ]
  },
  {
   "cell_type": "code",
   "execution_count": 5,
   "metadata": {},
   "outputs": [],
   "source": [
    "#для удобства создадим функцию для добавления файлов\n",
    "def open_file (file_name,df_out_name):\n",
    "    #проверяем локацию, если есть доступ с локального ПК, то берем адрес оттуда, иначе сетевой\n",
    "    path = f'C:/datasets/{file_name}.csv' if os.path.isfile(f'C:/datasets/users.csv') else f'/datasets/{file_name}.csv'\n",
    "    #назначаем переменную таблицы с пользовательским наименованием\n",
    "    globals()[f\"df_{df_out_name}\"] = pd.read_csv(path, sep=',', decimal='.')"
   ]
  },
  {
   "cell_type": "markdown",
   "metadata": {},
   "source": [
    "С помощью функции `open_file` и заранее подготовленного списка названий файлов, загрузим их в тетрадь"
   ]
  },
  {
   "cell_type": "code",
   "execution_count": 6,
   "metadata": {},
   "outputs": [],
   "source": [
    "#наименования таблиц и их выходные названия\n",
    "files_names=['users','messages','calls','internet','tariffs']\n",
    "df_names=['users','sms','calls','inet','tariffs']\n",
    "\n",
    "#загрузка таблиц\n",
    "for i in enumerate(files_names): open_file(files_names[i[0]],df_names[i[0]])"
   ]
  },
  {
   "cell_type": "markdown",
   "metadata": {},
   "source": [
    "### Проверка таблицы пользователей"
   ]
  },
  {
   "cell_type": "code",
   "execution_count": 7,
   "metadata": {},
   "outputs": [
    {
     "name": "stdout",
     "output_type": "stream",
     "text": [
      "<class 'pandas.core.frame.DataFrame'>\n",
      "RangeIndex: 500 entries, 0 to 499\n",
      "Data columns (total 8 columns):\n",
      "user_id       500 non-null int64\n",
      "age           500 non-null int64\n",
      "churn_date    38 non-null object\n",
      "city          500 non-null object\n",
      "first_name    500 non-null object\n",
      "last_name     500 non-null object\n",
      "reg_date      500 non-null object\n",
      "tariff        500 non-null object\n",
      "dtypes: int64(2), object(6)\n",
      "memory usage: 31.4+ KB\n"
     ]
    },
    {
     "data": {
      "text/html": [
       "<div>\n",
       "<style scoped>\n",
       "    .dataframe tbody tr th:only-of-type {\n",
       "        vertical-align: middle;\n",
       "    }\n",
       "\n",
       "    .dataframe tbody tr th {\n",
       "        vertical-align: top;\n",
       "    }\n",
       "\n",
       "    .dataframe thead th {\n",
       "        text-align: right;\n",
       "    }\n",
       "</style>\n",
       "<table border=\"1\" class=\"dataframe\">\n",
       "  <thead>\n",
       "    <tr style=\"text-align: right;\">\n",
       "      <th></th>\n",
       "      <th>user_id</th>\n",
       "      <th>age</th>\n",
       "      <th>churn_date</th>\n",
       "      <th>city</th>\n",
       "      <th>first_name</th>\n",
       "      <th>last_name</th>\n",
       "      <th>reg_date</th>\n",
       "      <th>tariff</th>\n",
       "    </tr>\n",
       "  </thead>\n",
       "  <tbody>\n",
       "    <tr>\n",
       "      <td>count</td>\n",
       "      <td>500.000000</td>\n",
       "      <td>500.00000</td>\n",
       "      <td>38</td>\n",
       "      <td>500</td>\n",
       "      <td>500</td>\n",
       "      <td>500</td>\n",
       "      <td>500</td>\n",
       "      <td>500</td>\n",
       "    </tr>\n",
       "    <tr>\n",
       "      <td>unique</td>\n",
       "      <td>NaN</td>\n",
       "      <td>NaN</td>\n",
       "      <td>33</td>\n",
       "      <td>76</td>\n",
       "      <td>246</td>\n",
       "      <td>419</td>\n",
       "      <td>270</td>\n",
       "      <td>2</td>\n",
       "    </tr>\n",
       "    <tr>\n",
       "      <td>top</td>\n",
       "      <td>NaN</td>\n",
       "      <td>NaN</td>\n",
       "      <td>2018-12-09</td>\n",
       "      <td>Москва</td>\n",
       "      <td>Радим</td>\n",
       "      <td>Андреенко</td>\n",
       "      <td>2018-05-28</td>\n",
       "      <td>smart</td>\n",
       "    </tr>\n",
       "    <tr>\n",
       "      <td>freq</td>\n",
       "      <td>NaN</td>\n",
       "      <td>NaN</td>\n",
       "      <td>2</td>\n",
       "      <td>99</td>\n",
       "      <td>6</td>\n",
       "      <td>5</td>\n",
       "      <td>8</td>\n",
       "      <td>351</td>\n",
       "    </tr>\n",
       "    <tr>\n",
       "      <td>mean</td>\n",
       "      <td>1249.500000</td>\n",
       "      <td>46.58800</td>\n",
       "      <td>NaN</td>\n",
       "      <td>NaN</td>\n",
       "      <td>NaN</td>\n",
       "      <td>NaN</td>\n",
       "      <td>NaN</td>\n",
       "      <td>NaN</td>\n",
       "    </tr>\n",
       "    <tr>\n",
       "      <td>std</td>\n",
       "      <td>144.481833</td>\n",
       "      <td>16.66763</td>\n",
       "      <td>NaN</td>\n",
       "      <td>NaN</td>\n",
       "      <td>NaN</td>\n",
       "      <td>NaN</td>\n",
       "      <td>NaN</td>\n",
       "      <td>NaN</td>\n",
       "    </tr>\n",
       "    <tr>\n",
       "      <td>min</td>\n",
       "      <td>1000.000000</td>\n",
       "      <td>18.00000</td>\n",
       "      <td>NaN</td>\n",
       "      <td>NaN</td>\n",
       "      <td>NaN</td>\n",
       "      <td>NaN</td>\n",
       "      <td>NaN</td>\n",
       "      <td>NaN</td>\n",
       "    </tr>\n",
       "    <tr>\n",
       "      <td>25%</td>\n",
       "      <td>1124.750000</td>\n",
       "      <td>32.00000</td>\n",
       "      <td>NaN</td>\n",
       "      <td>NaN</td>\n",
       "      <td>NaN</td>\n",
       "      <td>NaN</td>\n",
       "      <td>NaN</td>\n",
       "      <td>NaN</td>\n",
       "    </tr>\n",
       "    <tr>\n",
       "      <td>50%</td>\n",
       "      <td>1249.500000</td>\n",
       "      <td>46.00000</td>\n",
       "      <td>NaN</td>\n",
       "      <td>NaN</td>\n",
       "      <td>NaN</td>\n",
       "      <td>NaN</td>\n",
       "      <td>NaN</td>\n",
       "      <td>NaN</td>\n",
       "    </tr>\n",
       "    <tr>\n",
       "      <td>75%</td>\n",
       "      <td>1374.250000</td>\n",
       "      <td>62.00000</td>\n",
       "      <td>NaN</td>\n",
       "      <td>NaN</td>\n",
       "      <td>NaN</td>\n",
       "      <td>NaN</td>\n",
       "      <td>NaN</td>\n",
       "      <td>NaN</td>\n",
       "    </tr>\n",
       "    <tr>\n",
       "      <td>max</td>\n",
       "      <td>1499.000000</td>\n",
       "      <td>75.00000</td>\n",
       "      <td>NaN</td>\n",
       "      <td>NaN</td>\n",
       "      <td>NaN</td>\n",
       "      <td>NaN</td>\n",
       "      <td>NaN</td>\n",
       "      <td>NaN</td>\n",
       "    </tr>\n",
       "  </tbody>\n",
       "</table>\n",
       "</div>"
      ],
      "text/plain": [
       "            user_id        age  churn_date    city first_name  last_name  \\\n",
       "count    500.000000  500.00000          38     500        500        500   \n",
       "unique          NaN        NaN          33      76        246        419   \n",
       "top             NaN        NaN  2018-12-09  Москва      Радим  Андреенко   \n",
       "freq            NaN        NaN           2      99          6          5   \n",
       "mean    1249.500000   46.58800         NaN     NaN        NaN        NaN   \n",
       "std      144.481833   16.66763         NaN     NaN        NaN        NaN   \n",
       "min     1000.000000   18.00000         NaN     NaN        NaN        NaN   \n",
       "25%     1124.750000   32.00000         NaN     NaN        NaN        NaN   \n",
       "50%     1249.500000   46.00000         NaN     NaN        NaN        NaN   \n",
       "75%     1374.250000   62.00000         NaN     NaN        NaN        NaN   \n",
       "max     1499.000000   75.00000         NaN     NaN        NaN        NaN   \n",
       "\n",
       "          reg_date tariff  \n",
       "count          500    500  \n",
       "unique         270      2  \n",
       "top     2018-05-28  smart  \n",
       "freq             8    351  \n",
       "mean           NaN    NaN  \n",
       "std            NaN    NaN  \n",
       "min            NaN    NaN  \n",
       "25%            NaN    NaN  \n",
       "50%            NaN    NaN  \n",
       "75%            NaN    NaN  \n",
       "max            NaN    NaN  "
      ]
     },
     "execution_count": 7,
     "metadata": {},
     "output_type": "execute_result"
    }
   ],
   "source": [
    "#посмотрим общую информацию о данных в таблице df_users и её статистическую сводку\n",
    "df_users.info();df_users.describe(include = 'all')"
   ]
  },
  {
   "cell_type": "markdown",
   "metadata": {},
   "source": [
    "В части целостности данных вопросов по данной таблице нет, пропусков нет, кроме даты ухода пользователя `churn_date`, что позволительно. В части типов данных понадобится обработки, по столбцам `city`, `first_name` и `tariff` можно применить формат `category`, а по `user_id` и `age` изменить битность типа до наименьшего."
   ]
  },
  {
   "cell_type": "markdown",
   "metadata": {},
   "source": [
    "### Проверка биллинговых данных\n",
    "В данной группе рассмотрим таблицы СМС, звонки и интернет\n",
    "#### СМС"
   ]
  },
  {
   "cell_type": "code",
   "execution_count": 8,
   "metadata": {},
   "outputs": [
    {
     "name": "stdout",
     "output_type": "stream",
     "text": [
      "<class 'pandas.core.frame.DataFrame'>\n",
      "RangeIndex: 123036 entries, 0 to 123035\n",
      "Data columns (total 3 columns):\n",
      "id              123036 non-null object\n",
      "message_date    123036 non-null object\n",
      "user_id         123036 non-null int64\n",
      "dtypes: int64(1), object(2)\n",
      "memory usage: 2.8+ MB\n"
     ]
    },
    {
     "data": {
      "text/html": [
       "<div>\n",
       "<style scoped>\n",
       "    .dataframe tbody tr th:only-of-type {\n",
       "        vertical-align: middle;\n",
       "    }\n",
       "\n",
       "    .dataframe tbody tr th {\n",
       "        vertical-align: top;\n",
       "    }\n",
       "\n",
       "    .dataframe thead th {\n",
       "        text-align: right;\n",
       "    }\n",
       "</style>\n",
       "<table border=\"1\" class=\"dataframe\">\n",
       "  <thead>\n",
       "    <tr style=\"text-align: right;\">\n",
       "      <th></th>\n",
       "      <th>id</th>\n",
       "      <th>message_date</th>\n",
       "      <th>user_id</th>\n",
       "    </tr>\n",
       "  </thead>\n",
       "  <tbody>\n",
       "    <tr>\n",
       "      <td>count</td>\n",
       "      <td>123036</td>\n",
       "      <td>123036</td>\n",
       "      <td>123036.000000</td>\n",
       "    </tr>\n",
       "    <tr>\n",
       "      <td>unique</td>\n",
       "      <td>123036</td>\n",
       "      <td>364</td>\n",
       "      <td>NaN</td>\n",
       "    </tr>\n",
       "    <tr>\n",
       "      <td>top</td>\n",
       "      <td>1411_214</td>\n",
       "      <td>2018-12-31</td>\n",
       "      <td>NaN</td>\n",
       "    </tr>\n",
       "    <tr>\n",
       "      <td>freq</td>\n",
       "      <td>1</td>\n",
       "      <td>859</td>\n",
       "      <td>NaN</td>\n",
       "    </tr>\n",
       "    <tr>\n",
       "      <td>mean</td>\n",
       "      <td>NaN</td>\n",
       "      <td>NaN</td>\n",
       "      <td>1256.989410</td>\n",
       "    </tr>\n",
       "    <tr>\n",
       "      <td>std</td>\n",
       "      <td>NaN</td>\n",
       "      <td>NaN</td>\n",
       "      <td>143.523967</td>\n",
       "    </tr>\n",
       "    <tr>\n",
       "      <td>min</td>\n",
       "      <td>NaN</td>\n",
       "      <td>NaN</td>\n",
       "      <td>1000.000000</td>\n",
       "    </tr>\n",
       "    <tr>\n",
       "      <td>25%</td>\n",
       "      <td>NaN</td>\n",
       "      <td>NaN</td>\n",
       "      <td>1134.000000</td>\n",
       "    </tr>\n",
       "    <tr>\n",
       "      <td>50%</td>\n",
       "      <td>NaN</td>\n",
       "      <td>NaN</td>\n",
       "      <td>1271.000000</td>\n",
       "    </tr>\n",
       "    <tr>\n",
       "      <td>75%</td>\n",
       "      <td>NaN</td>\n",
       "      <td>NaN</td>\n",
       "      <td>1381.000000</td>\n",
       "    </tr>\n",
       "    <tr>\n",
       "      <td>max</td>\n",
       "      <td>NaN</td>\n",
       "      <td>NaN</td>\n",
       "      <td>1499.000000</td>\n",
       "    </tr>\n",
       "  </tbody>\n",
       "</table>\n",
       "</div>"
      ],
      "text/plain": [
       "              id message_date        user_id\n",
       "count     123036       123036  123036.000000\n",
       "unique    123036          364            NaN\n",
       "top     1411_214   2018-12-31            NaN\n",
       "freq           1          859            NaN\n",
       "mean         NaN          NaN    1256.989410\n",
       "std          NaN          NaN     143.523967\n",
       "min          NaN          NaN    1000.000000\n",
       "25%          NaN          NaN    1134.000000\n",
       "50%          NaN          NaN    1271.000000\n",
       "75%          NaN          NaN    1381.000000\n",
       "max          NaN          NaN    1499.000000"
      ]
     },
     "execution_count": 8,
     "metadata": {},
     "output_type": "execute_result"
    }
   ],
   "source": [
    "#посмотрим общую информацию и её статистическую сводку\n",
    "df_sms.info();df_sms.describe(include = 'all')"
   ]
  },
  {
   "cell_type": "markdown",
   "metadata": {},
   "source": [
    "#### Звонки"
   ]
  },
  {
   "cell_type": "code",
   "execution_count": 9,
   "metadata": {},
   "outputs": [
    {
     "name": "stdout",
     "output_type": "stream",
     "text": [
      "<class 'pandas.core.frame.DataFrame'>\n",
      "RangeIndex: 202607 entries, 0 to 202606\n",
      "Data columns (total 4 columns):\n",
      "id           202607 non-null object\n",
      "call_date    202607 non-null object\n",
      "duration     202607 non-null float64\n",
      "user_id      202607 non-null int64\n",
      "dtypes: float64(1), int64(1), object(2)\n",
      "memory usage: 6.2+ MB\n"
     ]
    },
    {
     "data": {
      "text/html": [
       "<div>\n",
       "<style scoped>\n",
       "    .dataframe tbody tr th:only-of-type {\n",
       "        vertical-align: middle;\n",
       "    }\n",
       "\n",
       "    .dataframe tbody tr th {\n",
       "        vertical-align: top;\n",
       "    }\n",
       "\n",
       "    .dataframe thead th {\n",
       "        text-align: right;\n",
       "    }\n",
       "</style>\n",
       "<table border=\"1\" class=\"dataframe\">\n",
       "  <thead>\n",
       "    <tr style=\"text-align: right;\">\n",
       "      <th></th>\n",
       "      <th>id</th>\n",
       "      <th>call_date</th>\n",
       "      <th>duration</th>\n",
       "      <th>user_id</th>\n",
       "    </tr>\n",
       "  </thead>\n",
       "  <tbody>\n",
       "    <tr>\n",
       "      <td>count</td>\n",
       "      <td>202607</td>\n",
       "      <td>202607</td>\n",
       "      <td>202607.000000</td>\n",
       "      <td>202607.000000</td>\n",
       "    </tr>\n",
       "    <tr>\n",
       "      <td>unique</td>\n",
       "      <td>202607</td>\n",
       "      <td>365</td>\n",
       "      <td>NaN</td>\n",
       "      <td>NaN</td>\n",
       "    </tr>\n",
       "    <tr>\n",
       "      <td>top</td>\n",
       "      <td>1411_214</td>\n",
       "      <td>2018-12-31</td>\n",
       "      <td>NaN</td>\n",
       "      <td>NaN</td>\n",
       "    </tr>\n",
       "    <tr>\n",
       "      <td>freq</td>\n",
       "      <td>1</td>\n",
       "      <td>1435</td>\n",
       "      <td>NaN</td>\n",
       "      <td>NaN</td>\n",
       "    </tr>\n",
       "    <tr>\n",
       "      <td>mean</td>\n",
       "      <td>NaN</td>\n",
       "      <td>NaN</td>\n",
       "      <td>6.755887</td>\n",
       "      <td>1253.940619</td>\n",
       "    </tr>\n",
       "    <tr>\n",
       "      <td>std</td>\n",
       "      <td>NaN</td>\n",
       "      <td>NaN</td>\n",
       "      <td>5.843365</td>\n",
       "      <td>144.722751</td>\n",
       "    </tr>\n",
       "    <tr>\n",
       "      <td>min</td>\n",
       "      <td>NaN</td>\n",
       "      <td>NaN</td>\n",
       "      <td>0.000000</td>\n",
       "      <td>1000.000000</td>\n",
       "    </tr>\n",
       "    <tr>\n",
       "      <td>25%</td>\n",
       "      <td>NaN</td>\n",
       "      <td>NaN</td>\n",
       "      <td>1.300000</td>\n",
       "      <td>1126.000000</td>\n",
       "    </tr>\n",
       "    <tr>\n",
       "      <td>50%</td>\n",
       "      <td>NaN</td>\n",
       "      <td>NaN</td>\n",
       "      <td>6.000000</td>\n",
       "      <td>1260.000000</td>\n",
       "    </tr>\n",
       "    <tr>\n",
       "      <td>75%</td>\n",
       "      <td>NaN</td>\n",
       "      <td>NaN</td>\n",
       "      <td>10.700000</td>\n",
       "      <td>1379.000000</td>\n",
       "    </tr>\n",
       "    <tr>\n",
       "      <td>max</td>\n",
       "      <td>NaN</td>\n",
       "      <td>NaN</td>\n",
       "      <td>38.000000</td>\n",
       "      <td>1499.000000</td>\n",
       "    </tr>\n",
       "  </tbody>\n",
       "</table>\n",
       "</div>"
      ],
      "text/plain": [
       "              id   call_date       duration        user_id\n",
       "count     202607      202607  202607.000000  202607.000000\n",
       "unique    202607         365            NaN            NaN\n",
       "top     1411_214  2018-12-31            NaN            NaN\n",
       "freq           1        1435            NaN            NaN\n",
       "mean         NaN         NaN       6.755887    1253.940619\n",
       "std          NaN         NaN       5.843365     144.722751\n",
       "min          NaN         NaN       0.000000    1000.000000\n",
       "25%          NaN         NaN       1.300000    1126.000000\n",
       "50%          NaN         NaN       6.000000    1260.000000\n",
       "75%          NaN         NaN      10.700000    1379.000000\n",
       "max          NaN         NaN      38.000000    1499.000000"
      ]
     },
     "execution_count": 9,
     "metadata": {},
     "output_type": "execute_result"
    }
   ],
   "source": [
    "#посмотрим общую информацию и её статистическую сводку\n",
    "df_calls.info();df_calls.describe(include = 'all')"
   ]
  },
  {
   "cell_type": "markdown",
   "metadata": {},
   "source": [
    "#### Интернет"
   ]
  },
  {
   "cell_type": "code",
   "execution_count": 10,
   "metadata": {},
   "outputs": [
    {
     "name": "stdout",
     "output_type": "stream",
     "text": [
      "<class 'pandas.core.frame.DataFrame'>\n",
      "RangeIndex: 149396 entries, 0 to 149395\n",
      "Data columns (total 5 columns):\n",
      "Unnamed: 0      149396 non-null int64\n",
      "id              149396 non-null object\n",
      "mb_used         149396 non-null float64\n",
      "session_date    149396 non-null object\n",
      "user_id         149396 non-null int64\n",
      "dtypes: float64(1), int64(2), object(2)\n",
      "memory usage: 5.7+ MB\n"
     ]
    },
    {
     "data": {
      "text/html": [
       "<div>\n",
       "<style scoped>\n",
       "    .dataframe tbody tr th:only-of-type {\n",
       "        vertical-align: middle;\n",
       "    }\n",
       "\n",
       "    .dataframe tbody tr th {\n",
       "        vertical-align: top;\n",
       "    }\n",
       "\n",
       "    .dataframe thead th {\n",
       "        text-align: right;\n",
       "    }\n",
       "</style>\n",
       "<table border=\"1\" class=\"dataframe\">\n",
       "  <thead>\n",
       "    <tr style=\"text-align: right;\">\n",
       "      <th></th>\n",
       "      <th>Unnamed: 0</th>\n",
       "      <th>id</th>\n",
       "      <th>mb_used</th>\n",
       "      <th>session_date</th>\n",
       "      <th>user_id</th>\n",
       "    </tr>\n",
       "  </thead>\n",
       "  <tbody>\n",
       "    <tr>\n",
       "      <td>count</td>\n",
       "      <td>149396.000000</td>\n",
       "      <td>149396</td>\n",
       "      <td>149396.000000</td>\n",
       "      <td>149396</td>\n",
       "      <td>149396.000000</td>\n",
       "    </tr>\n",
       "    <tr>\n",
       "      <td>unique</td>\n",
       "      <td>NaN</td>\n",
       "      <td>149396</td>\n",
       "      <td>NaN</td>\n",
       "      <td>365</td>\n",
       "      <td>NaN</td>\n",
       "    </tr>\n",
       "    <tr>\n",
       "      <td>top</td>\n",
       "      <td>NaN</td>\n",
       "      <td>1411_214</td>\n",
       "      <td>NaN</td>\n",
       "      <td>2018-12-31</td>\n",
       "      <td>NaN</td>\n",
       "    </tr>\n",
       "    <tr>\n",
       "      <td>freq</td>\n",
       "      <td>NaN</td>\n",
       "      <td>1</td>\n",
       "      <td>NaN</td>\n",
       "      <td>1057</td>\n",
       "      <td>NaN</td>\n",
       "    </tr>\n",
       "    <tr>\n",
       "      <td>mean</td>\n",
       "      <td>74697.500000</td>\n",
       "      <td>NaN</td>\n",
       "      <td>370.192426</td>\n",
       "      <td>NaN</td>\n",
       "      <td>1252.099842</td>\n",
       "    </tr>\n",
       "    <tr>\n",
       "      <td>std</td>\n",
       "      <td>43127.054745</td>\n",
       "      <td>NaN</td>\n",
       "      <td>278.300951</td>\n",
       "      <td>NaN</td>\n",
       "      <td>144.050823</td>\n",
       "    </tr>\n",
       "    <tr>\n",
       "      <td>min</td>\n",
       "      <td>0.000000</td>\n",
       "      <td>NaN</td>\n",
       "      <td>0.000000</td>\n",
       "      <td>NaN</td>\n",
       "      <td>1000.000000</td>\n",
       "    </tr>\n",
       "    <tr>\n",
       "      <td>25%</td>\n",
       "      <td>37348.750000</td>\n",
       "      <td>NaN</td>\n",
       "      <td>138.187500</td>\n",
       "      <td>NaN</td>\n",
       "      <td>1130.000000</td>\n",
       "    </tr>\n",
       "    <tr>\n",
       "      <td>50%</td>\n",
       "      <td>74697.500000</td>\n",
       "      <td>NaN</td>\n",
       "      <td>348.015000</td>\n",
       "      <td>NaN</td>\n",
       "      <td>1251.000000</td>\n",
       "    </tr>\n",
       "    <tr>\n",
       "      <td>75%</td>\n",
       "      <td>112046.250000</td>\n",
       "      <td>NaN</td>\n",
       "      <td>559.552500</td>\n",
       "      <td>NaN</td>\n",
       "      <td>1380.000000</td>\n",
       "    </tr>\n",
       "    <tr>\n",
       "      <td>max</td>\n",
       "      <td>149395.000000</td>\n",
       "      <td>NaN</td>\n",
       "      <td>1724.830000</td>\n",
       "      <td>NaN</td>\n",
       "      <td>1499.000000</td>\n",
       "    </tr>\n",
       "  </tbody>\n",
       "</table>\n",
       "</div>"
      ],
      "text/plain": [
       "           Unnamed: 0        id        mb_used session_date        user_id\n",
       "count   149396.000000    149396  149396.000000       149396  149396.000000\n",
       "unique            NaN    149396            NaN          365            NaN\n",
       "top               NaN  1411_214            NaN   2018-12-31            NaN\n",
       "freq              NaN         1            NaN         1057            NaN\n",
       "mean     74697.500000       NaN     370.192426          NaN    1252.099842\n",
       "std      43127.054745       NaN     278.300951          NaN     144.050823\n",
       "min          0.000000       NaN       0.000000          NaN    1000.000000\n",
       "25%      37348.750000       NaN     138.187500          NaN    1130.000000\n",
       "50%      74697.500000       NaN     348.015000          NaN    1251.000000\n",
       "75%     112046.250000       NaN     559.552500          NaN    1380.000000\n",
       "max     149395.000000       NaN    1724.830000          NaN    1499.000000"
      ]
     },
     "execution_count": 10,
     "metadata": {},
     "output_type": "execute_result"
    }
   ],
   "source": [
    "#посмотрим общую информацию и её статистическую сводку\n",
    "df_inet.info();df_inet.describe(include = 'all')"
   ]
  },
  {
   "cell_type": "markdown",
   "metadata": {},
   "source": [
    "По итогам предварительного исследования биллинговых таблиц:\n",
    "* в таблице `df_inet` обнаружен лишний столбец `Unnamed: 0` с индексами, его можно удалить на обработке данных\n",
    "* для оптимизации данных и ввиду поставленной задачи проекта, на этапе предварительной обработки, мы объединим все три таблицы в единую таблицу `df_billing` по сгруппированным `user_id` абонента и номеру месяца, после этого 3 таблицы выгрузим из памяти. Данный шаг позволит оптимальнее видеть картину по потребляемому трафику и оптимизирует память, что тем самым повысит производительность в дальнейшей обработке. После объединения, таблица `df_billing` также будет оптимизирована по типам данных."
   ]
  },
  {
   "cell_type": "markdown",
   "metadata": {},
   "source": [
    "### Проверка таблиц с тарифами"
   ]
  },
  {
   "cell_type": "code",
   "execution_count": 11,
   "metadata": {
    "scrolled": true
   },
   "outputs": [
    {
     "name": "stdout",
     "output_type": "stream",
     "text": [
      "<class 'pandas.core.frame.DataFrame'>\n",
      "RangeIndex: 2 entries, 0 to 1\n",
      "Data columns (total 8 columns):\n",
      "messages_included        2 non-null int64\n",
      "mb_per_month_included    2 non-null int64\n",
      "minutes_included         2 non-null int64\n",
      "rub_monthly_fee          2 non-null int64\n",
      "rub_per_gb               2 non-null int64\n",
      "rub_per_message          2 non-null int64\n",
      "rub_per_minute           2 non-null int64\n",
      "tariff_name              2 non-null object\n",
      "dtypes: int64(7), object(1)\n",
      "memory usage: 256.0+ bytes\n"
     ]
    }
   ],
   "source": [
    "#посмотрим общую информацию и её статистическую сводку\n",
    "df_tariffs.info()"
   ]
  },
  {
   "cell_type": "markdown",
   "metadata": {},
   "source": [
    "Учитывая объем данных, мы не стали рассматривать статистическую сводку.\n",
    "<br>В данной таблице можно уменьшить битность в типах данных `int`, но ввиду незначительного объема данных, это необязательно. "
   ]
  },
  {
   "cell_type": "markdown",
   "metadata": {},
   "source": [
    "### Вывод"
   ]
  },
  {
   "cell_type": "markdown",
   "metadata": {},
   "source": [
    "По итогу предварительного знакомства с данными, нам необходимо будет скорректировать следующие моменты:\n",
    "* типы данных с `object` до `category`, что позволить уменьшить размер таблицы и оптимизировать запросы к ней\n",
    "* уменьшить битность по типам данных `int64`, для оптимизации занимаемой памяти\n",
    "* удалить столбец с индексами в таблице `df_inet`\n",
    "\n",
    "В следующем этапе, мы сформируем следующий набор данных:\n",
    "1. df_users - данные пользователей\n",
    "2. df_tariffs - данные тарифов\n",
    "3. df_billing - объединенные данные биллинга (смс, интернет, звонки)"
   ]
  },
  {
   "cell_type": "markdown",
   "metadata": {},
   "source": [
    "## Подготовка данных"
   ]
  },
  {
   "cell_type": "markdown",
   "metadata": {},
   "source": [
    "На данном этапе нам потребуется привести данные к корректным типам и посчитать на каждого пользователя помесячно данные по биллингу (смс, звонки, интернет), а также выручку.\n",
    "<br>На этапе изучения общей информации, мы обозначили, что биллинговые таблицы будет лучше объединить в одну для удобства по ключу `Номер месяца + ID пользователя`. Поэтому сначала объединим данные биллинга и выгрузим из памяти загруженные таблицы. \n",
    "После этого начнем обработку этой таблицы и остальных."
   ]
  },
  {
   "cell_type": "markdown",
   "metadata": {},
   "source": [
    "### Создание объединенной таблицы биллинга (смс, звонки, интернет)"
   ]
  },
  {
   "cell_type": "markdown",
   "metadata": {},
   "source": [
    "Так как у нас по условиям тарифов \"Мегалайн\", каждый звонок округляется в большую сторону, то перед объединением для корректного учета минут, мы переведем столбец `duration` в таблице `df_calls` в тарифицируемый"
   ]
  },
  {
   "cell_type": "code",
   "execution_count": 12,
   "metadata": {},
   "outputs": [],
   "source": [
    "#округлим длительность звонка по каждой сессии в большую сторону с помощью метода np.ceil() и конвертируем в целое\n",
    "df_calls['duration'] = np.ceil(df_calls['duration']).astype(int)"
   ]
  },
  {
   "cell_type": "markdown",
   "metadata": {},
   "source": [
    "Теперь можем приступить к объединению, предварительно создадим таблицу со всеми `user_id` и номерами месяцев, так мы гарантируем, что все данные из биллинговых таблиц попадут в объединенную таблицу."
   ]
  },
  {
   "cell_type": "code",
   "execution_count": 13,
   "metadata": {},
   "outputs": [],
   "source": [
    "#создаем таблицу биллинга с 12 месяцами, каждого user_id и его тарифа\n",
    "df_billing = pd.merge(df_users.assign(key=1)\n",
    "                      ,pd.DataFrame(list(range(1,13)))\n",
    "                      .assign(key=1)\n",
    "                      , on='key')[['user_id','tariff',0]]\n",
    "#наименования столбцов биллинга\n",
    "df_billing.columns=('user_id','tariff','month')\n",
    "\n",
    "#создадим цикл, который будет перебирать наши таблицы, преобразует в нужный вид и добавит в таблицу `df_billing`\n",
    "#наименования столбцов с датами в очередности перебора таблиц смс, звонки, интернет\n",
    "date_names = ['message','call','call','session']\n",
    "#пробежимся по таблицам (первые 2 таблицы в списке для подсчета количества, остальные суммы), изменим формат даты, сгруппируем и запишем\n",
    "n = 0 #счетчик по date_names\n",
    "for df in [df_sms,df_calls,df_calls,df_inet]:\n",
    "    #сводная таблица\n",
    "    df_pvt = None\n",
    "    #переименуем столбец\n",
    "    df.rename(columns={date_names[n]+'_date':'month'}, inplace=True)\n",
    "    #преобразуем в дату и конвертируем сразу в номер месяца, проверка на тип т.к. я прогоняю df_calls 2 раза\n",
    "    if df['month'].dtype=='object': df['month'] = pd.to_datetime(df['month'], format='%Y-%m-%d').dt.month\n",
    "    #добавим данные в df_billing\n",
    "    if n <=1:#если это сообщения и звонки, то считаем только их количество, по остальным столбцам n>1 суммирование\n",
    "        df_grp = df.loc[:, ~df.columns.isin(['id','Unnamed: 0'])].groupby(['month','user_id']).size().reset_index(name=date_names[n]+'_count')\n",
    "    else:\n",
    "        df_grp = df.loc[:, ~df.columns.isin(['id','Unnamed: 0'])].groupby(['month','user_id']).sum().reset_index()\n",
    "    #добавляем данные в таблицу   \n",
    "    df_billing = df_billing.merge(df_grp,on=['user_id','month'],how='left')\n",
    "    #сдвигаем счетчик для след таблицы\n",
    "    n += 1\n",
    "\n",
    "#удаляем строки, абоненты по которым не пользовались связью\n",
    "df_billing = df_billing.dropna(subset=['message_count','call_count','duration','mb_used'], how='all').reset_index(drop = True)"
   ]
  },
  {
   "cell_type": "markdown",
   "metadata": {},
   "source": [
    "Как и отмечали ранее, после создания единой таблицы, отдельные таблицы мы можем удалить, чтобы не занимать память."
   ]
  },
  {
   "cell_type": "code",
   "execution_count": 14,
   "metadata": {},
   "outputs": [],
   "source": [
    "df_sms = None\n",
    "df_calls = None\n",
    "df_inet = None"
   ]
  },
  {
   "cell_type": "markdown",
   "metadata": {},
   "source": [
    "После данного этапа, мы сможем использовать 3 основные таблицы с данными пользоваталей, их тарифами и расходованию услуг связи.\n",
    "Для полной адаптации к анализу, нам будет необходимо изменить типы данных в столбцах, что сделаем в следующем этапе."
   ]
  },
  {
   "cell_type": "markdown",
   "metadata": {},
   "source": [
    "### Замена типов данных"
   ]
  },
  {
   "cell_type": "markdown",
   "metadata": {},
   "source": [
    "На данном этапе, нам будет необходимо конвертировать часть столбцов в иной тип данных и по части столбцов понизить битность типов до максимально возможного."
   ]
  },
  {
   "cell_type": "code",
   "execution_count": 15,
   "metadata": {},
   "outputs": [],
   "source": [
    "#предварительно создадим функцию для определения занимамемой памяти\n",
    "def mem_usage(pandas_obj):\n",
    "    if isinstance(pandas_obj,pd.DataFrame):\n",
    "        usage_b = pandas_obj.memory_usage(deep=True).sum()\n",
    "    else: # исходим из предположения о том, что если это не DataFrame, то это Series\n",
    "        usage_b = pandas_obj.memory_usage(deep=True)\n",
    "    usage_mb = usage_b / 1024 ** 2 # преобразуем байты в мегабайты\n",
    "    return \"{:03.2f}\".format(usage_mb)"
   ]
  },
  {
   "cell_type": "markdown",
   "metadata": {},
   "source": [
    "#### Таблица с абонентами `df_users`"
   ]
  },
  {
   "cell_type": "code",
   "execution_count": 16,
   "metadata": {},
   "outputs": [
    {
     "name": "stdout",
     "output_type": "stream",
     "text": [
      "Таблица до изменений типов данных занимает в памяти: 0.22 МБ\n",
      "Таблица после изменений типов данных занимает в памяти: 0.14 МБ\n"
     ]
    }
   ],
   "source": [
    "print('Таблица до изменений типов данных занимает в памяти:',mem_usage(df_users),'МБ')\n",
    "#оптимизация по типу данных 'object'\n",
    "df_users[['city','first_name','tariff']] = df_users[['city','first_name','tariff']].astype('category')\n",
    "#оптимизация по типу данных 'int'\n",
    "df_users[df_users.select_dtypes(include=['int']).columns] = df_users.select_dtypes(include=['int']).apply(pd.to_numeric,downcast='integer')\n",
    "#эффект\n",
    "print('Таблица после изменений типов данных занимает в памяти:',mem_usage(df_users),'МБ')"
   ]
  },
  {
   "cell_type": "markdown",
   "metadata": {},
   "source": [
    "#### Таблица с биллингом `df_billing`"
   ]
  },
  {
   "cell_type": "code",
   "execution_count": 17,
   "metadata": {},
   "outputs": [
    {
     "name": "stdout",
     "output_type": "stream",
     "text": [
      "<class 'pandas.core.frame.DataFrame'>\n",
      "RangeIndex: 3214 entries, 0 to 3213\n",
      "Data columns (total 7 columns):\n",
      "user_id          3214 non-null int64\n",
      "tariff           3214 non-null object\n",
      "month            3214 non-null int64\n",
      "message_count    2717 non-null float64\n",
      "call_count       3174 non-null float64\n",
      "duration         3174 non-null float64\n",
      "mb_used          3203 non-null float64\n",
      "dtypes: float64(4), int64(2), object(1)\n",
      "memory usage: 175.9+ KB\n"
     ]
    },
    {
     "data": {
      "text/html": [
       "<div>\n",
       "<style scoped>\n",
       "    .dataframe tbody tr th:only-of-type {\n",
       "        vertical-align: middle;\n",
       "    }\n",
       "\n",
       "    .dataframe tbody tr th {\n",
       "        vertical-align: top;\n",
       "    }\n",
       "\n",
       "    .dataframe thead th {\n",
       "        text-align: right;\n",
       "    }\n",
       "</style>\n",
       "<table border=\"1\" class=\"dataframe\">\n",
       "  <thead>\n",
       "    <tr style=\"text-align: right;\">\n",
       "      <th></th>\n",
       "      <th>user_id</th>\n",
       "      <th>tariff</th>\n",
       "      <th>month</th>\n",
       "      <th>message_count</th>\n",
       "      <th>call_count</th>\n",
       "      <th>duration</th>\n",
       "      <th>mb_used</th>\n",
       "    </tr>\n",
       "  </thead>\n",
       "  <tbody>\n",
       "    <tr>\n",
       "      <td>count</td>\n",
       "      <td>3214.000000</td>\n",
       "      <td>3214</td>\n",
       "      <td>3214.000000</td>\n",
       "      <td>2717.000000</td>\n",
       "      <td>3174.000000</td>\n",
       "      <td>3174.000000</td>\n",
       "      <td>3203.000000</td>\n",
       "    </tr>\n",
       "    <tr>\n",
       "      <td>unique</td>\n",
       "      <td>NaN</td>\n",
       "      <td>2</td>\n",
       "      <td>NaN</td>\n",
       "      <td>NaN</td>\n",
       "      <td>NaN</td>\n",
       "      <td>NaN</td>\n",
       "      <td>NaN</td>\n",
       "    </tr>\n",
       "    <tr>\n",
       "      <td>top</td>\n",
       "      <td>NaN</td>\n",
       "      <td>smart</td>\n",
       "      <td>NaN</td>\n",
       "      <td>NaN</td>\n",
       "      <td>NaN</td>\n",
       "      <td>NaN</td>\n",
       "      <td>NaN</td>\n",
       "    </tr>\n",
       "    <tr>\n",
       "      <td>freq</td>\n",
       "      <td>NaN</td>\n",
       "      <td>2229</td>\n",
       "      <td>NaN</td>\n",
       "      <td>NaN</td>\n",
       "      <td>NaN</td>\n",
       "      <td>NaN</td>\n",
       "      <td>NaN</td>\n",
       "    </tr>\n",
       "    <tr>\n",
       "      <td>mean</td>\n",
       "      <td>1251.590230</td>\n",
       "      <td>NaN</td>\n",
       "      <td>8.317362</td>\n",
       "      <td>45.283769</td>\n",
       "      <td>63.833333</td>\n",
       "      <td>456.931632</td>\n",
       "      <td>17266.708626</td>\n",
       "    </tr>\n",
       "    <tr>\n",
       "      <td>std</td>\n",
       "      <td>144.659172</td>\n",
       "      <td>NaN</td>\n",
       "      <td>2.905413</td>\n",
       "      <td>35.051363</td>\n",
       "      <td>32.678036</td>\n",
       "      <td>238.031270</td>\n",
       "      <td>7516.356902</td>\n",
       "    </tr>\n",
       "    <tr>\n",
       "      <td>min</td>\n",
       "      <td>1000.000000</td>\n",
       "      <td>NaN</td>\n",
       "      <td>1.000000</td>\n",
       "      <td>1.000000</td>\n",
       "      <td>1.000000</td>\n",
       "      <td>0.000000</td>\n",
       "      <td>0.000000</td>\n",
       "    </tr>\n",
       "    <tr>\n",
       "      <td>25%</td>\n",
       "      <td>1125.000000</td>\n",
       "      <td>NaN</td>\n",
       "      <td>6.000000</td>\n",
       "      <td>19.000000</td>\n",
       "      <td>41.000000</td>\n",
       "      <td>290.000000</td>\n",
       "      <td>12526.905000</td>\n",
       "    </tr>\n",
       "    <tr>\n",
       "      <td>50%</td>\n",
       "      <td>1253.000000</td>\n",
       "      <td>NaN</td>\n",
       "      <td>9.000000</td>\n",
       "      <td>38.000000</td>\n",
       "      <td>63.000000</td>\n",
       "      <td>447.000000</td>\n",
       "      <td>16963.110000</td>\n",
       "    </tr>\n",
       "    <tr>\n",
       "      <td>75%</td>\n",
       "      <td>1378.750000</td>\n",
       "      <td>NaN</td>\n",
       "      <td>11.000000</td>\n",
       "      <td>63.000000</td>\n",
       "      <td>83.000000</td>\n",
       "      <td>592.000000</td>\n",
       "      <td>21432.175000</td>\n",
       "    </tr>\n",
       "    <tr>\n",
       "      <td>max</td>\n",
       "      <td>1499.000000</td>\n",
       "      <td>NaN</td>\n",
       "      <td>12.000000</td>\n",
       "      <td>224.000000</td>\n",
       "      <td>244.000000</td>\n",
       "      <td>1673.000000</td>\n",
       "      <td>49745.690000</td>\n",
       "    </tr>\n",
       "  </tbody>\n",
       "</table>\n",
       "</div>"
      ],
      "text/plain": [
       "            user_id tariff        month  message_count   call_count  \\\n",
       "count   3214.000000   3214  3214.000000    2717.000000  3174.000000   \n",
       "unique          NaN      2          NaN            NaN          NaN   \n",
       "top             NaN  smart          NaN            NaN          NaN   \n",
       "freq            NaN   2229          NaN            NaN          NaN   \n",
       "mean    1251.590230    NaN     8.317362      45.283769    63.833333   \n",
       "std      144.659172    NaN     2.905413      35.051363    32.678036   \n",
       "min     1000.000000    NaN     1.000000       1.000000     1.000000   \n",
       "25%     1125.000000    NaN     6.000000      19.000000    41.000000   \n",
       "50%     1253.000000    NaN     9.000000      38.000000    63.000000   \n",
       "75%     1378.750000    NaN    11.000000      63.000000    83.000000   \n",
       "max     1499.000000    NaN    12.000000     224.000000   244.000000   \n",
       "\n",
       "           duration       mb_used  \n",
       "count   3174.000000   3203.000000  \n",
       "unique          NaN           NaN  \n",
       "top             NaN           NaN  \n",
       "freq            NaN           NaN  \n",
       "mean     456.931632  17266.708626  \n",
       "std      238.031270   7516.356902  \n",
       "min        0.000000      0.000000  \n",
       "25%      290.000000  12526.905000  \n",
       "50%      447.000000  16963.110000  \n",
       "75%      592.000000  21432.175000  \n",
       "max     1673.000000  49745.690000  "
      ]
     },
     "execution_count": 17,
     "metadata": {},
     "output_type": "execute_result"
    }
   ],
   "source": [
    "#посмотрим общую информацию по сведенной таблице\n",
    "df_billing.info()\n",
    "df_billing.describe(include = 'all')"
   ]
  },
  {
   "cell_type": "markdown",
   "metadata": {},
   "source": [
    "По текущей таблице можно провести следующую обработку:\n",
    "1. столбцы с `int64` и `float64` понизим до максимально возможной битности\n",
    "2. столбец с тарифом конвертируем из `object` в `category` т.к. у нас там всего 2 уникальных значения"
   ]
  },
  {
   "cell_type": "code",
   "execution_count": 18,
   "metadata": {},
   "outputs": [
    {
     "name": "stdout",
     "output_type": "stream",
     "text": [
      "Таблица до изменений типов данных занимает в памяти: 0.34 МБ\n",
      "Таблица после изменений типов данных занимает в памяти: 0.06 МБ\n"
     ]
    }
   ],
   "source": [
    "print('Таблица до изменений типов данных занимает в памяти:',mem_usage(df_billing),'МБ')\n",
    "#оптимизация по типу данных int\n",
    "df_billing[df_billing.select_dtypes(include=['integer']).columns] = df_billing.select_dtypes(include=['integer']).apply(pd.to_numeric,downcast='integer')\n",
    "#оптимизация по типу данных float\n",
    "df_billing[df_billing.select_dtypes(include=['floating']).columns] = df_billing.select_dtypes(include=['floating']).apply(pd.to_numeric,downcast='float')\n",
    "#оптимизация по типу данных 'object'\n",
    "df_billing[df_billing.select_dtypes(include=['object']).columns] = df_billing.select_dtypes(include=['object']).astype('category')\n",
    "#эффект\n",
    "print('Таблица после изменений типов данных занимает в памяти:',mem_usage(df_billing),'МБ')"
   ]
  },
  {
   "cell_type": "markdown",
   "metadata": {},
   "source": [
    "#### Вывод\n",
    "Так как таблицы с смс, звонками и интернетом объединились в одну, то мы их удалили из памяти и нам не пришлось прибегать к исправлению ошибок в части лишнего столбца в таблице `df_inet`.\n",
    "<br>На этапе замены типов данных мы оптимизировали наши основные таблицы, как видно по результатам, таблица с пользователям уменьшилась на 36%, а таблица биллинга на 82%. В данном примере у нас объемы данных не такие большие в МБ, но если бы мы имели более 1 млн.строк, то данная оптимизация оказала бы существенное влияние на потребление ресурсов памяти, а также нагрузку на процессор при обработке.\n",
    "<br>Также в рамках процедур выше мы подготовили показатели сообщений, звонков и интернет-трафика к тарифицируемым, что позволяет нам перейти к следующему этапу, расчету выручки."
   ]
  },
  {
   "cell_type": "markdown",
   "metadata": {},
   "source": [
    "### Расчет выручки\n",
    "Основную базу для расчета выручки мы подготовили на предыдущих этапах. \n",
    "<br>Создадим функцию `rev_calc`, которая рассчитает выручку по каждому абоненту в новом столбце `revenue`."
   ]
  },
  {
   "cell_type": "code",
   "execution_count": 19,
   "metadata": {},
   "outputs": [],
   "source": [
    "#функция для расчета выручки\n",
    "def rev_calc(row):\n",
    "    #название тарифа из словаря\n",
    "    id_tarrif = row['tariff']\n",
    "    #выручка по смс\n",
    "    sms_cost = df_tariffs.loc[df_tariffs['tariff_name']==id_tarrif,'rub_per_message'].values[0] #стоимость за 1 сообщение\n",
    "    sms_lim = df_tariffs.loc[df_tariffs['tariff_name']==id_tarrif,'messages_included'].values[0] #лимит по тарифу\n",
    "    sms_used = row['message_count'] #использовано\n",
    "    sms_rev = (sms_used-sms_lim)*sms_cost if sms_used > sms_lim else 0 #если вышли за лимит, расчёт\n",
    "    #выручка по звонкам\n",
    "    call_cost = df_tariffs[df_tariffs['tariff_name']==id_tarrif]['rub_per_minute'].values[0] #стоимость за 1 минуту\n",
    "    call_lim = df_tariffs[df_tariffs['tariff_name']==id_tarrif]['minutes_included'].values[0] #лимит по тарифу\n",
    "    call_used = row['duration'] #использовано\n",
    "    call_rev = (call_used-call_lim)*call_cost if call_used > call_lim else 0 #если вышли за лимит, расчёт\n",
    "    #выручка за интернет\n",
    "    inet_cost = df_tariffs[df_tariffs['tariff_name']==id_tarrif]['rub_per_gb'].values[0] #стоимость за 1 ГБ\n",
    "    inet_lim = df_tariffs[df_tariffs['tariff_name']==id_tarrif]['mb_per_month_included'].values[0]/1024 #лимит по тарифу в ГБ\n",
    "    inet_used = np.ceil(row['mb_used']/1024) #использовано\n",
    "    inet_rev = (inet_used-inet_lim)*inet_cost if inet_used > inet_lim else 0 #если вышли за лимит, расчёт\n",
    "    #абонентская плата\n",
    "    fee_m = df_tariffs[df_tariffs['tariff_name']==id_tarrif]['rub_monthly_fee'].values[0]\n",
    "    #итого выручка\n",
    "    rev_total = fee_m + sms_rev + call_rev + inet_rev\n",
    "    #возвращаем результат\n",
    "    return rev_total"
   ]
  },
  {
   "cell_type": "code",
   "execution_count": 20,
   "metadata": {},
   "outputs": [],
   "source": [
    "#расчитаем выручку по каждому абоненту\n",
    "df_billing['revenue'] = df_billing.apply(rev_calc, axis=1)"
   ]
  },
  {
   "cell_type": "markdown",
   "metadata": {},
   "source": [
    "### Вывод"
   ]
  },
  {
   "cell_type": "markdown",
   "metadata": {},
   "source": [
    "На этапе подготовки данных мы выполнили ряд процедур, таких как:\n",
    "1. создание объединенной таблицы по биллинговым данным (смс, звонкам и интернету), что позволило нам упростить выборку данных и анализ\n",
    "2. корректировка типов данных, что позволяет ускорить обращение к таблице т.к. процедуры позволяет сэкономить занимаемое место в памяти\n",
    "3. расчёт выручки помесячно по каждому абоненту с учетом всех условий тарифа и условий тарификации оператора «Мегалайн». "
   ]
  },
  {
   "cell_type": "markdown",
   "metadata": {},
   "source": [
    "## Анализ и описание данных\n",
    "После того как мы изучили данные и привели их в необходимый вид, мы можем приступить к анализу данных.\n",
    "На данном этапе мы изучим поведений клиентов оператора, исходя из имеющеюхся данных."
   ]
  },
  {
   "cell_type": "markdown",
   "metadata": {},
   "source": [
    "### Потребление трафика"
   ]
  },
  {
   "cell_type": "markdown",
   "metadata": {},
   "source": [
    "Рассмотрим поведение клиентов по составляющим трафика (минуты, смс и интернет) в разрезе каждого тарифа.\n",
    "Для этого мы создадим 3 функции:\n",
    "1. для очистки явных выбросов\n",
    "2. для расчета показателей средней, дисперсии, стандартного отклонения\n",
    "3. для построения графиков"
   ]
  },
  {
   "cell_type": "markdown",
   "metadata": {},
   "source": [
    "Первую функцию мы будем использовать только для звонков и интернета, т.к. мы оцениваем реальное поведение абонентов и не можем судить по всем данным т.к. н-р если абонент подключился в июле, потребил 1 гб интернета, а в августе 15, тогда реальное среднее потребление будет искажено."
   ]
  },
  {
   "cell_type": "code",
   "execution_count": 160,
   "metadata": {},
   "outputs": [],
   "source": [
    "# Функция для очистки явных выбросов\n",
    "#мы создаем словарь со средними по необходимому нам показателю (н-р интернет)\n",
    "#затем сравниваем каждую строку абонента от общей средней абонента\n",
    "#отсекаем строки, которые ниже clear_level\n",
    "#приемлеемый уровень очистки - до 10%\n",
    "def df_outliers_clear(data_col,clear_level):\n",
    "    dic_means = df_billing.groupby('user_id')[data_col].mean().to_dict()\n",
    "    df_return = df_billing[df_billing[data_col]/df_billing.apply(lambda x: dic_means.get(x['user_id']),axis=1)>=clear_level].reset_index(drop=True)\n",
    "    print('График построен по очищенным на',f'{1-len(df_return)/len(df_billing):.1%}','данным')\n",
    "    return df_return"
   ]
  },
  {
   "cell_type": "code",
   "execution_count": 161,
   "metadata": {},
   "outputs": [],
   "source": [
    "# Функция расчета показателей средней, дисперсии, стандартного отклонения\n",
    "def stats_x(data):\n",
    "    var_mean = np.mean(data) #среднее значение\n",
    "    var_est = np.var(data, ddof=1) #дисперсия, так как у нас выборка, то используем параметр ddof=1\n",
    "    var_st_dev = np.sqrt(var_est) #стандартное отклонение\n",
    "    return var_mean,var_est,var_st_dev"
   ]
  },
  {
   "cell_type": "code",
   "execution_count": 162,
   "metadata": {},
   "outputs": [],
   "source": [
    "# Функция для построения графиков\n",
    "def create_chart(df, y_name, title_v, ylbl, b1, b2, b3, limit_v, loc_v,):\n",
    "    #устанавливаем размер и параметры\n",
    "    plt.figure(figsize=(15, 9))\n",
    "    plt.subplots_adjust(left=0.125, bottom=None, right=None, top=None, wspace=0.04, hspace=0.12)\n",
    "    ax1 = plt.subplot(2,2,1); ax2 = plt.subplot(2,2,2); ax3 = plt.subplot(2,1,2)\n",
    "    axes = [ax1, ax2, ax3]\n",
    "    ax4=ax3.twinx()\n",
    "    #присоединяем данные\n",
    "    df[df['tariff']=='smart'].plot(ax=ax1, y=y_name, kind='hist', bins=b1, grid=True,legend=False)\n",
    "    df[df['tariff']=='ultra'].plot(ax=ax2, y=y_name, kind='hist', bins=b1, grid=True,legend=False)\n",
    "    df[df['tariff']=='smart'].plot(ax=ax3, y=[y_name],  kind='hist', bins=b2, grid=True,legend=True, alpha = 0.3, label = ['Smart'], color=\"r\")\n",
    "    df[df['tariff']=='ultra'].plot(ax=ax4, y=[y_name],  kind='hist',bins=b3, legend=True, alpha = 0.2, color=\"b\", label = ['Ultra'])\n",
    "    #добавим заголовки\n",
    "    plt.suptitle(\"Сравнение тарифов по услуге: \" + title_v, y=0.94, fontsize=14, fontweight='bold')\n",
    "    ax1.axes.set_title('Smart', fontsize=14); ax2.axes.set_title('Ultra', fontsize=14)\n",
    "    #подписи осей\n",
    "    ax1.axes.set_ylabel(\"Частота использования\", fontsize=12); ax1.yaxis.set_label_coords(-0.08,-0.1)\n",
    "    ax2.yaxis.tick_right() # сместим на правую сторону шкалу\n",
    "    ax3.axes.set_xlabel(\"Количество \" + ylbl, fontsize=12); ax3.xaxis.set_label_coords(0.5,-0.1)\n",
    "    for ax_v in (ax2,ax3,ax4): ax_v.axes.set_ylabel(\"\") #уберем подписи к осям у некоторых графиков\n",
    "    #легенда для третьего графика\n",
    "    ax3.axes.legend(loc=3, bbox_to_anchor= (0.9, 0.9), ncol=1,borderaxespad=0, frameon=False, fontsize=11)\n",
    "    ax4.axes.legend(loc=2, bbox_to_anchor= (0.9, 0.9), ncol=1,borderaxespad=0, frameon=False, fontsize=11)\n",
    "    #добавляем надписи по средней, стандартному отклонению и лимитам\n",
    "    #заранее определяем формат, если интернет то знак 1, если нет то целое\n",
    "    f = '{:.1f}' if y_name=='gb_used' else '{:.0f}'\n",
    "    lim_div = 1024 if y_name=='gb_used' else 1 #для столбца лимита\n",
    "    #среднее 1 график\n",
    "    ax1_mean = stats_x(df[df['tariff']=='smart'][y_name])[0]\n",
    "    ax1.axvline(ax1_mean, color='k', linestyle='--', linewidth=1.1)\n",
    "    ax1.text(ax1_mean*1.01, ax1.get_ylim()[1]*0.95, 'ср.: '+f.format(ax1_mean), fontsize=12, color='g')\n",
    "    #среднее 2 график\n",
    "    ax2_mean = stats_x(df[df['tariff']=='ultra'][y_name])[0]\n",
    "    ax2.axvline(ax2_mean, color='k', linestyle='--', linewidth=1.1)\n",
    "    ax2.text(ax2_mean*1.01, ax2.get_ylim()[1]*0.95, 'ср.: '+f.format(ax2_mean), fontsize=12, color='g')\n",
    "    #\n",
    "    #стандартное отклонение 1 график\n",
    "    ax1_std = stats_x(df[df['tariff']=='smart'][y_name])[2]\n",
    "    ax1.text(ax1.get_xlim()[1]*0.78, ax1.get_ylim()[1]*0.95, 'σ: '+f.format(ax1_std), fontsize=12, color='b')\n",
    "    ax1.axvline(ax1_mean-ax1_std, color='b', linestyle=':', linewidth=1.2)\n",
    "    ax1.axvline(ax1_mean+ax1_std, color='b', linestyle=':', linewidth=1.2)\n",
    "    #стандартное отклонение 2 график\n",
    "    ax2_std = stats_x(df[df['tariff']=='ultra'][y_name])[2]\n",
    "    ax2.text(ax2.get_xlim()[1]*0.78, ax2.get_ylim()[1]*0.95, 'σ: '+f.format(ax2_std), fontsize=12, color='b')\n",
    "    ax2.axvline(ax2_mean-ax2_std, color='b', linestyle=':', linewidth=1.2)\n",
    "    ax2.axvline(ax2_mean+ax2_std, color='b', linestyle=':', linewidth=1.2)\n",
    "    #\n",
    "    #лимит по 1 графику\n",
    "    ax_1_limit = df_tariffs[df_tariffs['tariff_name']=='smart'][limit_v].values[0]/lim_div\n",
    "    ax1.text(ax1.get_xlim()[1]*0.78, ax1.get_ylim()[1]*0.89, 'лимит: {:.0f}'.format(ax_1_limit), fontsize=12, color='r')\n",
    "    #лимит по 2 графику\n",
    "    ax_2_limit = df_tariffs[df_tariffs['tariff_name']=='ultra'][limit_v].values[0]/lim_div\n",
    "    ax2.text(ax2.get_xlim()[1]*0.78, ax2.get_ylim()[1]*0.89, 'лимит: {:.0f}'.format(ax_2_limit), fontsize=12, color='r')\n",
    "    #\n",
    "    #по оси X скорректируем промежутки для более удобной интерпритации данных\n",
    "    loc = plticker.MultipleLocator(base=loc_v) #loc_v указываем на какие промежутки будем резать ось\n",
    "    ax1.xaxis.set_major_locator(loc)\n",
    "    ax2.xaxis.set_major_locator(loc)\n",
    "    ax3.xaxis.set_major_locator(loc)\n",
    "    #отразить график\n",
    "    plt.show()"
   ]
  },
  {
   "cell_type": "markdown",
   "metadata": {},
   "source": [
    "#### Минуты"
   ]
  },
  {
   "cell_type": "code",
   "execution_count": 163,
   "metadata": {
    "scrolled": false
   },
   "outputs": [
    {
     "name": "stdout",
     "output_type": "stream",
     "text": [
      "График построен по очищенным на 6.7% данным\n"
     ]
    },
    {
     "data": {
      "image/png": "[encoded data removed]",
      "text/plain": [
       "<Figure size 1080x648 with 4 Axes>"
      ]
     },
     "metadata": {
      "needs_background": "light"
     },
     "output_type": "display_data"
    }
   ],
   "source": [
    "create_chart(df_outliers_clear('call_count',0.4),'call_count','Звонки','звонков',30,40,40,'minutes_included',20)"
   ]
  },
  {
   "cell_type": "markdown",
   "metadata": {},
   "source": [
    "При сравнении тарифов, можно выделить следующее:\n",
    "1. среднее потребление по тарифу `Smart` составляет 61 минут, против 80 минут по тарифу `Ultra`\n",
    "2. стандартное отклонение по тарифу `Ultra` больше, 41 против 24 минут\n",
    "3. все абоненты двух тарифов не использует полностью лимит минут\n",
    "4. на сравнительном графике распределения минут по двум тарифам, что большие всплески на `Smart` наблюдается примерно на 50-70 минутах, а на `Ultra` на 80 минутах."
   ]
  },
  {
   "cell_type": "markdown",
   "metadata": {},
   "source": [
    "#### Сообщения"
   ]
  },
  {
   "cell_type": "code",
   "execution_count": 164,
   "metadata": {
    "scrolled": false
   },
   "outputs": [
    {
     "data": {
      "image/png": "[encoded data removed]",
      "text/plain": [
       "<Figure size 1080x648 with 4 Axes>"
      ]
     },
     "metadata": {
      "needs_background": "light"
     },
     "output_type": "display_data"
    }
   ],
   "source": [
    "create_chart(df_billing,'message_count','SMS','сообщений', 30, 40, 40,'messages_included',20)"
   ]
  },
  {
   "cell_type": "markdown",
   "metadata": {},
   "source": [
    "При сравнении тарифов, можно выделить следующее:\n",
    "1. среднее потребление по тарифу `Smart` составляет 39 сообщений, против 61 по тарифу Ultra\n",
    "2. стандартное отклонение по тарифу `Ultra` больше, 46 сообщений против 27\n",
    "3. абоненты `Ultra` не используют предоставленный лимит полностью, при этом по `Smart` абоненты в основном укладываются в лимит 50 соообщений, но при этом многие абоненты выходят из лимита и отправляют СМС за отдельную плату\n",
    "4. на сравнительном графике распределения смс по двум тарифам наблюдается всплески на `Ultra` в начале левой части графика, что говорит нам о не особой заинтересованности этих абонентов в использовании смс-сообщений. "
   ]
  },
  {
   "cell_type": "markdown",
   "metadata": {},
   "source": [
    "#### Интернет"
   ]
  },
  {
   "cell_type": "code",
   "execution_count": 165,
   "metadata": {
    "scrolled": false
   },
   "outputs": [
    {
     "name": "stdout",
     "output_type": "stream",
     "text": [
      "График построен по очищенным на 5.8% данным\n"
     ]
    },
    {
     "data": {
      "image/png": "[encoded data removed]",
      "text/plain": [
       "<Figure size 1080x648 with 4 Axes>"
      ]
     },
     "metadata": {
      "needs_background": "light"
     },
     "output_type": "display_data"
    }
   ],
   "source": [
    "#создадим столбец в Гб\n",
    "df_billing['gb_used'] = df_billing['mb_used']/1024\n",
    "#график\n",
    "create_chart(df_outliers_clear('gb_used',0.4),'gb_used','Интернет','Гб интернет-трафика', 30, 40, 40,'mb_per_month_included',5)"
   ]
  },
  {
   "cell_type": "markdown",
   "metadata": {},
   "source": [
    "При сравнении тарифов в части интернета, можно выделить следующее:\n",
    "1. среднее потребление по тарифу `Smart` составляет 16.5Гб, против 20.2Гб по тарифу Ultra\n",
    "2. стандартное отклонение по тарифу `Ultra` больше, 9.1Гб против 5Гб\n",
    "3. большая часть абонентов по тарифу `Smart` использует интернет сверх лимита в 15Гб, при этом на тарифе `Ultra` большая часть абонентов укладывается в лимит 30Гб.\n",
    "4. на сравнительном графике распределения трафика по двум тарифам, что по тарифу `Smart` наблюдается более выраженное распределение в промежутке с 11 по 22 Гб, о чем мы не можем сказать об абонентах `Ultra`, где выражены всплески в районе 10 Гб, с 15 по 22 и с 25 по 28 Гб."
   ]
  },
  {
   "cell_type": "markdown",
   "metadata": {},
   "source": [
    "### Вывод\n",
    "Как мы видим, поведение абонентов разных тарифов имеют различия, что вполне логично.\n",
    "<br>Но мы также наблюдаем, что потребление в некоторых направлениях не столь разительно отличается, например в количестве минут, в `Smart` максимальное потребление составляет около 140 минут, а у `Ultra` 200 минут, при этом лимит у первой 500 минут, а второго 3000 минут.\n",
    "<br>Тогда вопрос, стоит ли закладывать такие лимиты, если фактически абоненты их не используют и возможно это снизит цену тарифа? Но в этом мы также не можем быть уверены т.к. владеем только выборкой, а не генеральной совокупностью.\n",
    "<br><br>В части статистических показателей, то как и ожидалось, средние показатели имели по `Ultra` имели более высокие показатели, но еще стоит обратить внимание на показатель стандартного отклонения, по `Ultra` он заметно выше чем на `Smart`. Можем предположить, что количество таких абонентов просто меньше, или потребности у данных абонентов в рамках одной группы отличаются. Например, предположим, что кто-то может брать себе такой тариф, потому что он может себе это позволить, но не использовать его практически, но есть и те, кто подключает его себе из-за действительной необходимости."
   ]
  },
  {
   "cell_type": "markdown",
   "metadata": {},
   "source": [
    "## Проверка гипотез и пояснения"
   ]
  },
  {
   "cell_type": "markdown",
   "metadata": {},
   "source": [
    "Для удобства проверки гипотез создадим функцию, которая будет выдавать результат по заранее представленным аналитикам.\n",
    "Используем метод для проверки гипотезы о равенстве среднего двух генеральных совокупностей по взятым из них выборкам `scipy.stats.ttest_ind (array1, array2,equal_var)`"
   ]
  },
  {
   "cell_type": "code",
   "execution_count": 166,
   "metadata": {},
   "outputs": [],
   "source": [
    "def hyp_test(col_name,col_v):\n",
    "    #сделаем условие, где первая выручка равна переданному значение, а другая наоборот, что будет соответствовать логике наших гипотез\n",
    "    revenue_1 = df_billing[df_billing[col_name]==col_v]['revenue']\n",
    "    revenue_2 = df_billing[df_billing[col_name]!=col_v]['revenue']\n",
    "    # критический уровень статистической значимости\n",
    "    alpha = .05\n",
    "    # результаты расчета\n",
    "    results = st.ttest_ind(revenue_1, revenue_2)\n",
    "    #отразим p-значение\n",
    "    print('p-значение: ', results.pvalue)\n",
    "    #проверка\n",
    "    if results.pvalue < alpha:\n",
    "        print(\"Отвергаем нулевую гипотезу\")\n",
    "    else:\n",
    "        print(\"Не получилось отвергнуть нулевую гипотезу\")  "
   ]
  },
  {
   "cell_type": "markdown",
   "metadata": {},
   "source": [
    "### Гипотеза 1\n",
    "Проверим, различается ли средняя выручка пользователей тарифов «Ultra» и «Smart», для этого сформируем нулевую и альтернативную гипотезы:\n",
    "* **Н0** - средняя выручка абонентов \"Smart\" и \"Ultra\" равны\n",
    "* **Н1** - средняя выручка абонентов \"Smart\" и \"Ultra\" различается"
   ]
  },
  {
   "cell_type": "code",
   "execution_count": 167,
   "metadata": {},
   "outputs": [
    {
     "name": "stdout",
     "output_type": "stream",
     "text": [
      "p-значение:  1.4229814360764067e-160\n",
      "Отвергаем нулевую гипотезу\n"
     ]
    }
   ],
   "source": [
    "hyp_test('tariff','smart')"
   ]
  },
  {
   "cell_type": "markdown",
   "metadata": {},
   "source": [
    "По результатам проведенной проверки гипотезы, мы можем действительно предположить, что выручка по данным тарифам различается и один из них приносит оператору больше прибыли."
   ]
  },
  {
   "cell_type": "code",
   "execution_count": 168,
   "metadata": {},
   "outputs": [
    {
     "name": "stdout",
     "output_type": "stream",
     "text": [
      "Выручка по тарифу СМАРТ: 2.9 млн.руб.\n",
      "Выручка по тарифу УЛЬТРА: 2.0 млн.руб.\n",
      "\n",
      "Средняя выручка по тарифу СМАРТ: 1.3 тыс.руб.\n",
      "Средняя выручка по тарифу УЛЬТРА: 2.1 тыс.руб.\n"
     ]
    }
   ],
   "source": [
    "#посмотрим, сколько за год составила выручка по каждому из тарифу\n",
    "print('Выручка по тарифу СМАРТ: {0:.1f} млн.руб.'.format(df_billing[df_billing['tariff']=='smart']['revenue'].sum()/1000000))\n",
    "print('Выручка по тарифу УЛЬТРА: {0:.1f} млн.руб.'.format(df_billing[df_billing['tariff']=='ultra']['revenue'].sum()/1000000))\n",
    "print()\n",
    "print('Средняя выручка по тарифу СМАРТ: {0:.1f} тыс.руб.'.format(df_billing[df_billing['tariff']=='smart']['revenue'].mean()/1000))\n",
    "print('Средняя выручка по тарифу УЛЬТРА: {0:.1f} тыс.руб.'.format(df_billing[df_billing['tariff']=='ultra']['revenue'].mean()/1000))"
   ]
  },
  {
   "cell_type": "markdown",
   "metadata": {},
   "source": [
    "### Гипотеза 2\n",
    "Проверим, различается ли средняя выручка пользователей из Москвы от других регионов, для этого сформируем нулевую и альтернативную гипотезы:\n",
    "* **Н0** - средняя выручка абонентов Москвы и других регионов равны\n",
    "* **Н1** - средняя выручка абонентов Москвы и других регионов отличаются"
   ]
  },
  {
   "cell_type": "code",
   "execution_count": 169,
   "metadata": {},
   "outputs": [],
   "source": [
    "#так как в таблице биллинга у нас отсутсвует город, добавим его в таблицу для проверки гипотезы\n",
    "#создадим словарь с пользователем и городом\n",
    "dic_users_city = df_users.set_index('user_id')['city'].to_dict()\n",
    "#добавляем столбец\n",
    "df_billing['city'] = df_billing.apply(lambda x: dic_users_city.get(x['user_id']),axis=1)\n",
    "#проверяем гипотезу"
   ]
  },
  {
   "cell_type": "code",
   "execution_count": 170,
   "metadata": {},
   "outputs": [
    {
     "name": "stdout",
     "output_type": "stream",
     "text": [
      "p-значение:  0.5440152911670224\n",
      "Не получилось отвергнуть нулевую гипотезу\n"
     ]
    }
   ],
   "source": [
    "hyp_test('city','Москва')"
   ]
  },
  {
   "cell_type": "markdown",
   "metadata": {},
   "source": [
    "Таким образом, мы не можем подтвердить, что выручка от московских абонентов существенно отличается от выручки других регионов."
   ]
  },
  {
   "cell_type": "markdown",
   "metadata": {},
   "source": [
    "## Общий вывод"
   ]
  },
  {
   "cell_type": "markdown",
   "metadata": {},
   "source": [
    "Мы проанализировать поведение клиентов и готовы сделать выводы по выбору наилучшего тарифа, согласно задаче нашего проекта.\n",
    "<br>Для этого мы выполнили ряд процедур:\n",
    "1. Ознакомились с общей информацией по представленным от Мегалайн данным и определили последующий порядок работы\n",
    "2. Сформировали единую таблицу с данными по расходу трафика по каждому абоненту\n",
    "3. Изменили типы данных в таблицах, что позволило сэкономить занимаемую таблицами память и повысить скорость работы\n",
    "4. Расчитали выручку согласно условиям тарифа с помощью функции\n",
    "5. Создали функцию для автоматизированного построения графиков\n",
    "\n",
    "По итогам процедур были сделаны следующие выводы:\n",
    "1. Звонки не самая популярная услуга по каждому из тарифов, ни по одному из них абоненты не превышают лимит\n",
    "2. Абоненты тарифа Смарт чаще расходуют пакет СМС, при этом абоненты Ультра используют их в среднем в 2 раза чаще, но лимит не превышают\n",
    "3. Интернет-трафик абоненты Смарта в среднем выходят за пределы пакета и платят дополнительно за Гб, а Ультра в среднем укладываются пакет. \n",
    "\n",
    "При проверке гипотез, мы выявили, что регион абонента не оказывает существенного влияния на выручку.\n",
    "<br>Но при сравнении выручки по Ультре и Смарту мы выяснили, что они не равны и отвергли нулевую гипотезу. Хоть и средняя выручка по тарифу СМАРТ ниже почти в 2 раза, но в годовом выражении суммарная выручка по нему выше, что говорит о выгодности использования данного тарифа в дальнейшем."
   ]
  }
 ],
 "metadata": {
  "ExecuteTimeLog": [
   {
    "duration": 3,
    "start_time": "2022-01-23T15:21:56.212Z"
   },
   {
    "duration": 3,
    "start_time": "2022-01-23T15:22:02.155Z"
   },
   {
    "duration": 3,
    "start_time": "2022-01-23T15:22:09.660Z"
   },
   {
    "duration": 721,
    "start_time": "2022-01-23T15:22:17.051Z"
   },
   {
    "duration": 76,
    "start_time": "2022-01-23T15:30:07.702Z"
   },
   {
    "duration": 72,
    "start_time": "2022-01-23T15:30:13.901Z"
   },
   {
    "duration": 4,
    "start_time": "2022-01-23T15:31:13.833Z"
   },
   {
    "duration": 279,
    "start_time": "2022-01-23T15:31:55.100Z"
   },
   {
    "duration": 3,
    "start_time": "2022-01-23T15:32:11.443Z"
   },
   {
    "duration": 564,
    "start_time": "2022-01-23T15:32:14.515Z"
   },
   {
    "duration": 665,
    "start_time": "2022-01-23T15:32:18.098Z"
   },
   {
    "duration": 2214,
    "start_time": "2022-01-23T15:32:19.768Z"
   },
   {
    "duration": 87,
    "start_time": "2022-01-23T15:32:46.443Z"
   },
   {
    "duration": 3,
    "start_time": "2022-01-23T15:35:05.332Z"
   },
   {
    "duration": 82,
    "start_time": "2022-01-23T15:35:07.323Z"
   },
   {
    "duration": 2419,
    "start_time": "2022-01-23T15:35:08.498Z"
   },
   {
    "duration": 4,
    "start_time": "2022-01-23T15:35:44.065Z"
   },
   {
    "duration": 1936,
    "start_time": "2022-01-23T15:35:45.811Z"
   },
   {
    "duration": 3,
    "start_time": "2022-01-23T15:36:15.907Z"
   },
   {
    "duration": 1898,
    "start_time": "2022-01-23T15:36:16.843Z"
   },
   {
    "duration": 3,
    "start_time": "2022-01-23T15:36:27.842Z"
   },
   {
    "duration": 136,
    "start_time": "2022-01-23T15:36:29.578Z"
   },
   {
    "duration": 3,
    "start_time": "2022-01-23T15:36:36.018Z"
   },
   {
    "duration": 8,
    "start_time": "2022-01-23T15:36:38.858Z"
   },
   {
    "duration": 14,
    "start_time": "2022-01-23T15:36:44.466Z"
   },
   {
    "duration": 3,
    "start_time": "2022-01-23T15:43:03.833Z"
   },
   {
    "duration": 3,
    "start_time": "2022-01-23T15:43:10.945Z"
   },
   {
    "duration": 245,
    "start_time": "2022-01-23T15:43:31.985Z"
   },
   {
    "duration": 4,
    "start_time": "2022-01-23T15:44:49.962Z"
   },
   {
    "duration": 3,
    "start_time": "2022-01-23T15:44:57.648Z"
   },
   {
    "duration": 239,
    "start_time": "2022-01-23T15:45:27.305Z"
   },
   {
    "duration": 252,
    "start_time": "2022-01-23T15:45:55.369Z"
   },
   {
    "duration": 3,
    "start_time": "2022-01-23T15:46:14.096Z"
   },
   {
    "duration": 238,
    "start_time": "2022-01-23T15:46:15.137Z"
   },
   {
    "duration": 226,
    "start_time": "2022-01-23T15:48:05.729Z"
   },
   {
    "duration": 66,
    "start_time": "2022-01-23T15:48:21.977Z"
   },
   {
    "duration": 3,
    "start_time": "2022-01-23T15:48:28.449Z"
   },
   {
    "duration": 4,
    "start_time": "2022-01-23T15:48:40.377Z"
   },
   {
    "duration": 785,
    "start_time": "2022-01-23T15:48:49.481Z"
   },
   {
    "duration": 10,
    "start_time": "2022-01-23T15:49:24.873Z"
   },
   {
    "duration": 314,
    "start_time": "2022-01-23T15:50:37.208Z"
   },
   {
    "duration": 18,
    "start_time": "2022-01-23T15:51:00.938Z"
   },
   {
    "duration": 27,
    "start_time": "2022-01-23T16:17:39.309Z"
   },
   {
    "duration": 4,
    "start_time": "2022-01-23T16:19:27.214Z"
   },
   {
    "duration": 620,
    "start_time": "2022-01-23T16:23:02.374Z"
   },
   {
    "duration": 19,
    "start_time": "2022-01-23T16:23:06.053Z"
   },
   {
    "duration": 237,
    "start_time": "2022-01-23T16:23:19.965Z"
   },
   {
    "duration": 19,
    "start_time": "2022-01-23T16:23:25.068Z"
   },
   {
    "duration": 232,
    "start_time": "2022-01-23T16:26:42.774Z"
   },
   {
    "duration": 244,
    "start_time": "2022-01-23T16:26:48.244Z"
   },
   {
    "duration": 17,
    "start_time": "2022-01-23T16:29:22.172Z"
   },
   {
    "duration": 24,
    "start_time": "2022-01-23T16:29:30.972Z"
   },
   {
    "duration": 39,
    "start_time": "2022-01-23T16:32:19.812Z"
   },
   {
    "duration": 30,
    "start_time": "2022-01-23T16:32:21.740Z"
   },
   {
    "duration": 43,
    "start_time": "2022-01-23T16:42:44.763Z"
   },
   {
    "duration": 2,
    "start_time": "2022-01-23T16:48:39.275Z"
   },
   {
    "duration": 75,
    "start_time": "2022-01-23T16:50:16.219Z"
   },
   {
    "duration": 6,
    "start_time": "2022-01-23T16:50:22.394Z"
   },
   {
    "duration": 104,
    "start_time": "2022-01-23T16:51:24.594Z"
   },
   {
    "duration": 375,
    "start_time": "2022-01-25T17:15:44.435Z"
   },
   {
    "duration": 818,
    "start_time": "2022-01-25T17:15:47.684Z"
   },
   {
    "duration": 5,
    "start_time": "2022-01-25T17:15:49.213Z"
   },
   {
    "duration": 1076,
    "start_time": "2022-01-25T17:15:50.061Z"
   },
   {
    "duration": 211,
    "start_time": "2022-01-25T17:15:56.126Z"
   },
   {
    "duration": 54,
    "start_time": "2022-01-25T17:16:41.648Z"
   },
   {
    "duration": 190,
    "start_time": "2022-01-25T17:16:57.419Z"
   },
   {
    "duration": 413,
    "start_time": "2022-01-25T17:17:00.021Z"
   },
   {
    "duration": 217,
    "start_time": "2022-01-25T17:17:03.668Z"
   },
   {
    "duration": 13,
    "start_time": "2022-01-25T17:17:15.180Z"
   },
   {
    "duration": 4,
    "start_time": "2022-01-25T17:42:20.704Z"
   },
   {
    "duration": 1796,
    "start_time": "2022-01-25T17:42:21.746Z"
   },
   {
    "duration": 10,
    "start_time": "2022-01-25T17:42:43.946Z"
   },
   {
    "duration": 61,
    "start_time": "2022-01-25T17:43:42.696Z"
   },
   {
    "duration": 382,
    "start_time": "2022-01-25T17:44:45.467Z"
   },
   {
    "duration": 346,
    "start_time": "2022-01-25T17:44:53.194Z"
   },
   {
    "duration": 31,
    "start_time": "2022-01-25T17:45:00.667Z"
   },
   {
    "duration": 9,
    "start_time": "2022-01-25T17:45:29.995Z"
   },
   {
    "duration": 337,
    "start_time": "2022-01-25T17:45:39.785Z"
   },
   {
    "duration": 7,
    "start_time": "2022-01-25T17:45:43.682Z"
   },
   {
    "duration": 6,
    "start_time": "2022-01-25T17:45:46.178Z"
   },
   {
    "duration": 322,
    "start_time": "2022-01-25T17:45:59.041Z"
   },
   {
    "duration": 442,
    "start_time": "2022-01-25T17:46:01.793Z"
   },
   {
    "duration": 13,
    "start_time": "2022-01-25T17:51:04.321Z"
   },
   {
    "duration": 327,
    "start_time": "2022-01-25T17:51:12.808Z"
   },
   {
    "duration": 6,
    "start_time": "2022-01-25T17:51:19.841Z"
   },
   {
    "duration": 452,
    "start_time": "2022-01-25T17:51:34.810Z"
   },
   {
    "duration": 342,
    "start_time": "2022-01-25T17:51:54.297Z"
   },
   {
    "duration": 682,
    "start_time": "2022-01-25T17:52:03.008Z"
   },
   {
    "duration": 309,
    "start_time": "2022-01-25T17:52:17.673Z"
   },
   {
    "duration": 361,
    "start_time": "2022-01-25T17:53:18.837Z"
   },
   {
    "duration": 9,
    "start_time": "2022-01-25T17:53:35.368Z"
   },
   {
    "duration": 360,
    "start_time": "2022-01-25T17:55:21.432Z"
   },
   {
    "duration": 382,
    "start_time": "2022-01-25T17:55:38.016Z"
   },
   {
    "duration": 351,
    "start_time": "2022-01-25T17:55:42.161Z"
   },
   {
    "duration": 342,
    "start_time": "2022-01-25T17:56:40.097Z"
   },
   {
    "duration": 333,
    "start_time": "2022-01-25T17:56:47.104Z"
   },
   {
    "duration": 8,
    "start_time": "2022-01-25T17:56:57.024Z"
   },
   {
    "duration": 383,
    "start_time": "2022-01-25T17:57:18.562Z"
   },
   {
    "duration": 353,
    "start_time": "2022-01-25T17:57:33.008Z"
   },
   {
    "duration": 340,
    "start_time": "2022-01-25T17:57:42.663Z"
   },
   {
    "duration": 10,
    "start_time": "2022-01-25T17:57:53.025Z"
   },
   {
    "duration": 7,
    "start_time": "2022-01-25T17:58:00.752Z"
   },
   {
    "duration": 20,
    "start_time": "2022-01-25T17:58:05.208Z"
   },
   {
    "duration": 351,
    "start_time": "2022-01-25T17:59:11.272Z"
   },
   {
    "duration": 50,
    "start_time": "2022-01-25T17:59:19.345Z"
   },
   {
    "duration": 11,
    "start_time": "2022-01-25T17:59:30.423Z"
   },
   {
    "duration": 338,
    "start_time": "2022-01-25T18:01:41.713Z"
   },
   {
    "duration": 15,
    "start_time": "2022-01-25T18:01:51.983Z"
   },
   {
    "duration": 542,
    "start_time": "2022-01-25T18:03:50.426Z"
   },
   {
    "duration": 21,
    "start_time": "2022-01-25T18:03:58.775Z"
   },
   {
    "duration": 107,
    "start_time": "2022-01-25T18:04:20.597Z"
   },
   {
    "duration": 322,
    "start_time": "2022-01-25T18:11:57.550Z"
   },
   {
    "duration": 336,
    "start_time": "2022-01-25T18:12:06.799Z"
   },
   {
    "duration": 342,
    "start_time": "2022-01-25T18:12:18.343Z"
   },
   {
    "duration": 329,
    "start_time": "2022-01-25T18:12:25.709Z"
   },
   {
    "duration": 361,
    "start_time": "2022-01-25T18:12:42.874Z"
   },
   {
    "duration": 1316,
    "start_time": "2022-01-25T18:21:17.085Z"
   },
   {
    "duration": 1564,
    "start_time": "2022-01-25T18:21:23.781Z"
   },
   {
    "duration": 28,
    "start_time": "2022-01-25T18:21:28.138Z"
   },
   {
    "duration": 703,
    "start_time": "2022-01-25T18:21:46.607Z"
   },
   {
    "duration": 557,
    "start_time": "2022-01-25T18:21:51.934Z"
   },
   {
    "duration": 31,
    "start_time": "2022-01-25T18:22:05.405Z"
   },
   {
    "duration": 1542,
    "start_time": "2022-01-25T18:22:24.221Z"
   },
   {
    "duration": 12,
    "start_time": "2022-01-25T18:25:00.118Z"
   },
   {
    "duration": 521,
    "start_time": "2022-01-25T18:25:37.685Z"
   },
   {
    "duration": 6326,
    "start_time": "2022-01-25T18:25:50.268Z"
   },
   {
    "duration": 10,
    "start_time": "2022-01-25T18:26:03.061Z"
   },
   {
    "duration": 9,
    "start_time": "2022-01-25T18:26:26.053Z"
   },
   {
    "duration": 10,
    "start_time": "2022-01-25T18:26:31.116Z"
   },
   {
    "duration": 413,
    "start_time": "2022-01-25T18:28:02.141Z"
   },
   {
    "duration": 326,
    "start_time": "2022-01-25T18:28:06.979Z"
   },
   {
    "duration": 303,
    "start_time": "2022-01-25T18:28:10.436Z"
   },
   {
    "duration": 133,
    "start_time": "2022-01-25T18:29:13.652Z"
   },
   {
    "duration": 321,
    "start_time": "2022-01-25T18:29:25.452Z"
   },
   {
    "duration": 346,
    "start_time": "2022-01-25T18:29:42.797Z"
   },
   {
    "duration": 353,
    "start_time": "2022-01-25T18:30:00.643Z"
   },
   {
    "duration": 334,
    "start_time": "2022-01-25T18:30:05.912Z"
   },
   {
    "duration": 321,
    "start_time": "2022-01-25T18:30:32.676Z"
   },
   {
    "duration": 337,
    "start_time": "2022-01-25T18:31:10.517Z"
   },
   {
    "duration": 545,
    "start_time": "2022-01-25T18:31:32.300Z"
   },
   {
    "duration": 48,
    "start_time": "2022-01-25T18:31:42.341Z"
   },
   {
    "duration": 353,
    "start_time": "2022-01-25T18:32:16.026Z"
   },
   {
    "duration": 329,
    "start_time": "2022-01-25T18:32:25.276Z"
   },
   {
    "duration": 348,
    "start_time": "2022-01-25T18:32:30.440Z"
   },
   {
    "duration": 345,
    "start_time": "2022-01-25T18:32:39.659Z"
   },
   {
    "duration": 332,
    "start_time": "2022-01-25T18:33:06.628Z"
   },
   {
    "duration": 326,
    "start_time": "2022-01-25T18:33:24.668Z"
   },
   {
    "duration": 32,
    "start_time": "2022-01-25T18:33:35.581Z"
   },
   {
    "duration": 19,
    "start_time": "2022-01-25T18:33:53.084Z"
   },
   {
    "duration": 24,
    "start_time": "2022-01-25T18:34:07.596Z"
   },
   {
    "duration": 30,
    "start_time": "2022-01-25T18:34:40.339Z"
   },
   {
    "duration": 23,
    "start_time": "2022-01-25T18:34:58.036Z"
   },
   {
    "duration": 14,
    "start_time": "2022-01-25T18:35:38.372Z"
   },
   {
    "duration": 345,
    "start_time": "2022-01-25T18:36:39.099Z"
   },
   {
    "duration": 15,
    "start_time": "2022-01-25T18:36:56.436Z"
   },
   {
    "duration": 12,
    "start_time": "2022-01-25T18:37:04.523Z"
   },
   {
    "duration": 17,
    "start_time": "2022-01-25T18:37:48.690Z"
   },
   {
    "duration": 145,
    "start_time": "2022-01-25T18:45:36.003Z"
   },
   {
    "duration": 306,
    "start_time": "2022-01-25T18:45:43.850Z"
   },
   {
    "duration": 416,
    "start_time": "2022-01-25T18:45:57.073Z"
   },
   {
    "duration": 355,
    "start_time": "2022-01-25T18:46:38.019Z"
   },
   {
    "duration": 365,
    "start_time": "2022-01-25T18:46:48.201Z"
   },
   {
    "duration": 140,
    "start_time": "2022-01-25T18:47:19.187Z"
   },
   {
    "duration": 117,
    "start_time": "2022-01-25T18:47:29.288Z"
   },
   {
    "duration": 313,
    "start_time": "2022-01-25T18:48:17.881Z"
   },
   {
    "duration": 10,
    "start_time": "2022-01-25T18:48:30.419Z"
   },
   {
    "duration": 311,
    "start_time": "2022-01-25T18:49:25.124Z"
   },
   {
    "duration": 369,
    "start_time": "2022-01-25T18:49:35.810Z"
   },
   {
    "duration": 103,
    "start_time": "2022-01-25T18:51:01.994Z"
   },
   {
    "duration": 6,
    "start_time": "2022-01-25T18:51:12.208Z"
   },
   {
    "duration": 11,
    "start_time": "2022-01-25T18:51:19.128Z"
   },
   {
    "duration": 331,
    "start_time": "2022-01-25T18:51:29.777Z"
   },
   {
    "duration": 328,
    "start_time": "2022-01-25T18:51:56.844Z"
   },
   {
    "duration": 312,
    "start_time": "2022-01-25T18:52:57.609Z"
   },
   {
    "duration": 327,
    "start_time": "2022-01-25T18:53:31.313Z"
   },
   {
    "duration": 320,
    "start_time": "2022-01-25T18:53:34.263Z"
   },
   {
    "duration": 341,
    "start_time": "2022-01-25T18:53:41.000Z"
   },
   {
    "duration": 5,
    "start_time": "2022-01-25T18:55:45.183Z"
   },
   {
    "duration": 22350,
    "start_time": "2022-01-25T18:57:01.088Z"
   },
   {
    "duration": 6,
    "start_time": "2022-01-25T18:57:42.544Z"
   },
   {
    "duration": 344,
    "start_time": "2022-01-25T19:02:36.335Z"
   },
   {
    "duration": 505,
    "start_time": "2022-01-25T19:03:59.854Z"
   },
   {
    "duration": 15,
    "start_time": "2022-01-25T19:04:11.087Z"
   },
   {
    "duration": 313,
    "start_time": "2022-01-25T19:06:11.519Z"
   },
   {
    "duration": 369,
    "start_time": "2022-01-25T19:06:21.552Z"
   },
   {
    "duration": 348,
    "start_time": "2022-01-25T19:06:32.656Z"
   },
   {
    "duration": 23,
    "start_time": "2022-01-25T19:06:38.806Z"
   },
   {
    "duration": 40,
    "start_time": "2022-01-25T19:06:46.576Z"
   },
   {
    "duration": 870,
    "start_time": "2022-01-25T19:09:35.991Z"
   },
   {
    "duration": 308,
    "start_time": "2022-01-25T19:09:44.045Z"
   },
   {
    "duration": 326,
    "start_time": "2022-01-25T19:09:58.400Z"
   },
   {
    "duration": 100,
    "start_time": "2022-01-25T19:10:08.167Z"
   },
   {
    "duration": 345,
    "start_time": "2022-01-25T19:10:43.020Z"
   },
   {
    "duration": 8,
    "start_time": "2022-01-25T19:10:49.638Z"
   },
   {
    "duration": 15,
    "start_time": "2022-01-25T19:10:58.781Z"
   },
   {
    "duration": 395,
    "start_time": "2022-01-25T19:11:24.880Z"
   },
   {
    "duration": 606,
    "start_time": "2022-01-25T19:11:34.845Z"
   },
   {
    "duration": 8575,
    "start_time": "2022-01-25T19:11:51.246Z"
   },
   {
    "duration": 8,
    "start_time": "2022-01-25T19:12:54.942Z"
   },
   {
    "duration": 9,
    "start_time": "2022-01-25T19:12:56.292Z"
   },
   {
    "duration": 14,
    "start_time": "2022-01-25T19:12:59.556Z"
   },
   {
    "duration": 29,
    "start_time": "2022-01-25T19:13:08.861Z"
   },
   {
    "duration": 333,
    "start_time": "2022-01-25T19:13:46.589Z"
   },
   {
    "duration": 327,
    "start_time": "2022-01-25T19:14:01.367Z"
   },
   {
    "duration": 8,
    "start_time": "2022-01-25T19:14:08.557Z"
   },
   {
    "duration": 101,
    "start_time": "2022-01-25T19:14:22.764Z"
   },
   {
    "duration": 24,
    "start_time": "2022-01-25T19:14:26.397Z"
   },
   {
    "duration": 15,
    "start_time": "2022-01-25T19:14:32.141Z"
   },
   {
    "duration": 19,
    "start_time": "2022-01-25T19:14:37.316Z"
   },
   {
    "duration": 6,
    "start_time": "2022-01-25T19:24:13.827Z"
   },
   {
    "duration": 108,
    "start_time": "2022-01-25T19:27:56.364Z"
   },
   {
    "duration": 378,
    "start_time": "2022-01-25T19:28:12.691Z"
   },
   {
    "duration": 8600,
    "start_time": "2022-01-25T19:28:50.716Z"
   },
   {
    "duration": 135,
    "start_time": "2022-01-25T19:29:46.908Z"
   },
   {
    "duration": 21,
    "start_time": "2022-01-25T19:29:51.403Z"
   },
   {
    "duration": 110,
    "start_time": "2022-01-25T19:30:08.212Z"
   },
   {
    "duration": 16,
    "start_time": "2022-01-25T19:30:10.569Z"
   },
   {
    "duration": 17,
    "start_time": "2022-01-25T19:31:29.186Z"
   },
   {
    "duration": 314,
    "start_time": "2022-01-25T19:36:20.794Z"
   },
   {
    "duration": 545,
    "start_time": "2022-01-25T19:36:28.652Z"
   },
   {
    "duration": 376,
    "start_time": "2022-01-25T19:36:38.153Z"
   },
   {
    "duration": 307,
    "start_time": "2022-01-25T19:37:01.179Z"
   },
   {
    "duration": 320,
    "start_time": "2022-01-25T19:37:05.121Z"
   },
   {
    "duration": 314,
    "start_time": "2022-01-25T19:37:13.841Z"
   },
   {
    "duration": 22,
    "start_time": "2022-01-25T19:38:18.073Z"
   },
   {
    "duration": 24,
    "start_time": "2022-01-25T19:38:39.460Z"
   },
   {
    "duration": 30,
    "start_time": "2022-01-25T19:38:45.346Z"
   },
   {
    "duration": 294,
    "start_time": "2022-01-25T19:38:54.529Z"
   },
   {
    "duration": 323,
    "start_time": "2022-01-25T19:39:08.145Z"
   },
   {
    "duration": 1287,
    "start_time": "2022-01-25T19:39:36.089Z"
   },
   {
    "duration": 1469,
    "start_time": "2022-01-25T19:39:46.984Z"
   },
   {
    "duration": 20,
    "start_time": "2022-01-25T19:40:20.649Z"
   },
   {
    "duration": 19,
    "start_time": "2022-01-25T19:40:30.265Z"
   },
   {
    "duration": 17,
    "start_time": "2022-01-25T19:40:39.272Z"
   },
   {
    "duration": 349,
    "start_time": "2022-01-25T19:42:05.408Z"
   },
   {
    "duration": 25,
    "start_time": "2022-01-25T19:42:20.826Z"
   },
   {
    "duration": 319,
    "start_time": "2022-01-25T19:42:41.953Z"
   },
   {
    "duration": 1237,
    "start_time": "2022-01-25T19:42:58.745Z"
   },
   {
    "duration": 1234,
    "start_time": "2022-01-25T19:43:06.001Z"
   },
   {
    "duration": 38,
    "start_time": "2022-01-25T19:43:36.720Z"
   },
   {
    "duration": 30,
    "start_time": "2022-01-25T19:43:54.272Z"
   },
   {
    "duration": 11,
    "start_time": "2022-01-25T19:45:58.431Z"
   },
   {
    "duration": 20,
    "start_time": "2022-01-25T19:46:10.263Z"
   },
   {
    "duration": 31,
    "start_time": "2022-01-25T19:46:14.983Z"
   },
   {
    "duration": 565,
    "start_time": "2022-01-25T19:48:30.763Z"
   },
   {
    "duration": 21,
    "start_time": "2022-01-25T19:48:38.830Z"
   },
   {
    "duration": 474,
    "start_time": "2022-01-25T19:49:36.187Z"
   },
   {
    "duration": 7,
    "start_time": "2022-01-25T19:49:44.160Z"
   },
   {
    "duration": 361,
    "start_time": "2022-01-25T19:50:21.144Z"
   },
   {
    "duration": 9,
    "start_time": "2022-01-25T19:50:23.838Z"
   },
   {
    "duration": 22,
    "start_time": "2022-01-25T19:50:45.056Z"
   },
   {
    "duration": 297,
    "start_time": "2022-01-25T19:51:31.878Z"
   },
   {
    "duration": 23,
    "start_time": "2022-01-25T19:52:12.199Z"
   },
   {
    "duration": 21,
    "start_time": "2022-01-25T19:54:34.068Z"
   },
   {
    "duration": 391,
    "start_time": "2022-01-25T19:54:43.431Z"
   },
   {
    "duration": 21,
    "start_time": "2022-01-25T19:54:57.088Z"
   },
   {
    "duration": 15,
    "start_time": "2022-01-25T19:55:05.536Z"
   },
   {
    "duration": 23,
    "start_time": "2022-01-25T19:55:17.487Z"
   },
   {
    "duration": 22,
    "start_time": "2022-01-25T19:58:20.639Z"
   },
   {
    "duration": 26,
    "start_time": "2022-01-25T19:58:35.959Z"
   },
   {
    "duration": 19,
    "start_time": "2022-01-25T19:58:43.351Z"
   },
   {
    "duration": 10,
    "start_time": "2022-01-25T19:58:48.703Z"
   },
   {
    "duration": 8,
    "start_time": "2022-01-25T19:58:52.303Z"
   },
   {
    "duration": 38,
    "start_time": "2022-01-25T19:58:55.271Z"
   },
   {
    "duration": 18,
    "start_time": "2022-01-25T19:59:01.143Z"
   },
   {
    "duration": 32,
    "start_time": "2022-01-25T20:00:28.311Z"
   },
   {
    "duration": 24,
    "start_time": "2022-01-25T20:00:33.086Z"
   },
   {
    "duration": 24,
    "start_time": "2022-01-25T20:00:37.077Z"
   },
   {
    "duration": 545,
    "start_time": "2022-01-25T20:01:27.734Z"
   },
   {
    "duration": 483,
    "start_time": "2022-01-25T20:01:36.885Z"
   },
   {
    "duration": 469,
    "start_time": "2022-01-25T20:01:42.151Z"
   },
   {
    "duration": 25,
    "start_time": "2022-01-25T20:01:47.814Z"
   },
   {
    "duration": 18,
    "start_time": "2022-01-25T20:02:36.887Z"
   },
   {
    "duration": 345,
    "start_time": "2022-01-25T20:03:37.830Z"
   },
   {
    "duration": 334,
    "start_time": "2022-01-25T20:03:47.056Z"
   },
   {
    "duration": 318,
    "start_time": "2022-01-25T20:04:06.351Z"
   },
   {
    "duration": 33,
    "start_time": "2022-01-25T20:04:14.398Z"
   },
   {
    "duration": 312,
    "start_time": "2022-01-25T20:04:52.719Z"
   },
   {
    "duration": 375,
    "start_time": "2022-01-25T20:05:02.414Z"
   },
   {
    "duration": 310,
    "start_time": "2022-01-25T20:05:10.919Z"
   },
   {
    "duration": 46,
    "start_time": "2022-01-25T20:05:26.607Z"
   },
   {
    "duration": 328,
    "start_time": "2022-01-25T20:05:41.775Z"
   },
   {
    "duration": 69,
    "start_time": "2022-01-25T20:05:49.808Z"
   },
   {
    "duration": 20,
    "start_time": "2022-01-25T20:05:58.373Z"
   },
   {
    "duration": 25,
    "start_time": "2022-01-25T20:08:38.350Z"
   },
   {
    "duration": 109,
    "start_time": "2022-01-25T20:09:27.646Z"
   },
   {
    "duration": 343,
    "start_time": "2022-01-25T20:09:33.053Z"
   },
   {
    "duration": 173,
    "start_time": "2022-01-25T20:09:53.295Z"
   },
   {
    "duration": 9,
    "start_time": "2022-01-25T20:09:56.024Z"
   },
   {
    "duration": 16,
    "start_time": "2022-01-25T20:10:51.437Z"
   },
   {
    "duration": 4,
    "start_time": "2022-01-25T20:11:45.317Z"
   },
   {
    "duration": 9,
    "start_time": "2022-01-25T20:11:45.323Z"
   },
   {
    "duration": 6,
    "start_time": "2022-01-25T20:11:45.335Z"
   },
   {
    "duration": 966,
    "start_time": "2022-01-25T20:11:45.343Z"
   },
   {
    "duration": 48,
    "start_time": "2022-01-25T20:11:46.311Z"
   },
   {
    "duration": 163,
    "start_time": "2022-01-25T20:11:46.362Z"
   },
   {
    "duration": 352,
    "start_time": "2022-01-25T20:11:46.527Z"
   },
   {
    "duration": 201,
    "start_time": "2022-01-25T20:11:46.881Z"
   },
   {
    "duration": 8,
    "start_time": "2022-01-25T20:11:47.085Z"
   },
   {
    "duration": 33,
    "start_time": "2022-01-25T20:11:47.096Z"
   },
   {
    "duration": 5,
    "start_time": "2022-01-25T20:11:47.131Z"
   },
   {
    "duration": 261,
    "start_time": "2022-01-25T20:11:47.138Z"
   },
   {
    "duration": 8,
    "start_time": "2022-01-25T20:11:47.401Z"
   },
   {
    "duration": 15,
    "start_time": "2022-01-25T20:11:56.093Z"
   },
   {
    "duration": 650,
    "start_time": "2022-01-25T20:16:30.416Z"
   },
   {
    "duration": 314,
    "start_time": "2022-01-25T20:16:51.702Z"
   },
   {
    "duration": 316,
    "start_time": "2022-01-25T20:17:03.212Z"
   },
   {
    "duration": 8,
    "start_time": "2022-01-25T20:17:05.757Z"
   },
   {
    "duration": 15,
    "start_time": "2022-01-25T20:17:10.669Z"
   },
   {
    "duration": 366,
    "start_time": "2022-01-25T20:17:22.645Z"
   },
   {
    "duration": 20,
    "start_time": "2022-01-25T20:17:31.660Z"
   },
   {
    "duration": 107,
    "start_time": "2022-01-25T20:17:42.180Z"
   },
   {
    "duration": 105,
    "start_time": "2022-01-25T20:17:55.415Z"
   },
   {
    "duration": 96,
    "start_time": "2022-01-25T20:18:05.701Z"
   },
   {
    "duration": 312,
    "start_time": "2022-01-25T20:18:21.563Z"
   },
   {
    "duration": 11,
    "start_time": "2022-01-25T20:18:33.835Z"
   },
   {
    "duration": 9,
    "start_time": "2022-01-25T20:18:42.708Z"
   },
   {
    "duration": 16,
    "start_time": "2022-01-25T20:18:46.365Z"
   },
   {
    "duration": 31,
    "start_time": "2022-01-25T20:21:33.157Z"
   },
   {
    "duration": 510,
    "start_time": "2022-01-25T20:23:58.444Z"
   },
   {
    "duration": 237,
    "start_time": "2022-01-25T20:25:05.020Z"
   },
   {
    "duration": 18,
    "start_time": "2022-01-25T20:25:25.179Z"
   },
   {
    "duration": 4,
    "start_time": "2022-01-25T20:28:08.319Z"
   },
   {
    "duration": 10,
    "start_time": "2022-01-25T20:28:08.325Z"
   },
   {
    "duration": 4,
    "start_time": "2022-01-25T20:28:08.338Z"
   },
   {
    "duration": 982,
    "start_time": "2022-01-25T20:28:08.345Z"
   },
   {
    "duration": 51,
    "start_time": "2022-01-25T20:28:09.329Z"
   },
   {
    "duration": 195,
    "start_time": "2022-01-25T20:28:09.382Z"
   },
   {
    "duration": 397,
    "start_time": "2022-01-25T20:28:09.580Z"
   },
   {
    "duration": 208,
    "start_time": "2022-01-25T20:28:09.979Z"
   },
   {
    "duration": 8,
    "start_time": "2022-01-25T20:28:10.191Z"
   },
   {
    "duration": 292,
    "start_time": "2022-01-25T20:28:10.202Z"
   },
   {
    "duration": 26,
    "start_time": "2022-01-25T20:28:10.497Z"
   },
   {
    "duration": 8,
    "start_time": "2022-01-25T20:28:27.269Z"
   },
   {
    "duration": 5,
    "start_time": "2022-01-25T20:28:33.906Z"
   },
   {
    "duration": 6,
    "start_time": "2022-01-25T20:28:33.915Z"
   },
   {
    "duration": 4,
    "start_time": "2022-01-25T20:28:33.925Z"
   },
   {
    "duration": 954,
    "start_time": "2022-01-25T20:28:33.933Z"
   },
   {
    "duration": 48,
    "start_time": "2022-01-25T20:28:34.889Z"
   },
   {
    "duration": 188,
    "start_time": "2022-01-25T20:28:34.939Z"
   },
   {
    "duration": 364,
    "start_time": "2022-01-25T20:28:35.129Z"
   },
   {
    "duration": 206,
    "start_time": "2022-01-25T20:28:35.496Z"
   },
   {
    "duration": 22,
    "start_time": "2022-01-25T20:28:35.707Z"
   },
   {
    "duration": 353,
    "start_time": "2022-01-25T20:28:35.732Z"
   },
   {
    "duration": 9,
    "start_time": "2022-01-25T20:28:36.087Z"
   },
   {
    "duration": 4,
    "start_time": "2022-01-25T20:29:37.518Z"
   },
   {
    "duration": 6,
    "start_time": "2022-01-25T20:29:37.526Z"
   },
   {
    "duration": 10,
    "start_time": "2022-01-25T20:29:37.535Z"
   },
   {
    "duration": 1150,
    "start_time": "2022-01-25T20:29:37.548Z"
   },
   {
    "duration": 56,
    "start_time": "2022-01-25T20:29:38.700Z"
   },
   {
    "duration": 187,
    "start_time": "2022-01-25T20:29:38.759Z"
   },
   {
    "duration": 389,
    "start_time": "2022-01-25T20:29:38.949Z"
   },
   {
    "duration": 213,
    "start_time": "2022-01-25T20:29:39.340Z"
   },
   {
    "duration": 9,
    "start_time": "2022-01-25T20:29:39.556Z"
   },
   {
    "duration": 309,
    "start_time": "2022-01-25T20:29:39.568Z"
   },
   {
    "duration": 10,
    "start_time": "2022-01-25T20:29:39.879Z"
   },
   {
    "duration": 16,
    "start_time": "2022-01-25T20:29:49.275Z"
   },
   {
    "duration": 13,
    "start_time": "2022-01-25T20:33:01.803Z"
   },
   {
    "duration": 16,
    "start_time": "2022-01-25T20:33:05.178Z"
   },
   {
    "duration": 16,
    "start_time": "2022-01-25T20:33:57.097Z"
   },
   {
    "duration": 905,
    "start_time": "2022-01-26T16:42:40.553Z"
   },
   {
    "duration": 5,
    "start_time": "2022-01-26T16:42:41.460Z"
   },
   {
    "duration": 4,
    "start_time": "2022-01-26T16:42:41.469Z"
   },
   {
    "duration": 1018,
    "start_time": "2022-01-26T16:42:41.476Z"
   },
   {
    "duration": 57,
    "start_time": "2022-01-26T16:42:42.496Z"
   },
   {
    "duration": 194,
    "start_time": "2022-01-26T16:42:42.556Z"
   },
   {
    "duration": 468,
    "start_time": "2022-01-26T16:42:42.753Z"
   },
   {
    "duration": 257,
    "start_time": "2022-01-26T16:42:43.223Z"
   },
   {
    "duration": 8,
    "start_time": "2022-01-26T16:42:43.484Z"
   },
   {
    "duration": 363,
    "start_time": "2022-01-26T16:42:43.495Z"
   },
   {
    "duration": 11,
    "start_time": "2022-01-26T16:44:45.585Z"
   },
   {
    "duration": 118,
    "start_time": "2022-01-26T16:46:12.014Z"
   },
   {
    "duration": 136,
    "start_time": "2022-01-26T17:03:52.504Z"
   },
   {
    "duration": 14,
    "start_time": "2022-01-26T17:04:20.752Z"
   },
   {
    "duration": 14,
    "start_time": "2022-01-26T17:04:32.161Z"
   },
   {
    "duration": 25,
    "start_time": "2022-01-26T17:05:43.641Z"
   },
   {
    "duration": 11,
    "start_time": "2022-01-26T17:05:45.200Z"
   },
   {
    "duration": 3,
    "start_time": "2022-01-26T17:08:21.480Z"
   },
   {
    "duration": 9,
    "start_time": "2022-01-26T17:08:40.127Z"
   },
   {
    "duration": 43,
    "start_time": "2022-01-26T17:09:15.917Z"
   },
   {
    "duration": 39,
    "start_time": "2022-01-26T17:36:46.477Z"
   },
   {
    "duration": 20,
    "start_time": "2022-01-26T17:41:12.970Z"
   },
   {
    "duration": 43,
    "start_time": "2022-01-26T17:41:24.076Z"
   },
   {
    "duration": 31,
    "start_time": "2022-01-26T17:42:01.104Z"
   },
   {
    "duration": 63,
    "start_time": "2022-01-26T17:42:01.634Z"
   },
   {
    "duration": 124,
    "start_time": "2022-01-26T17:42:46.658Z"
   },
   {
    "duration": 21,
    "start_time": "2022-01-26T17:43:34.970Z"
   },
   {
    "duration": 35,
    "start_time": "2022-01-26T17:43:50.442Z"
   },
   {
    "duration": 9,
    "start_time": "2022-01-26T17:44:20.321Z"
   },
   {
    "duration": 4,
    "start_time": "2022-01-26T17:44:53.509Z"
   },
   {
    "duration": 13,
    "start_time": "2022-01-26T17:44:53.515Z"
   },
   {
    "duration": 7,
    "start_time": "2022-01-26T17:44:53.531Z"
   },
   {
    "duration": 1365,
    "start_time": "2022-01-26T17:44:53.541Z"
   },
   {
    "duration": 59,
    "start_time": "2022-01-26T17:44:54.908Z"
   },
   {
    "duration": 214,
    "start_time": "2022-01-26T17:44:54.970Z"
   },
   {
    "duration": 454,
    "start_time": "2022-01-26T17:44:55.187Z"
   },
   {
    "duration": 265,
    "start_time": "2022-01-26T17:44:55.643Z"
   },
   {
    "duration": 8,
    "start_time": "2022-01-26T17:44:55.912Z"
   },
   {
    "duration": 404,
    "start_time": "2022-01-26T17:44:55.923Z"
   },
   {
    "duration": 13,
    "start_time": "2022-01-26T17:44:56.329Z"
   },
   {
    "duration": 8,
    "start_time": "2022-01-26T17:44:56.345Z"
   },
   {
    "duration": 34,
    "start_time": "2022-01-26T17:44:56.370Z"
   },
   {
    "duration": 10,
    "start_time": "2022-01-26T17:44:56.407Z"
   },
   {
    "duration": 84,
    "start_time": "2022-01-26T17:44:56.420Z"
   },
   {
    "duration": 30,
    "start_time": "2022-01-26T17:44:56.506Z"
   },
   {
    "duration": 68,
    "start_time": "2022-01-26T17:44:56.539Z"
   },
   {
    "duration": 4,
    "start_time": "2022-01-26T17:45:43.880Z"
   },
   {
    "duration": 10,
    "start_time": "2022-01-26T17:45:43.887Z"
   },
   {
    "duration": 6,
    "start_time": "2022-01-26T17:45:43.900Z"
   },
   {
    "duration": 1131,
    "start_time": "2022-01-26T17:45:43.909Z"
   },
   {
    "duration": 53,
    "start_time": "2022-01-26T17:45:45.043Z"
   },
   {
    "duration": 208,
    "start_time": "2022-01-26T17:45:45.099Z"
   },
   {
    "duration": 464,
    "start_time": "2022-01-26T17:45:45.309Z"
   },
   {
    "duration": 262,
    "start_time": "2022-01-26T17:45:45.776Z"
   },
   {
    "duration": 10,
    "start_time": "2022-01-26T17:45:46.041Z"
   },
   {
    "duration": 356,
    "start_time": "2022-01-26T17:45:46.053Z"
   },
   {
    "duration": 15,
    "start_time": "2022-01-26T17:45:46.413Z"
   },
   {
    "duration": 7,
    "start_time": "2022-01-26T17:45:46.431Z"
   },
   {
    "duration": 57,
    "start_time": "2022-01-26T17:45:46.441Z"
   },
   {
    "duration": 10,
    "start_time": "2022-01-26T17:45:46.500Z"
   },
   {
    "duration": 74,
    "start_time": "2022-01-26T17:45:46.514Z"
   },
   {
    "duration": 31,
    "start_time": "2022-01-26T17:45:46.591Z"
   },
   {
    "duration": 65,
    "start_time": "2022-01-26T17:45:46.624Z"
   },
   {
    "duration": 7,
    "start_time": "2022-01-26T17:46:58.721Z"
   },
   {
    "duration": 28,
    "start_time": "2022-01-26T17:47:38.042Z"
   },
   {
    "duration": 23,
    "start_time": "2022-01-26T17:48:10.867Z"
   },
   {
    "duration": 4,
    "start_time": "2022-01-26T17:48:16.587Z"
   },
   {
    "duration": 5,
    "start_time": "2022-01-26T17:48:16.594Z"
   },
   {
    "duration": 8,
    "start_time": "2022-01-26T17:48:16.602Z"
   },
   {
    "duration": 1032,
    "start_time": "2022-01-26T17:48:16.612Z"
   },
   {
    "duration": 53,
    "start_time": "2022-01-26T17:48:17.647Z"
   },
   {
    "duration": 213,
    "start_time": "2022-01-26T17:48:17.702Z"
   },
   {
    "duration": 474,
    "start_time": "2022-01-26T17:48:17.918Z"
   },
   {
    "duration": 297,
    "start_time": "2022-01-26T17:48:18.394Z"
   },
   {
    "duration": 9,
    "start_time": "2022-01-26T17:48:18.694Z"
   },
   {
    "duration": 427,
    "start_time": "2022-01-26T17:48:18.706Z"
   },
   {
    "duration": 14,
    "start_time": "2022-01-26T17:48:19.136Z"
   },
   {
    "duration": 19,
    "start_time": "2022-01-26T17:48:19.153Z"
   },
   {
    "duration": 40,
    "start_time": "2022-01-26T17:48:19.175Z"
   },
   {
    "duration": 69,
    "start_time": "2022-01-26T17:48:19.218Z"
   },
   {
    "duration": 37,
    "start_time": "2022-01-26T17:48:19.290Z"
   },
   {
    "duration": 590,
    "start_time": "2022-01-26T18:09:16.776Z"
   },
   {
    "duration": 4,
    "start_time": "2022-01-26T18:09:40.671Z"
   },
   {
    "duration": 10,
    "start_time": "2022-01-26T18:09:40.677Z"
   },
   {
    "duration": 6,
    "start_time": "2022-01-26T18:09:40.691Z"
   },
   {
    "duration": 968,
    "start_time": "2022-01-26T18:09:40.700Z"
   },
   {
    "duration": 51,
    "start_time": "2022-01-26T18:09:41.671Z"
   },
   {
    "duration": 261,
    "start_time": "2022-01-26T18:09:41.725Z"
   },
   {
    "duration": 602,
    "start_time": "2022-01-26T18:09:41.989Z"
   },
   {
    "duration": 235,
    "start_time": "2022-01-26T18:09:42.594Z"
   },
   {
    "duration": 8,
    "start_time": "2022-01-26T18:09:42.833Z"
   },
   {
    "duration": 340,
    "start_time": "2022-01-26T18:09:42.868Z"
   },
   {
    "duration": 10,
    "start_time": "2022-01-26T18:09:43.211Z"
   },
   {
    "duration": 8,
    "start_time": "2022-01-26T18:09:43.224Z"
   },
   {
    "duration": 64,
    "start_time": "2022-01-26T18:09:43.234Z"
   },
   {
    "duration": 70,
    "start_time": "2022-01-26T18:09:43.300Z"
   },
   {
    "duration": 40,
    "start_time": "2022-01-26T18:09:43.373Z"
   },
   {
    "duration": 23,
    "start_time": "2022-01-26T18:10:13.454Z"
   },
   {
    "duration": 5,
    "start_time": "2022-01-26T18:11:41.653Z"
   },
   {
    "duration": 10,
    "start_time": "2022-01-26T18:11:41.662Z"
   },
   {
    "duration": 5,
    "start_time": "2022-01-26T18:11:41.676Z"
   },
   {
    "duration": 1013,
    "start_time": "2022-01-26T18:11:41.685Z"
   },
   {
    "duration": 54,
    "start_time": "2022-01-26T18:11:42.701Z"
   },
   {
    "duration": 203,
    "start_time": "2022-01-26T18:11:42.757Z"
   },
   {
    "duration": 400,
    "start_time": "2022-01-26T18:11:42.970Z"
   },
   {
    "duration": 239,
    "start_time": "2022-01-26T18:11:43.375Z"
   },
   {
    "duration": 9,
    "start_time": "2022-01-26T18:11:43.618Z"
   },
   {
    "duration": 360,
    "start_time": "2022-01-26T18:11:43.630Z"
   },
   {
    "duration": 11,
    "start_time": "2022-01-26T18:11:43.993Z"
   },
   {
    "duration": 5,
    "start_time": "2022-01-26T18:11:44.006Z"
   },
   {
    "duration": 61,
    "start_time": "2022-01-26T18:11:44.014Z"
   },
   {
    "duration": 17,
    "start_time": "2022-01-26T18:11:44.077Z"
   },
   {
    "duration": 82,
    "start_time": "2022-01-26T18:11:44.097Z"
   },
   {
    "duration": 35,
    "start_time": "2022-01-26T18:11:44.181Z"
   },
   {
    "duration": 339,
    "start_time": "2022-01-26T18:24:24.646Z"
   },
   {
    "duration": 5,
    "start_time": "2022-01-26T18:24:39.373Z"
   },
   {
    "duration": 5,
    "start_time": "2022-01-26T18:24:45.227Z"
   },
   {
    "duration": 21,
    "start_time": "2022-01-26T18:25:06.109Z"
   },
   {
    "duration": 4,
    "start_time": "2022-01-26T18:32:21.624Z"
   },
   {
    "duration": 8,
    "start_time": "2022-01-26T18:32:21.631Z"
   },
   {
    "duration": 7,
    "start_time": "2022-01-26T18:32:21.642Z"
   },
   {
    "duration": 1027,
    "start_time": "2022-01-26T18:32:21.652Z"
   },
   {
    "duration": 54,
    "start_time": "2022-01-26T18:32:22.682Z"
   },
   {
    "duration": 239,
    "start_time": "2022-01-26T18:32:22.738Z"
   },
   {
    "duration": 453,
    "start_time": "2022-01-26T18:32:22.979Z"
   },
   {
    "duration": 250,
    "start_time": "2022-01-26T18:32:23.434Z"
   },
   {
    "duration": 8,
    "start_time": "2022-01-26T18:32:23.689Z"
   },
   {
    "duration": 6,
    "start_time": "2022-01-26T18:32:23.701Z"
   },
   {
    "duration": 368,
    "start_time": "2022-01-26T18:32:23.710Z"
   },
   {
    "duration": 10,
    "start_time": "2022-01-26T18:32:24.080Z"
   },
   {
    "duration": 9,
    "start_time": "2022-01-26T18:32:24.092Z"
   },
   {
    "duration": 39,
    "start_time": "2022-01-26T18:32:24.103Z"
   },
   {
    "duration": 65,
    "start_time": "2022-01-26T18:32:24.146Z"
   },
   {
    "duration": 68,
    "start_time": "2022-01-26T18:32:24.214Z"
   },
   {
    "duration": 5,
    "start_time": "2022-01-26T18:34:12.284Z"
   },
   {
    "duration": 10,
    "start_time": "2022-01-26T18:34:12.291Z"
   },
   {
    "duration": 10,
    "start_time": "2022-01-26T18:34:12.304Z"
   },
   {
    "duration": 1010,
    "start_time": "2022-01-26T18:34:12.316Z"
   },
   {
    "duration": 55,
    "start_time": "2022-01-26T18:34:13.329Z"
   },
   {
    "duration": 206,
    "start_time": "2022-01-26T18:34:13.386Z"
   },
   {
    "duration": 432,
    "start_time": "2022-01-26T18:34:13.594Z"
   },
   {
    "duration": 241,
    "start_time": "2022-01-26T18:34:14.028Z"
   },
   {
    "duration": 8,
    "start_time": "2022-01-26T18:34:14.272Z"
   },
   {
    "duration": 16,
    "start_time": "2022-01-26T18:34:22.596Z"
   },
   {
    "duration": 27,
    "start_time": "2022-01-26T18:34:32.894Z"
   },
   {
    "duration": 16,
    "start_time": "2022-01-26T18:34:37.973Z"
   },
   {
    "duration": 5,
    "start_time": "2022-01-26T18:34:48.774Z"
   },
   {
    "duration": 16,
    "start_time": "2022-01-26T18:34:49.901Z"
   },
   {
    "duration": 6,
    "start_time": "2022-01-26T18:35:01.174Z"
   },
   {
    "duration": 17,
    "start_time": "2022-01-26T18:35:02.540Z"
   },
   {
    "duration": 4,
    "start_time": "2022-01-26T18:35:08.090Z"
   },
   {
    "duration": 11,
    "start_time": "2022-01-26T18:35:08.097Z"
   },
   {
    "duration": 14,
    "start_time": "2022-01-26T18:35:08.111Z"
   },
   {
    "duration": 984,
    "start_time": "2022-01-26T18:35:08.128Z"
   },
   {
    "duration": 51,
    "start_time": "2022-01-26T18:35:09.114Z"
   },
   {
    "duration": 172,
    "start_time": "2022-01-26T18:35:09.168Z"
   },
   {
    "duration": 422,
    "start_time": "2022-01-26T18:35:09.342Z"
   },
   {
    "duration": 245,
    "start_time": "2022-01-26T18:35:09.770Z"
   },
   {
    "duration": 11,
    "start_time": "2022-01-26T18:35:10.019Z"
   },
   {
    "duration": 10,
    "start_time": "2022-01-26T18:35:10.033Z"
   },
   {
    "duration": 17,
    "start_time": "2022-01-26T18:35:11.818Z"
   },
   {
    "duration": 28,
    "start_time": "2022-01-26T18:35:21.181Z"
   },
   {
    "duration": 17,
    "start_time": "2022-01-26T18:35:32.437Z"
   },
   {
    "duration": 6,
    "start_time": "2022-01-26T18:35:59.293Z"
   },
   {
    "duration": 17,
    "start_time": "2022-01-26T18:36:00.382Z"
   },
   {
    "duration": 31,
    "start_time": "2022-01-26T18:36:06.390Z"
   },
   {
    "duration": 4,
    "start_time": "2022-01-26T18:37:09.734Z"
   },
   {
    "duration": 7,
    "start_time": "2022-01-26T18:37:09.741Z"
   },
   {
    "duration": 8,
    "start_time": "2022-01-26T18:37:09.750Z"
   },
   {
    "duration": 1005,
    "start_time": "2022-01-26T18:37:09.761Z"
   },
   {
    "duration": 53,
    "start_time": "2022-01-26T18:37:10.768Z"
   },
   {
    "duration": 220,
    "start_time": "2022-01-26T18:37:10.823Z"
   },
   {
    "duration": 430,
    "start_time": "2022-01-26T18:37:11.045Z"
   },
   {
    "duration": 246,
    "start_time": "2022-01-26T18:37:11.478Z"
   },
   {
    "duration": 9,
    "start_time": "2022-01-26T18:37:11.730Z"
   },
   {
    "duration": 27,
    "start_time": "2022-01-26T18:37:11.742Z"
   },
   {
    "duration": 347,
    "start_time": "2022-01-26T18:37:11.772Z"
   },
   {
    "duration": 10,
    "start_time": "2022-01-26T18:37:12.122Z"
   },
   {
    "duration": 7,
    "start_time": "2022-01-26T18:37:12.135Z"
   },
   {
    "duration": 58,
    "start_time": "2022-01-26T18:37:12.145Z"
   },
   {
    "duration": 70,
    "start_time": "2022-01-26T18:37:12.206Z"
   },
   {
    "duration": 36,
    "start_time": "2022-01-26T18:37:12.279Z"
   },
   {
    "duration": 9,
    "start_time": "2022-01-26T18:37:38.037Z"
   },
   {
    "duration": 9,
    "start_time": "2022-01-26T18:38:32.445Z"
   },
   {
    "duration": 935,
    "start_time": "2022-01-26T18:38:48.325Z"
   },
   {
    "duration": 5,
    "start_time": "2022-01-26T18:38:49.264Z"
   },
   {
    "duration": 5,
    "start_time": "2022-01-26T18:38:49.273Z"
   },
   {
    "duration": 1280,
    "start_time": "2022-01-26T18:38:49.281Z"
   },
   {
    "duration": 63,
    "start_time": "2022-01-26T18:38:50.564Z"
   },
   {
    "duration": 247,
    "start_time": "2022-01-26T18:38:50.630Z"
   },
   {
    "duration": 526,
    "start_time": "2022-01-26T18:38:50.879Z"
   },
   {
    "duration": 260,
    "start_time": "2022-01-26T18:38:51.408Z"
   },
   {
    "duration": 9,
    "start_time": "2022-01-26T18:38:51.673Z"
   },
   {
    "duration": 10,
    "start_time": "2022-01-26T18:38:51.684Z"
   },
   {
    "duration": 376,
    "start_time": "2022-01-26T18:38:51.697Z"
   },
   {
    "duration": 11,
    "start_time": "2022-01-26T18:38:52.075Z"
   },
   {
    "duration": 5,
    "start_time": "2022-01-26T18:38:52.089Z"
   },
   {
    "duration": 41,
    "start_time": "2022-01-26T18:38:52.097Z"
   },
   {
    "duration": 68,
    "start_time": "2022-01-26T18:38:52.141Z"
   },
   {
    "duration": 58,
    "start_time": "2022-01-26T18:38:52.211Z"
   },
   {
    "duration": 9,
    "start_time": "2022-01-26T18:38:52.272Z"
   },
   {
    "duration": 8,
    "start_time": "2022-01-26T18:39:25.913Z"
   },
   {
    "duration": 19,
    "start_time": "2022-01-26T18:40:45.441Z"
   },
   {
    "duration": 414,
    "start_time": "2022-01-26T18:45:15.679Z"
   },
   {
    "duration": 364,
    "start_time": "2022-01-26T18:47:31.384Z"
   },
   {
    "duration": 37,
    "start_time": "2022-01-26T18:50:11.040Z"
   },
   {
    "duration": 20,
    "start_time": "2022-01-26T18:50:29.551Z"
   },
   {
    "duration": 12,
    "start_time": "2022-01-26T18:50:45.831Z"
   },
   {
    "duration": 27,
    "start_time": "2022-01-26T18:50:50.103Z"
   },
   {
    "duration": 4,
    "start_time": "2022-01-26T18:52:23.823Z"
   },
   {
    "duration": 14,
    "start_time": "2022-01-26T18:52:23.830Z"
   },
   {
    "duration": 8,
    "start_time": "2022-01-26T18:52:23.847Z"
   },
   {
    "duration": 992,
    "start_time": "2022-01-26T18:52:23.858Z"
   },
   {
    "duration": 55,
    "start_time": "2022-01-26T18:52:24.853Z"
   },
   {
    "duration": 210,
    "start_time": "2022-01-26T18:52:24.911Z"
   },
   {
    "duration": 413,
    "start_time": "2022-01-26T18:52:25.124Z"
   },
   {
    "duration": 250,
    "start_time": "2022-01-26T18:52:25.540Z"
   },
   {
    "duration": 8,
    "start_time": "2022-01-26T18:52:25.794Z"
   },
   {
    "duration": 6,
    "start_time": "2022-01-26T18:52:25.805Z"
   },
   {
    "duration": 373,
    "start_time": "2022-01-26T18:52:25.813Z"
   },
   {
    "duration": 12,
    "start_time": "2022-01-26T18:52:26.189Z"
   },
   {
    "duration": 10,
    "start_time": "2022-01-26T18:52:26.203Z"
   },
   {
    "duration": 61,
    "start_time": "2022-01-26T18:52:26.215Z"
   },
   {
    "duration": 43,
    "start_time": "2022-01-26T18:52:26.279Z"
   },
   {
    "duration": 79,
    "start_time": "2022-01-26T18:52:26.325Z"
   },
   {
    "duration": 9,
    "start_time": "2022-01-26T18:52:26.407Z"
   },
   {
    "duration": 18,
    "start_time": "2022-01-26T19:03:54.902Z"
   },
   {
    "duration": 4,
    "start_time": "2022-01-26T19:05:42.170Z"
   },
   {
    "duration": 5,
    "start_time": "2022-01-26T19:05:42.177Z"
   },
   {
    "duration": 7,
    "start_time": "2022-01-26T19:05:42.185Z"
   },
   {
    "duration": 1043,
    "start_time": "2022-01-26T19:05:42.195Z"
   },
   {
    "duration": 54,
    "start_time": "2022-01-26T19:05:43.241Z"
   },
   {
    "duration": 194,
    "start_time": "2022-01-26T19:05:43.297Z"
   },
   {
    "duration": 438,
    "start_time": "2022-01-26T19:05:43.493Z"
   },
   {
    "duration": 252,
    "start_time": "2022-01-26T19:05:43.933Z"
   },
   {
    "duration": 8,
    "start_time": "2022-01-26T19:05:44.188Z"
   },
   {
    "duration": 18,
    "start_time": "2022-01-26T19:05:44.199Z"
   },
   {
    "duration": 343,
    "start_time": "2022-01-26T19:05:50.167Z"
   },
   {
    "duration": 18,
    "start_time": "2022-01-26T19:05:54.390Z"
   },
   {
    "duration": 5,
    "start_time": "2022-01-26T19:09:01.648Z"
   },
   {
    "duration": 17,
    "start_time": "2022-01-26T19:09:01.656Z"
   },
   {
    "duration": 8,
    "start_time": "2022-01-26T19:09:01.677Z"
   },
   {
    "duration": 1162,
    "start_time": "2022-01-26T19:09:01.688Z"
   },
   {
    "duration": 55,
    "start_time": "2022-01-26T19:09:02.853Z"
   },
   {
    "duration": 228,
    "start_time": "2022-01-26T19:09:02.910Z"
   },
   {
    "duration": 468,
    "start_time": "2022-01-26T19:09:03.140Z"
   },
   {
    "duration": 283,
    "start_time": "2022-01-26T19:09:03.610Z"
   },
   {
    "duration": 9,
    "start_time": "2022-01-26T19:09:03.896Z"
   },
   {
    "duration": 10,
    "start_time": "2022-01-26T19:09:03.908Z"
   },
   {
    "duration": 20,
    "start_time": "2022-01-26T19:09:29.373Z"
   },
   {
    "duration": 31,
    "start_time": "2022-01-26T19:10:28.356Z"
   },
   {
    "duration": 311,
    "start_time": "2022-01-26T19:11:38.430Z"
   },
   {
    "duration": 26,
    "start_time": "2022-01-26T19:11:46.853Z"
   },
   {
    "duration": 32,
    "start_time": "2022-01-26T19:12:07.455Z"
   },
   {
    "duration": 32,
    "start_time": "2022-01-26T19:13:43.375Z"
   },
   {
    "duration": 5,
    "start_time": "2022-01-26T19:14:57.453Z"
   },
   {
    "duration": 4,
    "start_time": "2022-01-26T19:15:00.524Z"
   },
   {
    "duration": 1180,
    "start_time": "2022-01-26T19:15:01.036Z"
   },
   {
    "duration": 15,
    "start_time": "2022-01-26T19:15:17.403Z"
   },
   {
    "duration": 8666,
    "start_time": "2022-01-26T19:15:36.461Z"
   },
   {
    "duration": 105,
    "start_time": "2022-01-26T19:17:06.595Z"
   },
   {
    "duration": 271,
    "start_time": "2022-01-26T19:17:42.285Z"
   },
   {
    "duration": 20,
    "start_time": "2022-01-26T19:17:53.340Z"
   },
   {
    "duration": 13,
    "start_time": "2022-01-26T19:18:07.069Z"
   },
   {
    "duration": 17,
    "start_time": "2022-01-26T19:18:10.645Z"
   },
   {
    "duration": 13,
    "start_time": "2022-01-26T19:18:19.572Z"
   },
   {
    "duration": 18,
    "start_time": "2022-01-26T19:18:26.948Z"
   },
   {
    "duration": 18,
    "start_time": "2022-01-26T19:18:31.421Z"
   },
   {
    "duration": 31,
    "start_time": "2022-01-26T19:19:43.445Z"
   },
   {
    "duration": 1089,
    "start_time": "2022-01-26T19:19:49.468Z"
   },
   {
    "duration": 386,
    "start_time": "2022-01-26T19:19:57.244Z"
   },
   {
    "duration": 83,
    "start_time": "2022-01-26T19:20:11.411Z"
   },
   {
    "duration": 111,
    "start_time": "2022-01-26T19:20:21.109Z"
   },
   {
    "duration": 57,
    "start_time": "2022-01-26T19:20:34.556Z"
   },
   {
    "duration": 1028,
    "start_time": "2022-01-26T19:20:54.436Z"
   },
   {
    "duration": 129,
    "start_time": "2022-01-26T19:21:06.199Z"
   },
   {
    "duration": 56,
    "start_time": "2022-01-26T19:21:07.683Z"
   },
   {
    "duration": 6,
    "start_time": "2022-01-26T19:23:30.270Z"
   },
   {
    "duration": 6,
    "start_time": "2022-01-26T19:23:41.043Z"
   },
   {
    "duration": 5,
    "start_time": "2022-01-26T19:23:45.283Z"
   },
   {
    "duration": 7,
    "start_time": "2022-01-26T19:23:50.880Z"
   },
   {
    "duration": 4,
    "start_time": "2022-01-26T19:25:10.895Z"
   },
   {
    "duration": 6,
    "start_time": "2022-01-26T19:25:10.902Z"
   },
   {
    "duration": 4,
    "start_time": "2022-01-26T19:25:10.911Z"
   },
   {
    "duration": 1018,
    "start_time": "2022-01-26T19:25:10.918Z"
   },
   {
    "duration": 51,
    "start_time": "2022-01-26T19:25:11.938Z"
   },
   {
    "duration": 196,
    "start_time": "2022-01-26T19:25:11.992Z"
   },
   {
    "duration": 414,
    "start_time": "2022-01-26T19:25:12.191Z"
   },
   {
    "duration": 235,
    "start_time": "2022-01-26T19:25:12.607Z"
   },
   {
    "duration": 9,
    "start_time": "2022-01-26T19:25:12.846Z"
   },
   {
    "duration": 15,
    "start_time": "2022-01-26T19:25:12.858Z"
   },
   {
    "duration": 44,
    "start_time": "2022-01-26T19:25:12.877Z"
   },
   {
    "duration": 333,
    "start_time": "2022-01-26T19:25:12.923Z"
   },
   {
    "duration": 12,
    "start_time": "2022-01-26T19:25:13.258Z"
   },
   {
    "duration": 5,
    "start_time": "2022-01-26T19:25:13.273Z"
   },
   {
    "duration": 42,
    "start_time": "2022-01-26T19:25:13.280Z"
   },
   {
    "duration": 68,
    "start_time": "2022-01-26T19:25:13.325Z"
   },
   {
    "duration": 42,
    "start_time": "2022-01-26T19:25:13.396Z"
   },
   {
    "duration": 44,
    "start_time": "2022-01-26T19:25:13.441Z"
   },
   {
    "duration": 5,
    "start_time": "2022-01-26T19:27:53.036Z"
   },
   {
    "duration": 7,
    "start_time": "2022-01-26T19:27:53.043Z"
   },
   {
    "duration": 9,
    "start_time": "2022-01-26T19:27:53.053Z"
   },
   {
    "duration": 1012,
    "start_time": "2022-01-26T19:27:53.065Z"
   },
   {
    "duration": 56,
    "start_time": "2022-01-26T19:27:54.079Z"
   },
   {
    "duration": 206,
    "start_time": "2022-01-26T19:27:54.137Z"
   },
   {
    "duration": 446,
    "start_time": "2022-01-26T19:27:54.346Z"
   },
   {
    "duration": 276,
    "start_time": "2022-01-26T19:27:54.794Z"
   },
   {
    "duration": 9,
    "start_time": "2022-01-26T19:27:55.074Z"
   },
   {
    "duration": 8,
    "start_time": "2022-01-26T19:27:55.085Z"
   },
   {
    "duration": 327,
    "start_time": "2022-01-26T19:27:55.096Z"
   },
   {
    "duration": 11,
    "start_time": "2022-01-26T19:27:55.426Z"
   },
   {
    "duration": 7,
    "start_time": "2022-01-26T19:27:55.439Z"
   },
   {
    "duration": 59,
    "start_time": "2022-01-26T19:27:55.448Z"
   },
   {
    "duration": 60,
    "start_time": "2022-01-26T19:27:55.509Z"
   },
   {
    "duration": 323,
    "start_time": "2022-01-26T19:27:55.571Z"
   },
   {
    "duration": -56,
    "start_time": "2022-01-26T19:27:55.952Z"
   },
   {
    "duration": 42,
    "start_time": "2022-01-26T19:28:28.539Z"
   },
   {
    "duration": 20,
    "start_time": "2022-01-26T19:34:28.106Z"
   },
   {
    "duration": 5,
    "start_time": "2022-01-26T19:36:09.488Z"
   },
   {
    "duration": 8,
    "start_time": "2022-01-26T19:36:09.496Z"
   },
   {
    "duration": 5,
    "start_time": "2022-01-26T19:36:09.508Z"
   },
   {
    "duration": 1059,
    "start_time": "2022-01-26T19:36:09.515Z"
   },
   {
    "duration": 54,
    "start_time": "2022-01-26T19:36:10.576Z"
   },
   {
    "duration": 214,
    "start_time": "2022-01-26T19:36:10.633Z"
   },
   {
    "duration": 429,
    "start_time": "2022-01-26T19:36:10.850Z"
   },
   {
    "duration": 238,
    "start_time": "2022-01-26T19:36:11.282Z"
   },
   {
    "duration": 8,
    "start_time": "2022-01-26T19:36:11.524Z"
   },
   {
    "duration": 8,
    "start_time": "2022-01-26T19:36:11.535Z"
   },
   {
    "duration": 295,
    "start_time": "2022-01-26T19:36:11.568Z"
   },
   {
    "duration": 11,
    "start_time": "2022-01-26T19:36:11.865Z"
   },
   {
    "duration": 6,
    "start_time": "2022-01-26T19:36:11.878Z"
   },
   {
    "duration": 36,
    "start_time": "2022-01-26T19:36:11.886Z"
   },
   {
    "duration": 73,
    "start_time": "2022-01-26T19:36:11.925Z"
   },
   {
    "duration": 356,
    "start_time": "2022-01-26T19:36:12.002Z"
   },
   {
    "duration": -29,
    "start_time": "2022-01-26T19:36:12.390Z"
   },
   {
    "duration": 38,
    "start_time": "2022-01-26T19:36:41.721Z"
   },
   {
    "duration": 31,
    "start_time": "2022-01-26T19:38:23.242Z"
   },
   {
    "duration": 10,
    "start_time": "2022-01-26T19:38:50.211Z"
   },
   {
    "duration": 31,
    "start_time": "2022-01-26T19:39:25.681Z"
   },
   {
    "duration": 9,
    "start_time": "2022-01-26T19:39:27.832Z"
   },
   {
    "duration": 13,
    "start_time": "2022-01-26T19:40:09.481Z"
   },
   {
    "duration": 14,
    "start_time": "2022-01-26T19:40:17.153Z"
   },
   {
    "duration": 10,
    "start_time": "2022-01-26T19:40:27.625Z"
   },
   {
    "duration": 9,
    "start_time": "2022-01-26T19:40:33.271Z"
   },
   {
    "duration": 39,
    "start_time": "2022-01-26T19:41:11.170Z"
   },
   {
    "duration": 18,
    "start_time": "2022-01-26T19:41:58.073Z"
   },
   {
    "duration": 33,
    "start_time": "2022-01-26T19:42:51.976Z"
   },
   {
    "duration": 18,
    "start_time": "2022-01-26T19:42:53.866Z"
   },
   {
    "duration": 302,
    "start_time": "2022-01-26T19:43:15.224Z"
   },
   {
    "duration": 13,
    "start_time": "2022-01-26T19:43:18.673Z"
   },
   {
    "duration": 19,
    "start_time": "2022-01-26T19:43:32.097Z"
   },
   {
    "duration": 19,
    "start_time": "2022-01-26T19:44:30.970Z"
   },
   {
    "duration": 13,
    "start_time": "2022-01-26T19:44:50.896Z"
   },
   {
    "duration": 25,
    "start_time": "2022-01-26T19:46:21.929Z"
   },
   {
    "duration": 18,
    "start_time": "2022-01-26T19:46:52.498Z"
   },
   {
    "duration": 47,
    "start_time": "2022-01-26T19:47:40.609Z"
   },
   {
    "duration": 18,
    "start_time": "2022-01-26T19:47:42.969Z"
   },
   {
    "duration": 6,
    "start_time": "2022-01-26T19:48:08.027Z"
   },
   {
    "duration": 6,
    "start_time": "2022-01-26T19:48:08.036Z"
   },
   {
    "duration": 10,
    "start_time": "2022-01-26T19:48:08.046Z"
   },
   {
    "duration": 1066,
    "start_time": "2022-01-26T19:48:08.059Z"
   },
   {
    "duration": 55,
    "start_time": "2022-01-26T19:48:09.127Z"
   },
   {
    "duration": 230,
    "start_time": "2022-01-26T19:48:09.185Z"
   },
   {
    "duration": 429,
    "start_time": "2022-01-26T19:48:09.418Z"
   },
   {
    "duration": 257,
    "start_time": "2022-01-26T19:48:09.850Z"
   },
   {
    "duration": 9,
    "start_time": "2022-01-26T19:48:10.112Z"
   },
   {
    "duration": 9,
    "start_time": "2022-01-26T19:48:10.123Z"
   },
   {
    "duration": 325,
    "start_time": "2022-01-26T19:48:10.135Z"
   },
   {
    "duration": 15,
    "start_time": "2022-01-26T19:48:10.462Z"
   },
   {
    "duration": 10,
    "start_time": "2022-01-26T19:48:10.479Z"
   },
   {
    "duration": 38,
    "start_time": "2022-01-26T19:48:10.491Z"
   },
   {
    "duration": 65,
    "start_time": "2022-01-26T19:48:10.531Z"
   },
   {
    "duration": 43,
    "start_time": "2022-01-26T19:48:10.599Z"
   },
   {
    "duration": 19,
    "start_time": "2022-01-26T19:48:28.625Z"
   },
   {
    "duration": 11,
    "start_time": "2022-01-26T19:48:43.529Z"
   },
   {
    "duration": 13,
    "start_time": "2022-01-26T19:49:36.424Z"
   },
   {
    "duration": 25,
    "start_time": "2022-01-26T19:49:43.241Z"
   },
   {
    "duration": 44,
    "start_time": "2022-01-26T19:52:23.050Z"
   },
   {
    "duration": 313,
    "start_time": "2022-01-26T20:30:18.063Z"
   },
   {
    "duration": 8,
    "start_time": "2022-01-26T20:30:42.933Z"
   },
   {
    "duration": 8,
    "start_time": "2022-01-26T20:31:04.358Z"
   },
   {
    "duration": 370,
    "start_time": "2022-01-26T20:31:10.237Z"
   },
   {
    "duration": 413,
    "start_time": "2022-01-26T20:31:14.869Z"
   },
   {
    "duration": 340,
    "start_time": "2022-01-26T20:31:20.132Z"
   },
   {
    "duration": 9,
    "start_time": "2022-01-26T20:31:26.957Z"
   },
   {
    "duration": 9,
    "start_time": "2022-01-26T20:37:51.924Z"
   },
   {
    "duration": 9642,
    "start_time": "2022-01-26T20:39:42.027Z"
   },
   {
    "duration": 13,
    "start_time": "2022-01-26T20:45:32.249Z"
   },
   {
    "duration": 12,
    "start_time": "2022-01-26T20:48:06.048Z"
   },
   {
    "duration": 635,
    "start_time": "2022-01-26T20:48:10.241Z"
   },
   {
    "duration": 4599,
    "start_time": "2022-01-26T20:50:59.833Z"
   },
   {
    "duration": 644,
    "start_time": "2022-01-26T20:51:42.690Z"
   },
   {
    "duration": 14,
    "start_time": "2022-01-26T20:53:24.418Z"
   },
   {
    "duration": 661,
    "start_time": "2022-01-26T20:53:25.025Z"
   },
   {
    "duration": 13,
    "start_time": "2022-01-26T20:54:22.560Z"
   },
   {
    "duration": 2333,
    "start_time": "2022-01-26T20:54:23.657Z"
   },
   {
    "duration": 12,
    "start_time": "2022-01-26T20:54:44.938Z"
   },
   {
    "duration": 5779,
    "start_time": "2022-01-26T20:54:45.738Z"
   },
   {
    "duration": 12,
    "start_time": "2022-01-26T20:55:35.770Z"
   },
   {
    "duration": 610,
    "start_time": "2022-01-26T20:55:36.153Z"
   },
   {
    "duration": 9,
    "start_time": "2022-01-26T20:57:01.784Z"
   },
   {
    "duration": 7,
    "start_time": "2022-01-26T20:57:05.481Z"
   },
   {
    "duration": 8,
    "start_time": "2022-01-26T20:57:14.577Z"
   },
   {
    "duration": 13,
    "start_time": "2022-01-26T20:58:05.985Z"
   },
   {
    "duration": 5159,
    "start_time": "2022-01-26T20:58:06.761Z"
   },
   {
    "duration": 2072,
    "start_time": "2022-01-26T20:59:41.153Z"
   },
   {
    "duration": 8,
    "start_time": "2022-01-26T20:59:47.593Z"
   },
   {
    "duration": 12,
    "start_time": "2022-01-26T21:00:10.801Z"
   },
   {
    "duration": 620,
    "start_time": "2022-01-26T21:00:12.377Z"
   },
   {
    "duration": 13,
    "start_time": "2022-01-26T21:01:48.824Z"
   },
   {
    "duration": 616,
    "start_time": "2022-01-26T21:01:51.713Z"
   },
   {
    "duration": 12,
    "start_time": "2022-01-26T21:02:57.834Z"
   },
   {
    "duration": 622,
    "start_time": "2022-01-26T21:02:58.791Z"
   },
   {
    "duration": 17,
    "start_time": "2022-01-26T21:03:45.481Z"
   },
   {
    "duration": 656,
    "start_time": "2022-01-26T21:05:16.880Z"
   },
   {
    "duration": 19,
    "start_time": "2022-01-26T21:06:15.656Z"
   },
   {
    "duration": 662,
    "start_time": "2022-01-26T21:06:17.520Z"
   },
   {
    "duration": 13,
    "start_time": "2022-01-26T21:06:31.934Z"
   },
   {
    "duration": 618,
    "start_time": "2022-01-26T21:06:35.464Z"
   },
   {
    "duration": 12,
    "start_time": "2022-01-26T21:06:53.295Z"
   },
   {
    "duration": 632,
    "start_time": "2022-01-26T21:06:53.983Z"
   },
   {
    "duration": 13,
    "start_time": "2022-01-26T21:09:55.855Z"
   },
   {
    "duration": 691,
    "start_time": "2022-01-26T21:09:57.328Z"
   },
   {
    "duration": 12,
    "start_time": "2022-01-26T21:11:08.306Z"
   },
   {
    "duration": 23111,
    "start_time": "2022-01-26T21:11:09.191Z"
   },
   {
    "duration": 11,
    "start_time": "2022-01-26T21:11:48.246Z"
   },
   {
    "duration": 1609,
    "start_time": "2022-01-26T21:11:48.743Z"
   },
   {
    "duration": 455,
    "start_time": "2022-01-26T21:12:30.255Z"
   },
   {
    "duration": 11,
    "start_time": "2022-01-26T21:12:38.047Z"
   },
   {
    "duration": 646,
    "start_time": "2022-01-26T21:12:39.446Z"
   },
   {
    "duration": 11,
    "start_time": "2022-01-26T21:13:28.687Z"
   },
   {
    "duration": 1038,
    "start_time": "2022-01-26T21:13:29.759Z"
   },
   {
    "duration": 11,
    "start_time": "2022-01-26T21:13:50.575Z"
   },
   {
    "duration": 12,
    "start_time": "2022-01-26T21:14:58.605Z"
   },
   {
    "duration": 687,
    "start_time": "2022-01-26T21:14:59.120Z"
   },
   {
    "duration": 333,
    "start_time": "2022-01-26T21:15:11.831Z"
   },
   {
    "duration": 7,
    "start_time": "2022-01-26T21:15:23.742Z"
   },
   {
    "duration": 8,
    "start_time": "2022-01-26T21:15:40.912Z"
   },
   {
    "duration": 345,
    "start_time": "2022-01-26T21:15:49.831Z"
   },
   {
    "duration": 7,
    "start_time": "2022-01-26T21:16:04.886Z"
   },
   {
    "duration": 14,
    "start_time": "2022-01-26T21:16:21.211Z"
   },
   {
    "duration": 605,
    "start_time": "2022-01-26T21:16:21.951Z"
   },
   {
    "duration": 13,
    "start_time": "2022-01-26T21:16:52.742Z"
   },
   {
    "duration": 13,
    "start_time": "2022-01-26T21:16:56.606Z"
   },
   {
    "duration": 8223,
    "start_time": "2022-01-26T21:16:57.310Z"
   },
   {
    "duration": 13,
    "start_time": "2022-01-26T21:17:08.630Z"
   },
   {
    "duration": 20891,
    "start_time": "2022-01-26T21:17:16.263Z"
   },
   {
    "duration": 19,
    "start_time": "2022-01-26T21:17:43.645Z"
   },
   {
    "duration": 12,
    "start_time": "2022-01-26T21:19:17.239Z"
   },
   {
    "duration": 20337,
    "start_time": "2022-01-26T21:19:17.902Z"
   },
   {
    "duration": 615,
    "start_time": "2022-01-27T17:22:29.929Z"
   },
   {
    "duration": 3,
    "start_time": "2022-01-27T17:22:30.546Z"
   },
   {
    "duration": 11,
    "start_time": "2022-01-27T17:22:30.551Z"
   },
   {
    "duration": 669,
    "start_time": "2022-01-27T17:22:30.564Z"
   },
   {
    "duration": 38,
    "start_time": "2022-01-27T17:22:31.234Z"
   },
   {
    "duration": 165,
    "start_time": "2022-01-27T17:22:31.274Z"
   },
   {
    "duration": 412,
    "start_time": "2022-01-27T17:22:31.441Z"
   },
   {
    "duration": 222,
    "start_time": "2022-01-27T17:22:31.854Z"
   },
   {
    "duration": 6,
    "start_time": "2022-01-27T17:22:32.078Z"
   },
   {
    "duration": 6,
    "start_time": "2022-01-27T17:22:32.097Z"
   },
   {
    "duration": 244,
    "start_time": "2022-01-27T17:22:32.104Z"
   },
   {
    "duration": 8,
    "start_time": "2022-01-27T17:22:32.350Z"
   },
   {
    "duration": 6,
    "start_time": "2022-01-27T17:22:32.360Z"
   },
   {
    "duration": 34,
    "start_time": "2022-01-27T17:22:32.367Z"
   },
   {
    "duration": 26,
    "start_time": "2022-01-27T17:22:32.403Z"
   },
   {
    "duration": 25,
    "start_time": "2022-01-27T17:22:32.431Z"
   },
   {
    "duration": 8,
    "start_time": "2022-01-27T17:22:32.457Z"
   },
   {
    "duration": 11195,
    "start_time": "2022-01-27T17:22:32.467Z"
   },
   {
    "duration": 4,
    "start_time": "2022-01-27T17:22:43.664Z"
   },
   {
    "duration": 14,
    "start_time": "2022-01-27T17:22:43.670Z"
   },
   {
    "duration": 3,
    "start_time": "2022-01-27T17:41:14.056Z"
   },
   {
    "duration": 5,
    "start_time": "2022-01-27T17:41:14.062Z"
   },
   {
    "duration": 7,
    "start_time": "2022-01-27T17:41:14.070Z"
   },
   {
    "duration": 624,
    "start_time": "2022-01-27T17:41:14.079Z"
   },
   {
    "duration": 35,
    "start_time": "2022-01-27T17:41:14.705Z"
   },
   {
    "duration": 178,
    "start_time": "2022-01-27T17:41:14.742Z"
   },
   {
    "duration": 401,
    "start_time": "2022-01-27T17:41:14.921Z"
   },
   {
    "duration": 227,
    "start_time": "2022-01-27T17:41:15.324Z"
   },
   {
    "duration": 6,
    "start_time": "2022-01-27T17:41:15.553Z"
   },
   {
    "duration": 10,
    "start_time": "2022-01-27T17:41:15.561Z"
   },
   {
    "duration": 235,
    "start_time": "2022-01-27T17:41:15.573Z"
   },
   {
    "duration": 9,
    "start_time": "2022-01-27T17:41:15.810Z"
   },
   {
    "duration": 9,
    "start_time": "2022-01-27T17:41:15.820Z"
   },
   {
    "duration": 29,
    "start_time": "2022-01-27T17:41:15.830Z"
   },
   {
    "duration": 40,
    "start_time": "2022-01-27T17:41:15.860Z"
   },
   {
    "duration": 29,
    "start_time": "2022-01-27T17:41:15.902Z"
   },
   {
    "duration": 9,
    "start_time": "2022-01-27T17:41:15.932Z"
   },
   {
    "duration": 13911,
    "start_time": "2022-01-27T17:41:15.943Z"
   },
   {
    "duration": 5,
    "start_time": "2022-01-27T17:41:29.855Z"
   },
   {
    "duration": 16,
    "start_time": "2022-01-27T17:41:29.862Z"
   },
   {
    "duration": 14,
    "start_time": "2022-01-27T17:41:31.418Z"
   },
   {
    "duration": 193,
    "start_time": "2022-01-27T17:42:34.452Z"
   },
   {
    "duration": 32,
    "start_time": "2022-01-27T17:42:40.317Z"
   },
   {
    "duration": 36,
    "start_time": "2022-01-27T17:44:45.998Z"
   },
   {
    "duration": 6,
    "start_time": "2022-01-27T17:46:33.068Z"
   },
   {
    "duration": 11500,
    "start_time": "2022-01-27T17:46:38.412Z"
   },
   {
    "duration": 3,
    "start_time": "2022-01-27T18:15:48.585Z"
   },
   {
    "duration": 16,
    "start_time": "2022-01-27T18:26:03.629Z"
   },
   {
    "duration": 51,
    "start_time": "2022-01-27T18:33:15.471Z"
   },
   {
    "duration": 4,
    "start_time": "2022-01-27T19:08:23.219Z"
   },
   {
    "duration": 5,
    "start_time": "2022-01-27T19:08:44.197Z"
   },
   {
    "duration": 5,
    "start_time": "2022-01-27T19:08:47.916Z"
   },
   {
    "duration": 4,
    "start_time": "2022-01-27T19:10:55.115Z"
   },
   {
    "duration": 3,
    "start_time": "2022-01-27T19:11:12.891Z"
   },
   {
    "duration": 7,
    "start_time": "2022-01-27T19:11:14.147Z"
   },
   {
    "duration": 4,
    "start_time": "2022-01-27T19:11:26.972Z"
   },
   {
    "duration": 4,
    "start_time": "2022-01-27T19:11:27.867Z"
   },
   {
    "duration": 4,
    "start_time": "2022-01-27T19:17:15.908Z"
   },
   {
    "duration": 5,
    "start_time": "2022-01-27T19:17:16.539Z"
   },
   {
    "duration": 4,
    "start_time": "2022-01-27T19:17:27.082Z"
   },
   {
    "duration": 6,
    "start_time": "2022-01-27T19:17:28.051Z"
   },
   {
    "duration": 3,
    "start_time": "2022-01-27T19:18:19.114Z"
   },
   {
    "duration": 5,
    "start_time": "2022-01-27T19:18:19.666Z"
   },
   {
    "duration": 4,
    "start_time": "2022-01-27T19:19:12.777Z"
   },
   {
    "duration": 5,
    "start_time": "2022-01-27T19:19:19.850Z"
   },
   {
    "duration": 3,
    "start_time": "2022-01-27T19:19:30.345Z"
   },
   {
    "duration": 5,
    "start_time": "2022-01-27T19:19:31.515Z"
   },
   {
    "duration": 4,
    "start_time": "2022-01-27T19:20:07.537Z"
   },
   {
    "duration": 4,
    "start_time": "2022-01-27T19:20:08.586Z"
   },
   {
    "duration": 3,
    "start_time": "2022-01-27T19:21:07.562Z"
   },
   {
    "duration": 5,
    "start_time": "2022-01-27T19:21:07.970Z"
   },
   {
    "duration": 3,
    "start_time": "2022-01-27T19:21:26.017Z"
   },
   {
    "duration": 9,
    "start_time": "2022-01-27T19:27:32.671Z"
   },
   {
    "duration": 4,
    "start_time": "2022-01-27T19:33:13.329Z"
   },
   {
    "duration": 5,
    "start_time": "2022-01-27T19:34:01.544Z"
   },
   {
    "duration": 6,
    "start_time": "2022-01-27T19:35:09.328Z"
   },
   {
    "duration": 5,
    "start_time": "2022-01-27T19:35:51.999Z"
   },
   {
    "duration": 507,
    "start_time": "2022-01-27T19:36:14.222Z"
   },
   {
    "duration": 5,
    "start_time": "2022-01-27T19:36:49.551Z"
   },
   {
    "duration": 4,
    "start_time": "2022-01-27T19:36:50.903Z"
   },
   {
    "duration": 491,
    "start_time": "2022-01-27T19:36:53.480Z"
   },
   {
    "duration": 6,
    "start_time": "2022-01-27T19:37:42.064Z"
   },
   {
    "duration": 1069,
    "start_time": "2022-01-27T19:38:14.800Z"
   },
   {
    "duration": 6,
    "start_time": "2022-01-27T19:38:21.382Z"
   },
   {
    "duration": 1024,
    "start_time": "2022-01-27T19:38:22.112Z"
   },
   {
    "duration": 6,
    "start_time": "2022-01-27T19:39:28.208Z"
   },
   {
    "duration": 7,
    "start_time": "2022-01-27T19:39:44.647Z"
   },
   {
    "duration": 50,
    "start_time": "2022-01-27T19:39:45.560Z"
   },
   {
    "duration": 967,
    "start_time": "2022-01-27T19:39:49.383Z"
   },
   {
    "duration": 8,
    "start_time": "2022-01-27T19:40:25.142Z"
   },
   {
    "duration": 841,
    "start_time": "2022-01-27T19:40:27.254Z"
   },
   {
    "duration": 855,
    "start_time": "2022-01-27T19:41:17.126Z"
   },
   {
    "duration": 7,
    "start_time": "2022-01-27T19:41:48.198Z"
   },
   {
    "duration": 926,
    "start_time": "2022-01-27T19:41:50.221Z"
   },
   {
    "duration": 6,
    "start_time": "2022-01-27T19:42:18.118Z"
   },
   {
    "duration": 869,
    "start_time": "2022-01-27T19:42:18.606Z"
   },
   {
    "duration": 852,
    "start_time": "2022-01-27T19:42:45.887Z"
   },
   {
    "duration": 1016,
    "start_time": "2022-01-27T19:43:45.608Z"
   },
   {
    "duration": 8,
    "start_time": "2022-01-27T19:44:00.422Z"
   },
   {
    "duration": 1008,
    "start_time": "2022-01-27T19:44:01.622Z"
   },
   {
    "duration": 167,
    "start_time": "2022-01-27T19:46:38.030Z"
   },
   {
    "duration": 880,
    "start_time": "2022-01-27T19:46:46.383Z"
   },
   {
    "duration": 3,
    "start_time": "2022-01-27T19:46:52.795Z"
   },
   {
    "duration": 6,
    "start_time": "2022-01-27T19:46:52.800Z"
   },
   {
    "duration": 6,
    "start_time": "2022-01-27T19:46:52.809Z"
   },
   {
    "duration": 616,
    "start_time": "2022-01-27T19:46:52.817Z"
   },
   {
    "duration": 34,
    "start_time": "2022-01-27T19:46:53.434Z"
   },
   {
    "duration": 171,
    "start_time": "2022-01-27T19:46:53.469Z"
   },
   {
    "duration": 470,
    "start_time": "2022-01-27T19:46:53.642Z"
   },
   {
    "duration": 198,
    "start_time": "2022-01-27T19:46:54.115Z"
   },
   {
    "duration": 6,
    "start_time": "2022-01-27T19:46:54.315Z"
   },
   {
    "duration": 5,
    "start_time": "2022-01-27T19:46:54.323Z"
   },
   {
    "duration": 228,
    "start_time": "2022-01-27T19:46:54.330Z"
   },
   {
    "duration": 9,
    "start_time": "2022-01-27T19:46:54.560Z"
   },
   {
    "duration": 7,
    "start_time": "2022-01-27T19:46:54.571Z"
   },
   {
    "duration": 34,
    "start_time": "2022-01-27T19:46:54.579Z"
   },
   {
    "duration": 29,
    "start_time": "2022-01-27T19:46:54.615Z"
   },
   {
    "duration": 23,
    "start_time": "2022-01-27T19:46:54.646Z"
   },
   {
    "duration": 27,
    "start_time": "2022-01-27T19:46:54.670Z"
   },
   {
    "duration": 11387,
    "start_time": "2022-01-27T19:46:54.698Z"
   },
   {
    "duration": 3,
    "start_time": "2022-01-27T19:47:06.087Z"
   },
   {
    "duration": 14,
    "start_time": "2022-01-27T19:47:06.092Z"
   },
   {
    "duration": 9,
    "start_time": "2022-01-27T19:47:06.108Z"
   },
   {
    "duration": 9,
    "start_time": "2022-01-27T19:47:06.118Z"
   },
   {
    "duration": 927,
    "start_time": "2022-01-27T19:47:06.128Z"
   },
   {
    "duration": 5,
    "start_time": "2022-01-27T19:47:07.057Z"
   },
   {
    "duration": 141,
    "start_time": "2022-01-27T19:47:07.063Z"
   },
   {
    "duration": 946,
    "start_time": "2022-01-27T19:47:38.029Z"
   },
   {
    "duration": 961,
    "start_time": "2022-01-27T19:47:47.229Z"
   },
   {
    "duration": 855,
    "start_time": "2022-01-27T19:53:25.884Z"
   },
   {
    "duration": 5,
    "start_time": "2022-01-27T19:55:04.213Z"
   },
   {
    "duration": 7,
    "start_time": "2022-01-27T19:55:04.692Z"
   },
   {
    "duration": 875,
    "start_time": "2022-01-27T19:55:06.115Z"
   },
   {
    "duration": 5,
    "start_time": "2022-01-27T19:55:53.027Z"
   },
   {
    "duration": 943,
    "start_time": "2022-01-27T19:55:53.723Z"
   },
   {
    "duration": 5,
    "start_time": "2022-01-27T19:56:10.444Z"
   },
   {
    "duration": 868,
    "start_time": "2022-01-27T19:56:11.356Z"
   },
   {
    "duration": 6,
    "start_time": "2022-01-27T19:56:44.132Z"
   },
   {
    "duration": 839,
    "start_time": "2022-01-27T19:56:45.171Z"
   },
   {
    "duration": 86,
    "start_time": "2022-01-27T19:57:04.348Z"
   },
   {
    "duration": 886,
    "start_time": "2022-01-27T19:57:05.219Z"
   },
   {
    "duration": 6,
    "start_time": "2022-01-27T19:57:12.587Z"
   },
   {
    "duration": 843,
    "start_time": "2022-01-27T19:57:13.971Z"
   },
   {
    "duration": 463,
    "start_time": "2022-01-27T19:57:35.196Z"
   },
   {
    "duration": 518,
    "start_time": "2022-01-27T19:57:52.101Z"
   },
   {
    "duration": 865,
    "start_time": "2022-01-27T19:58:18.005Z"
   },
   {
    "duration": 6,
    "start_time": "2022-01-27T19:58:27.804Z"
   },
   {
    "duration": 893,
    "start_time": "2022-01-27T19:58:29.899Z"
   },
   {
    "duration": 6,
    "start_time": "2022-01-27T19:58:36.699Z"
   },
   {
    "duration": 935,
    "start_time": "2022-01-27T19:58:37.411Z"
   },
   {
    "duration": 6,
    "start_time": "2022-01-27T19:59:20.579Z"
   },
   {
    "duration": 861,
    "start_time": "2022-01-27T19:59:21.038Z"
   },
   {
    "duration": 6,
    "start_time": "2022-01-27T19:59:57.419Z"
   },
   {
    "duration": 867,
    "start_time": "2022-01-27T19:59:58.378Z"
   },
   {
    "duration": 6,
    "start_time": "2022-01-27T20:01:03.685Z"
   },
   {
    "duration": 1003,
    "start_time": "2022-01-27T20:01:04.986Z"
   },
   {
    "duration": 870,
    "start_time": "2022-01-27T20:01:19.531Z"
   },
   {
    "duration": 6,
    "start_time": "2022-01-27T20:02:03.066Z"
   },
   {
    "duration": 885,
    "start_time": "2022-01-27T20:02:05.163Z"
   },
   {
    "duration": 6,
    "start_time": "2022-01-28T16:50:13.235Z"
   },
   {
    "duration": 405,
    "start_time": "2022-01-28T16:50:23.047Z"
   },
   {
    "duration": 752,
    "start_time": "2022-01-28T16:50:30.591Z"
   },
   {
    "duration": 4,
    "start_time": "2022-01-28T16:50:31.345Z"
   },
   {
    "duration": 4,
    "start_time": "2022-01-28T16:50:31.352Z"
   },
   {
    "duration": 787,
    "start_time": "2022-01-28T16:50:31.359Z"
   },
   {
    "duration": 42,
    "start_time": "2022-01-28T16:50:32.148Z"
   },
   {
    "duration": 185,
    "start_time": "2022-01-28T16:50:32.193Z"
   },
   {
    "duration": 393,
    "start_time": "2022-01-28T16:50:32.379Z"
   },
   {
    "duration": 236,
    "start_time": "2022-01-28T16:50:32.775Z"
   },
   {
    "duration": 7,
    "start_time": "2022-01-28T16:50:33.013Z"
   },
   {
    "duration": 8,
    "start_time": "2022-01-28T16:50:33.022Z"
   },
   {
    "duration": 256,
    "start_time": "2022-01-28T16:50:33.032Z"
   },
   {
    "duration": 14,
    "start_time": "2022-01-28T16:50:33.290Z"
   },
   {
    "duration": 6,
    "start_time": "2022-01-28T16:50:33.306Z"
   },
   {
    "duration": 29,
    "start_time": "2022-01-28T16:50:33.314Z"
   },
   {
    "duration": 32,
    "start_time": "2022-01-28T16:50:33.345Z"
   },
   {
    "duration": 27,
    "start_time": "2022-01-28T16:50:33.399Z"
   },
   {
    "duration": 10,
    "start_time": "2022-01-28T16:50:33.428Z"
   },
   {
    "duration": 12299,
    "start_time": "2022-01-28T16:50:33.440Z"
   },
   {
    "duration": 3,
    "start_time": "2022-01-28T16:50:45.741Z"
   },
   {
    "duration": 414,
    "start_time": "2022-01-28T16:50:49.624Z"
   },
   {
    "duration": 348,
    "start_time": "2022-01-28T17:32:42.335Z"
   },
   {
    "duration": 701,
    "start_time": "2022-01-28T17:32:50.191Z"
   },
   {
    "duration": 223,
    "start_time": "2022-01-28T17:34:34.095Z"
   },
   {
    "duration": 216,
    "start_time": "2022-01-28T17:34:36.271Z"
   },
   {
    "duration": 457,
    "start_time": "2022-01-28T17:34:43.559Z"
   },
   {
    "duration": 379,
    "start_time": "2022-01-28T17:35:06.262Z"
   },
   {
    "duration": 450,
    "start_time": "2022-01-28T17:35:13.510Z"
   },
   {
    "duration": 381,
    "start_time": "2022-01-28T17:35:24.423Z"
   },
   {
    "duration": 532,
    "start_time": "2022-01-28T17:35:28.750Z"
   },
   {
    "duration": 370,
    "start_time": "2022-01-28T17:35:38.663Z"
   },
   {
    "duration": 356,
    "start_time": "2022-01-28T17:35:41.607Z"
   },
   {
    "duration": 375,
    "start_time": "2022-01-28T17:35:48.599Z"
   },
   {
    "duration": 261,
    "start_time": "2022-01-28T17:35:53.751Z"
   },
   {
    "duration": 373,
    "start_time": "2022-01-28T17:35:58.792Z"
   },
   {
    "duration": 452,
    "start_time": "2022-01-28T17:36:08.695Z"
   },
   {
    "duration": 464,
    "start_time": "2022-01-28T17:36:12.830Z"
   },
   {
    "duration": 353,
    "start_time": "2022-01-28T17:37:03.015Z"
   },
   {
    "duration": 334,
    "start_time": "2022-01-28T17:37:16.479Z"
   },
   {
    "duration": 377,
    "start_time": "2022-01-28T17:37:23.943Z"
   },
   {
    "duration": 336,
    "start_time": "2022-01-28T17:37:27.351Z"
   },
   {
    "duration": 253,
    "start_time": "2022-01-28T17:37:38.583Z"
   },
   {
    "duration": 385,
    "start_time": "2022-01-28T17:38:20.175Z"
   },
   {
    "duration": 551,
    "start_time": "2022-01-28T17:38:24.214Z"
   },
   {
    "duration": 372,
    "start_time": "2022-01-28T17:38:30.133Z"
   },
   {
    "duration": 261,
    "start_time": "2022-01-28T17:38:39.231Z"
   },
   {
    "duration": 336,
    "start_time": "2022-01-28T17:38:41.975Z"
   },
   {
    "duration": 249,
    "start_time": "2022-01-28T17:38:46.463Z"
   },
   {
    "duration": 334,
    "start_time": "2022-01-28T17:38:51.255Z"
   },
   {
    "duration": 268,
    "start_time": "2022-01-28T17:38:54.767Z"
   },
   {
    "duration": 268,
    "start_time": "2022-01-28T17:38:58.566Z"
   },
   {
    "duration": 285,
    "start_time": "2022-01-28T17:39:00.887Z"
   },
   {
    "duration": 178,
    "start_time": "2022-01-28T17:39:04.814Z"
   },
   {
    "duration": 268,
    "start_time": "2022-01-28T17:39:06.861Z"
   },
   {
    "duration": 277,
    "start_time": "2022-01-28T17:39:12.471Z"
   },
   {
    "duration": 448,
    "start_time": "2022-01-28T17:39:15.367Z"
   },
   {
    "duration": 231,
    "start_time": "2022-01-28T17:39:20.454Z"
   },
   {
    "duration": 228,
    "start_time": "2022-01-28T17:39:23.534Z"
   },
   {
    "duration": 299,
    "start_time": "2022-01-28T17:39:27.158Z"
   },
   {
    "duration": 335,
    "start_time": "2022-01-28T17:40:40.847Z"
   },
   {
    "duration": 338,
    "start_time": "2022-01-28T17:40:52.950Z"
   },
   {
    "duration": 345,
    "start_time": "2022-01-28T17:40:56.039Z"
   },
   {
    "duration": 375,
    "start_time": "2022-01-28T17:41:01.791Z"
   },
   {
    "duration": 353,
    "start_time": "2022-01-28T17:41:08.007Z"
   },
   {
    "duration": 351,
    "start_time": "2022-01-28T17:41:17.157Z"
   },
   {
    "duration": 339,
    "start_time": "2022-01-28T17:41:21.239Z"
   },
   {
    "duration": 344,
    "start_time": "2022-01-28T17:41:32.808Z"
   },
   {
    "duration": 247,
    "start_time": "2022-01-28T17:41:40.574Z"
   },
   {
    "duration": 383,
    "start_time": "2022-01-28T17:41:43.526Z"
   },
   {
    "duration": 325,
    "start_time": "2022-01-28T17:41:45.655Z"
   },
   {
    "duration": 332,
    "start_time": "2022-01-28T17:41:47.591Z"
   },
   {
    "duration": 78,
    "start_time": "2022-01-28T17:41:50.967Z"
   },
   {
    "duration": 331,
    "start_time": "2022-01-28T17:41:52.254Z"
   },
   {
    "duration": 349,
    "start_time": "2022-01-28T17:42:01.815Z"
   },
   {
    "duration": 324,
    "start_time": "2022-01-28T17:42:49.687Z"
   },
   {
    "duration": 353,
    "start_time": "2022-01-28T17:42:56.574Z"
   },
   {
    "duration": 331,
    "start_time": "2022-01-28T17:43:01.678Z"
   },
   {
    "duration": 342,
    "start_time": "2022-01-28T17:43:06.014Z"
   },
   {
    "duration": 319,
    "start_time": "2022-01-28T17:43:17.397Z"
   },
   {
    "duration": 488,
    "start_time": "2022-01-28T17:43:22.558Z"
   },
   {
    "duration": 467,
    "start_time": "2022-01-28T17:43:25.710Z"
   },
   {
    "duration": 339,
    "start_time": "2022-01-28T17:43:29.230Z"
   },
   {
    "duration": 327,
    "start_time": "2022-01-28T17:43:33.102Z"
   },
   {
    "duration": 240,
    "start_time": "2022-01-28T17:43:53.278Z"
   },
   {
    "duration": 321,
    "start_time": "2022-01-28T17:43:58.639Z"
   },
   {
    "duration": 453,
    "start_time": "2022-01-28T17:44:01.597Z"
   },
   {
    "duration": 340,
    "start_time": "2022-01-28T17:44:04.078Z"
   },
   {
    "duration": 326,
    "start_time": "2022-01-28T17:44:12.021Z"
   },
   {
    "duration": 366,
    "start_time": "2022-01-28T17:44:16.406Z"
   },
   {
    "duration": 284,
    "start_time": "2022-01-28T17:44:21.489Z"
   },
   {
    "duration": 286,
    "start_time": "2022-01-28T17:44:24.007Z"
   },
   {
    "duration": 256,
    "start_time": "2022-01-28T17:44:27.909Z"
   },
   {
    "duration": 381,
    "start_time": "2022-01-28T17:44:35.230Z"
   },
   {
    "duration": 343,
    "start_time": "2022-01-28T17:44:38.030Z"
   },
   {
    "duration": 360,
    "start_time": "2022-01-28T17:44:52.790Z"
   },
   {
    "duration": 377,
    "start_time": "2022-01-28T17:44:57.750Z"
   },
   {
    "duration": 389,
    "start_time": "2022-01-28T17:45:01.174Z"
   },
   {
    "duration": 450,
    "start_time": "2022-01-28T17:45:16.958Z"
   },
   {
    "duration": 361,
    "start_time": "2022-01-28T17:45:22.487Z"
   },
   {
    "duration": 375,
    "start_time": "2022-01-28T17:45:45.854Z"
   },
   {
    "duration": 390,
    "start_time": "2022-01-28T17:45:53.800Z"
   },
   {
    "duration": 779,
    "start_time": "2022-01-28T17:47:45.631Z"
   },
   {
    "duration": 418,
    "start_time": "2022-01-28T17:47:55.522Z"
   },
   {
    "duration": 459,
    "start_time": "2022-01-28T17:48:01.342Z"
   },
   {
    "duration": 421,
    "start_time": "2022-01-28T17:48:04.774Z"
   },
   {
    "duration": 441,
    "start_time": "2022-01-28T17:48:11.927Z"
   },
   {
    "duration": 363,
    "start_time": "2022-01-28T17:48:15.997Z"
   },
   {
    "duration": 348,
    "start_time": "2022-01-28T17:48:18.582Z"
   },
   {
    "duration": 473,
    "start_time": "2022-01-28T17:48:25.382Z"
   },
   {
    "duration": 569,
    "start_time": "2022-01-28T17:49:49.350Z"
   },
   {
    "duration": 305,
    "start_time": "2022-01-28T17:52:26.390Z"
   },
   {
    "duration": 481,
    "start_time": "2022-01-28T17:52:33.870Z"
   },
   {
    "duration": 287,
    "start_time": "2022-01-28T17:52:44.558Z"
   },
   {
    "duration": 358,
    "start_time": "2022-01-28T17:53:05.854Z"
   },
   {
    "duration": 214,
    "start_time": "2022-01-28T17:53:15.078Z"
   },
   {
    "duration": 244,
    "start_time": "2022-01-28T17:53:17.278Z"
   },
   {
    "duration": 281,
    "start_time": "2022-01-28T17:53:22.813Z"
   },
   {
    "duration": 287,
    "start_time": "2022-01-28T17:53:26.085Z"
   },
   {
    "duration": 286,
    "start_time": "2022-01-28T17:53:29.032Z"
   },
   {
    "duration": 235,
    "start_time": "2022-01-28T17:53:35.806Z"
   },
   {
    "duration": 228,
    "start_time": "2022-01-28T17:53:43.172Z"
   },
   {
    "duration": 223,
    "start_time": "2022-01-28T17:53:46.902Z"
   },
   {
    "duration": 365,
    "start_time": "2022-01-28T17:53:50.421Z"
   },
   {
    "duration": 381,
    "start_time": "2022-01-28T17:53:54.878Z"
   },
   {
    "duration": 487,
    "start_time": "2022-01-28T17:54:02.245Z"
   },
   {
    "duration": 459,
    "start_time": "2022-01-28T17:54:07.054Z"
   },
   {
    "duration": 281,
    "start_time": "2022-01-28T17:54:11.838Z"
   },
   {
    "duration": 274,
    "start_time": "2022-01-28T17:54:19.045Z"
   },
   {
    "duration": 262,
    "start_time": "2022-01-28T17:54:21.181Z"
   },
   {
    "duration": 507,
    "start_time": "2022-01-28T17:54:26.661Z"
   },
   {
    "duration": 364,
    "start_time": "2022-01-28T17:54:29.726Z"
   },
   {
    "duration": 251,
    "start_time": "2022-01-28T17:54:35.718Z"
   },
   {
    "duration": 272,
    "start_time": "2022-01-28T17:54:38.420Z"
   },
   {
    "duration": 272,
    "start_time": "2022-01-28T17:54:42.597Z"
   },
   {
    "duration": 264,
    "start_time": "2022-01-28T17:54:46.037Z"
   },
   {
    "duration": 360,
    "start_time": "2022-01-28T17:54:47.734Z"
   },
   {
    "duration": 363,
    "start_time": "2022-01-28T17:54:49.661Z"
   },
   {
    "duration": 358,
    "start_time": "2022-01-28T17:54:53.150Z"
   },
   {
    "duration": 366,
    "start_time": "2022-01-28T17:54:56.246Z"
   },
   {
    "duration": 501,
    "start_time": "2022-01-28T17:54:59.869Z"
   },
   {
    "duration": 376,
    "start_time": "2022-01-28T17:55:04.349Z"
   },
   {
    "duration": 161,
    "start_time": "2022-01-28T17:55:07.990Z"
   },
   {
    "duration": 450,
    "start_time": "2022-01-28T17:55:31.741Z"
   },
   {
    "duration": 677,
    "start_time": "2022-01-28T17:55:54.131Z"
   },
   {
    "duration": 522,
    "start_time": "2022-01-28T17:56:00.893Z"
   },
   {
    "duration": 492,
    "start_time": "2022-01-28T17:56:03.894Z"
   },
   {
    "duration": 641,
    "start_time": "2022-01-28T17:56:07.766Z"
   },
   {
    "duration": 502,
    "start_time": "2022-01-28T17:56:13.750Z"
   },
   {
    "duration": 216,
    "start_time": "2022-01-28T17:56:52.101Z"
   },
   {
    "duration": 216,
    "start_time": "2022-01-28T17:57:52.518Z"
   },
   {
    "duration": 217,
    "start_time": "2022-01-28T17:57:56.077Z"
   },
   {
    "duration": 548,
    "start_time": "2022-01-28T17:58:01.166Z"
   },
   {
    "duration": 492,
    "start_time": "2022-01-28T17:58:12.829Z"
   },
   {
    "duration": 225,
    "start_time": "2022-01-28T17:58:26.124Z"
   },
   {
    "duration": 222,
    "start_time": "2022-01-28T17:58:34.995Z"
   },
   {
    "duration": 217,
    "start_time": "2022-01-28T17:58:38.268Z"
   },
   {
    "duration": 515,
    "start_time": "2022-01-28T17:58:40.972Z"
   },
   {
    "duration": 504,
    "start_time": "2022-01-28T17:58:44.429Z"
   },
   {
    "duration": 513,
    "start_time": "2022-01-28T17:58:48.892Z"
   },
   {
    "duration": 530,
    "start_time": "2022-01-28T17:58:59.941Z"
   },
   {
    "duration": 487,
    "start_time": "2022-01-28T17:59:10.452Z"
   },
   {
    "duration": 398,
    "start_time": "2022-01-28T17:59:19.477Z"
   },
   {
    "duration": 502,
    "start_time": "2022-01-28T17:59:23.844Z"
   },
   {
    "duration": 730,
    "start_time": "2022-01-28T17:59:26.989Z"
   },
   {
    "duration": 465,
    "start_time": "2022-01-28T17:59:34.077Z"
   },
   {
    "duration": 480,
    "start_time": "2022-01-28T17:59:40.380Z"
   },
   {
    "duration": 490,
    "start_time": "2022-01-28T17:59:44.292Z"
   },
   {
    "duration": 226,
    "start_time": "2022-01-28T17:59:50.060Z"
   },
   {
    "duration": 226,
    "start_time": "2022-01-28T18:00:00.532Z"
   },
   {
    "duration": 552,
    "start_time": "2022-01-28T18:00:05.940Z"
   },
   {
    "duration": 484,
    "start_time": "2022-01-28T18:00:25.245Z"
   },
   {
    "duration": 481,
    "start_time": "2022-01-28T18:00:31.398Z"
   },
   {
    "duration": 466,
    "start_time": "2022-01-28T18:00:36.493Z"
   },
   {
    "duration": 466,
    "start_time": "2022-01-28T18:00:43.756Z"
   },
   {
    "duration": 464,
    "start_time": "2022-01-28T18:00:56.062Z"
   },
   {
    "duration": 6,
    "start_time": "2022-01-28T18:02:38.413Z"
   },
   {
    "duration": 491,
    "start_time": "2022-01-28T18:04:08.899Z"
   },
   {
    "duration": 693,
    "start_time": "2022-01-28T18:04:21.028Z"
   },
   {
    "duration": 8,
    "start_time": "2022-01-28T18:05:30.286Z"
   },
   {
    "duration": 9,
    "start_time": "2022-01-28T18:05:42.676Z"
   },
   {
    "duration": 331,
    "start_time": "2022-01-28T18:06:02.724Z"
   },
   {
    "duration": 282,
    "start_time": "2022-01-28T18:08:13.740Z"
   },
   {
    "duration": 72,
    "start_time": "2022-01-28T18:12:18.043Z"
   },
   {
    "duration": 824,
    "start_time": "2022-01-28T18:12:35.195Z"
   },
   {
    "duration": 823,
    "start_time": "2022-01-28T18:13:12.093Z"
   },
   {
    "duration": 938,
    "start_time": "2022-01-28T18:13:56.602Z"
   },
   {
    "duration": 722,
    "start_time": "2022-01-28T18:14:17.067Z"
   },
   {
    "duration": 1015,
    "start_time": "2022-01-28T18:14:28.813Z"
   },
   {
    "duration": 1043,
    "start_time": "2022-01-28T18:14:42.541Z"
   },
   {
    "duration": 921,
    "start_time": "2022-01-28T18:14:51.597Z"
   },
   {
    "duration": 1088,
    "start_time": "2022-01-28T18:15:01.298Z"
   },
   {
    "duration": 950,
    "start_time": "2022-01-28T18:15:27.347Z"
   },
   {
    "duration": 1094,
    "start_time": "2022-01-28T18:15:46.098Z"
   },
   {
    "duration": 959,
    "start_time": "2022-01-28T18:16:01.178Z"
   },
   {
    "duration": 922,
    "start_time": "2022-01-28T18:16:06.746Z"
   },
   {
    "duration": 895,
    "start_time": "2022-01-28T18:16:56.171Z"
   },
   {
    "duration": 1088,
    "start_time": "2022-01-28T18:17:53.266Z"
   },
   {
    "duration": 888,
    "start_time": "2022-01-28T18:18:13.155Z"
   },
   {
    "duration": 890,
    "start_time": "2022-01-28T18:18:22.507Z"
   },
   {
    "duration": 967,
    "start_time": "2022-01-28T18:20:46.705Z"
   },
   {
    "duration": 1082,
    "start_time": "2022-01-28T18:21:17.298Z"
   },
   {
    "duration": 920,
    "start_time": "2022-01-28T18:21:47.690Z"
   },
   {
    "duration": 964,
    "start_time": "2022-01-28T18:21:57.449Z"
   },
   {
    "duration": 1152,
    "start_time": "2022-01-28T18:22:31.498Z"
   },
   {
    "duration": 851,
    "start_time": "2022-01-28T18:23:05.657Z"
   },
   {
    "duration": 925,
    "start_time": "2022-01-28T18:23:11.387Z"
   },
   {
    "duration": 965,
    "start_time": "2022-01-28T18:24:11.924Z"
   },
   {
    "duration": 1181,
    "start_time": "2022-01-28T18:33:26.887Z"
   },
   {
    "duration": 999,
    "start_time": "2022-01-28T18:33:31.815Z"
   },
   {
    "duration": 947,
    "start_time": "2022-01-28T18:33:36.544Z"
   },
   {
    "duration": 1136,
    "start_time": "2022-01-28T18:33:41.592Z"
   },
   {
    "duration": 949,
    "start_time": "2022-01-28T18:33:47.032Z"
   },
   {
    "duration": 934,
    "start_time": "2022-01-28T18:33:52.720Z"
   },
   {
    "duration": 1134,
    "start_time": "2022-01-28T18:33:59.319Z"
   },
   {
    "duration": 969,
    "start_time": "2022-01-28T18:34:06.584Z"
   },
   {
    "duration": 986,
    "start_time": "2022-01-28T18:34:12.625Z"
   },
   {
    "duration": 954,
    "start_time": "2022-01-28T18:34:19.408Z"
   },
   {
    "duration": 1177,
    "start_time": "2022-01-28T18:34:23.743Z"
   },
   {
    "duration": 958,
    "start_time": "2022-01-28T18:34:28.496Z"
   },
   {
    "duration": 974,
    "start_time": "2022-01-28T18:34:32.583Z"
   },
   {
    "duration": 1137,
    "start_time": "2022-01-28T18:34:36.576Z"
   },
   {
    "duration": 1014,
    "start_time": "2022-01-28T18:34:45.808Z"
   },
   {
    "duration": 953,
    "start_time": "2022-01-28T18:34:51.208Z"
   },
   {
    "duration": 1156,
    "start_time": "2022-01-28T18:34:58.703Z"
   },
   {
    "duration": 973,
    "start_time": "2022-01-28T18:35:22.599Z"
   },
   {
    "duration": 1004,
    "start_time": "2022-01-28T18:35:28.648Z"
   },
   {
    "duration": 1007,
    "start_time": "2022-01-28T18:35:32.712Z"
   },
   {
    "duration": 1204,
    "start_time": "2022-01-28T18:40:00.375Z"
   },
   {
    "duration": 979,
    "start_time": "2022-01-28T18:40:21.422Z"
   },
   {
    "duration": 941,
    "start_time": "2022-01-28T18:40:29.125Z"
   },
   {
    "duration": 1147,
    "start_time": "2022-01-28T18:40:34.719Z"
   },
   {
    "duration": 996,
    "start_time": "2022-01-28T18:40:39.975Z"
   },
   {
    "duration": 982,
    "start_time": "2022-01-28T18:40:54.933Z"
   },
   {
    "duration": 994,
    "start_time": "2022-01-28T18:41:02.033Z"
   },
   {
    "duration": 1211,
    "start_time": "2022-01-28T18:41:06.222Z"
   },
   {
    "duration": 1000,
    "start_time": "2022-01-28T18:41:15.160Z"
   },
   {
    "duration": 983,
    "start_time": "2022-01-28T18:41:26.223Z"
   },
   {
    "duration": 1196,
    "start_time": "2022-01-28T18:41:31.175Z"
   },
   {
    "duration": 953,
    "start_time": "2022-01-28T18:41:34.631Z"
   },
   {
    "duration": 992,
    "start_time": "2022-01-28T18:41:37.399Z"
   },
   {
    "duration": 1183,
    "start_time": "2022-01-28T18:41:43.134Z"
   },
   {
    "duration": 975,
    "start_time": "2022-01-28T18:41:46.445Z"
   },
   {
    "duration": 977,
    "start_time": "2022-01-28T18:41:50.928Z"
   },
   {
    "duration": 986,
    "start_time": "2022-01-28T18:41:54.815Z"
   },
   {
    "duration": 1261,
    "start_time": "2022-01-28T18:42:01.496Z"
   },
   {
    "duration": 1025,
    "start_time": "2022-01-28T18:44:11.696Z"
   },
   {
    "duration": 974,
    "start_time": "2022-01-28T18:46:03.534Z"
   },
   {
    "duration": 1163,
    "start_time": "2022-01-28T18:46:42.837Z"
   },
   {
    "duration": 990,
    "start_time": "2022-01-28T18:48:06.904Z"
   },
   {
    "duration": 987,
    "start_time": "2022-01-28T18:48:16.125Z"
   },
   {
    "duration": 1179,
    "start_time": "2022-01-28T18:48:26.376Z"
   },
   {
    "duration": 969,
    "start_time": "2022-01-28T18:48:41.910Z"
   },
   {
    "duration": 1000,
    "start_time": "2022-01-28T18:49:15.934Z"
   },
   {
    "duration": 979,
    "start_time": "2022-01-28T18:49:23.566Z"
   },
   {
    "duration": 1200,
    "start_time": "2022-01-28T18:49:27.694Z"
   },
   {
    "duration": 970,
    "start_time": "2022-01-28T18:49:33.629Z"
   },
   {
    "duration": 954,
    "start_time": "2022-01-28T18:49:43.069Z"
   },
   {
    "duration": 1165,
    "start_time": "2022-01-28T18:49:50.286Z"
   },
   {
    "duration": 960,
    "start_time": "2022-01-28T18:49:53.782Z"
   },
   {
    "duration": 943,
    "start_time": "2022-01-28T18:49:57.678Z"
   },
   {
    "duration": 1204,
    "start_time": "2022-01-28T18:50:01.045Z"
   },
   {
    "duration": 979,
    "start_time": "2022-01-28T18:50:07.214Z"
   },
   {
    "duration": 1001,
    "start_time": "2022-01-28T18:50:30.862Z"
   },
   {
    "duration": 967,
    "start_time": "2022-01-28T18:50:37.975Z"
   },
   {
    "duration": 1184,
    "start_time": "2022-01-28T18:50:42.005Z"
   },
   {
    "duration": 948,
    "start_time": "2022-01-28T18:52:44.582Z"
   },
   {
    "duration": 917,
    "start_time": "2022-01-28T18:53:23.005Z"
   },
   {
    "duration": 1159,
    "start_time": "2022-01-28T18:53:51.262Z"
   },
   {
    "duration": 955,
    "start_time": "2022-01-28T18:54:05.039Z"
   },
   {
    "duration": 939,
    "start_time": "2022-01-28T18:55:07.862Z"
   },
   {
    "duration": 1218,
    "start_time": "2022-01-28T18:55:21.700Z"
   },
   {
    "duration": 925,
    "start_time": "2022-01-28T18:56:13.717Z"
   },
   {
    "duration": 955,
    "start_time": "2022-01-28T18:56:24.966Z"
   },
   {
    "duration": 940,
    "start_time": "2022-01-28T18:56:28.852Z"
   },
   {
    "duration": 1141,
    "start_time": "2022-01-28T18:56:35.957Z"
   },
   {
    "duration": 932,
    "start_time": "2022-01-28T18:56:43.533Z"
   },
   {
    "duration": 932,
    "start_time": "2022-01-28T18:57:19.430Z"
   },
   {
    "duration": 1111,
    "start_time": "2022-01-28T18:58:19.917Z"
   },
   {
    "duration": 71,
    "start_time": "2022-01-28T18:59:56.629Z"
   },
   {
    "duration": 991,
    "start_time": "2022-01-28T18:59:59.949Z"
   },
   {
    "duration": 980,
    "start_time": "2022-01-28T19:00:04.735Z"
   },
   {
    "duration": 1146,
    "start_time": "2022-01-28T19:00:10.062Z"
   },
   {
    "duration": 927,
    "start_time": "2022-01-28T19:00:13.974Z"
   },
   {
    "duration": 934,
    "start_time": "2022-01-28T19:00:17.821Z"
   },
   {
    "duration": 947,
    "start_time": "2022-01-28T19:00:22.397Z"
   },
   {
    "duration": 1152,
    "start_time": "2022-01-28T19:02:30.085Z"
   },
   {
    "duration": 928,
    "start_time": "2022-01-28T19:02:54.620Z"
   },
   {
    "duration": 999,
    "start_time": "2022-01-28T19:03:03.092Z"
   },
   {
    "duration": 1119,
    "start_time": "2022-01-28T19:03:21.461Z"
   },
   {
    "duration": 949,
    "start_time": "2022-01-28T19:03:33.868Z"
   },
   {
    "duration": 938,
    "start_time": "2022-01-28T19:03:37.988Z"
   },
   {
    "duration": 1156,
    "start_time": "2022-01-28T19:03:45.069Z"
   },
   {
    "duration": 949,
    "start_time": "2022-01-28T19:03:49.317Z"
   },
   {
    "duration": 983,
    "start_time": "2022-01-28T19:03:55.829Z"
   },
   {
    "duration": 977,
    "start_time": "2022-01-28T19:03:59.900Z"
   },
   {
    "duration": 1193,
    "start_time": "2022-01-28T19:04:05.556Z"
   },
   {
    "duration": 953,
    "start_time": "2022-01-28T19:04:11.525Z"
   },
   {
    "duration": 945,
    "start_time": "2022-01-28T19:04:14.732Z"
   },
   {
    "duration": 1161,
    "start_time": "2022-01-28T19:04:19.732Z"
   },
   {
    "duration": 944,
    "start_time": "2022-01-28T19:04:24.661Z"
   },
   {
    "duration": 953,
    "start_time": "2022-01-28T19:04:31.611Z"
   },
   {
    "duration": 1115,
    "start_time": "2022-01-28T19:04:36.612Z"
   },
   {
    "duration": 943,
    "start_time": "2022-01-28T19:04:40.548Z"
   },
   {
    "duration": 935,
    "start_time": "2022-01-28T19:04:43.996Z"
   },
   {
    "duration": 948,
    "start_time": "2022-01-28T19:04:48.492Z"
   },
   {
    "duration": 1126,
    "start_time": "2022-01-28T19:04:55.077Z"
   },
   {
    "duration": 991,
    "start_time": "2022-01-28T19:05:01.196Z"
   },
   {
    "duration": 953,
    "start_time": "2022-01-28T19:05:24.291Z"
   },
   {
    "duration": 1328,
    "start_time": "2022-01-28T19:05:30.780Z"
   },
   {
    "duration": 984,
    "start_time": "2022-01-28T19:05:44.107Z"
   },
   {
    "duration": 949,
    "start_time": "2022-01-28T19:05:53.525Z"
   },
   {
    "duration": 1159,
    "start_time": "2022-01-28T19:05:59.595Z"
   },
   {
    "duration": 980,
    "start_time": "2022-01-28T19:06:03.516Z"
   },
   {
    "duration": 983,
    "start_time": "2022-01-28T19:06:30.285Z"
   },
   {
    "duration": 979,
    "start_time": "2022-01-28T19:06:37.570Z"
   },
   {
    "duration": 1202,
    "start_time": "2022-01-28T19:08:00.141Z"
   },
   {
    "duration": 952,
    "start_time": "2022-01-28T19:08:19.068Z"
   },
   {
    "duration": 972,
    "start_time": "2022-01-28T19:08:31.284Z"
   },
   {
    "duration": 1158,
    "start_time": "2022-01-28T19:20:21.043Z"
   },
   {
    "duration": 935,
    "start_time": "2022-01-28T19:20:49.938Z"
   },
   {
    "duration": 965,
    "start_time": "2022-01-28T19:21:02.362Z"
   },
   {
    "duration": 933,
    "start_time": "2022-01-28T19:21:13.410Z"
   },
   {
    "duration": 1126,
    "start_time": "2022-01-28T19:21:23.234Z"
   },
   {
    "duration": 883,
    "start_time": "2022-01-28T19:21:28.482Z"
   },
   {
    "duration": 899,
    "start_time": "2022-01-28T19:21:43.570Z"
   },
   {
    "duration": 1098,
    "start_time": "2022-01-28T19:21:48.523Z"
   },
   {
    "duration": 914,
    "start_time": "2022-01-28T19:21:52.698Z"
   },
   {
    "duration": 952,
    "start_time": "2022-01-28T19:21:59.058Z"
   },
   {
    "duration": 942,
    "start_time": "2022-01-28T19:22:03.250Z"
   },
   {
    "duration": 1123,
    "start_time": "2022-01-28T19:22:07.041Z"
   },
   {
    "duration": 961,
    "start_time": "2022-01-28T19:22:11.642Z"
   },
   {
    "duration": 904,
    "start_time": "2022-01-28T19:22:23.322Z"
   },
   {
    "duration": 1089,
    "start_time": "2022-01-28T19:22:41.146Z"
   },
   {
    "duration": 922,
    "start_time": "2022-01-28T19:22:52.154Z"
   },
   {
    "duration": 931,
    "start_time": "2022-01-28T19:22:56.035Z"
   },
   {
    "duration": 1166,
    "start_time": "2022-01-28T19:23:01.512Z"
   },
   {
    "duration": 966,
    "start_time": "2022-01-28T19:28:05.841Z"
   },
   {
    "duration": 935,
    "start_time": "2022-01-28T19:28:25.479Z"
   },
   {
    "duration": 923,
    "start_time": "2022-01-28T19:28:40.232Z"
   },
   {
    "duration": 1125,
    "start_time": "2022-01-28T19:28:47.946Z"
   },
   {
    "duration": 958,
    "start_time": "2022-01-28T19:28:53.465Z"
   },
   {
    "duration": 910,
    "start_time": "2022-01-28T19:29:17.592Z"
   },
   {
    "duration": 1118,
    "start_time": "2022-01-28T19:29:28.688Z"
   },
   {
    "duration": 879,
    "start_time": "2022-01-28T19:30:29.842Z"
   },
   {
    "duration": 963,
    "start_time": "2022-01-28T19:31:12.841Z"
   },
   {
    "duration": 5,
    "start_time": "2022-01-28T19:32:51.040Z"
   },
   {
    "duration": 1127,
    "start_time": "2022-01-28T19:33:50.009Z"
   },
   {
    "duration": 960,
    "start_time": "2022-01-28T19:33:58.127Z"
   },
   {
    "duration": 953,
    "start_time": "2022-01-28T19:34:09.297Z"
   },
   {
    "duration": 1008,
    "start_time": "2022-01-28T19:34:25.545Z"
   },
   {
    "duration": 1222,
    "start_time": "2022-01-28T19:34:30.618Z"
   },
   {
    "duration": 960,
    "start_time": "2022-01-28T19:34:37.921Z"
   },
   {
    "duration": 974,
    "start_time": "2022-01-28T19:35:15.304Z"
   },
   {
    "duration": 1101,
    "start_time": "2022-01-28T19:36:41.257Z"
   },
   {
    "duration": 955,
    "start_time": "2022-01-28T19:36:57.727Z"
   },
   {
    "duration": 966,
    "start_time": "2022-01-28T19:37:54.800Z"
   },
   {
    "duration": 1144,
    "start_time": "2022-01-28T19:38:10.695Z"
   },
   {
    "duration": 957,
    "start_time": "2022-01-28T19:44:57.725Z"
   },
   {
    "duration": 1014,
    "start_time": "2022-01-28T19:46:02.055Z"
   },
   {
    "duration": 7,
    "start_time": "2022-01-28T19:48:03.240Z"
   },
   {
    "duration": 3,
    "start_time": "2022-01-28T19:49:17.229Z"
   },
   {
    "duration": 6,
    "start_time": "2022-01-28T19:49:19.743Z"
   },
   {
    "duration": 3,
    "start_time": "2022-01-28T19:49:24.910Z"
   },
   {
    "duration": 6,
    "start_time": "2022-01-28T19:49:26.838Z"
   },
   {
    "duration": 1261,
    "start_time": "2022-01-28T19:52:37.551Z"
   },
   {
    "duration": 1091,
    "start_time": "2022-01-28T19:52:59.413Z"
   },
   {
    "duration": 1085,
    "start_time": "2022-01-28T19:53:07.804Z"
   },
   {
    "duration": 1506,
    "start_time": "2022-01-28T19:55:02.207Z"
   },
   {
    "duration": 1316,
    "start_time": "2022-01-28T19:55:10.205Z"
   },
   {
    "duration": 1088,
    "start_time": "2022-01-28T19:55:40.542Z"
   },
   {
    "duration": 1245,
    "start_time": "2022-01-28T19:55:49.245Z"
   },
   {
    "duration": 1040,
    "start_time": "2022-01-28T19:56:22.774Z"
   },
   {
    "duration": 1111,
    "start_time": "2022-01-28T19:57:24.727Z"
   },
   {
    "duration": 1494,
    "start_time": "2022-01-28T20:00:27.782Z"
   },
   {
    "duration": 1333,
    "start_time": "2022-01-28T20:02:21.469Z"
   },
   {
    "duration": 435,
    "start_time": "2022-01-28T20:03:09.485Z"
   },
   {
    "duration": 1047,
    "start_time": "2022-01-28T20:03:20.479Z"
   },
   {
    "duration": 1282,
    "start_time": "2022-01-28T20:03:32.485Z"
   },
   {
    "duration": 1299,
    "start_time": "2022-01-28T20:04:09.677Z"
   },
   {
    "duration": 1117,
    "start_time": "2022-01-28T20:04:18.212Z"
   },
   {
    "duration": 1140,
    "start_time": "2022-01-28T20:04:23.197Z"
   },
   {
    "duration": 1314,
    "start_time": "2022-01-28T20:04:57.725Z"
   },
   {
    "duration": 1328,
    "start_time": "2022-01-28T20:05:37.582Z"
   },
   {
    "duration": 1305,
    "start_time": "2022-01-28T20:05:42.767Z"
   },
   {
    "duration": 1492,
    "start_time": "2022-01-28T20:06:12.476Z"
   },
   {
    "duration": 1087,
    "start_time": "2022-01-28T20:07:03.318Z"
   },
   {
    "duration": 1037,
    "start_time": "2022-01-28T20:07:17.270Z"
   },
   {
    "duration": 642,
    "start_time": "2022-01-28T20:07:43.206Z"
   },
   {
    "duration": 1288,
    "start_time": "2022-01-28T20:07:56.829Z"
   },
   {
    "duration": 1100,
    "start_time": "2022-01-28T20:08:17.893Z"
   },
   {
    "duration": 1088,
    "start_time": "2022-01-28T20:08:29.460Z"
   },
   {
    "duration": 1274,
    "start_time": "2022-01-28T20:08:42.437Z"
   },
   {
    "duration": 1053,
    "start_time": "2022-01-28T20:08:51.565Z"
   },
   {
    "duration": 1055,
    "start_time": "2022-01-28T20:11:05.966Z"
   },
   {
    "duration": 6,
    "start_time": "2022-01-28T20:11:39.684Z"
   },
   {
    "duration": 1235,
    "start_time": "2022-01-28T20:35:22.363Z"
   },
   {
    "duration": 1076,
    "start_time": "2022-01-28T20:35:31.737Z"
   },
   {
    "duration": 1064,
    "start_time": "2022-01-28T20:35:43.704Z"
   },
   {
    "duration": 1240,
    "start_time": "2022-01-28T20:36:03.873Z"
   },
   {
    "duration": 1149,
    "start_time": "2022-01-28T20:36:17.218Z"
   },
   {
    "duration": 1116,
    "start_time": "2022-01-28T20:36:35.633Z"
   },
   {
    "duration": 1171,
    "start_time": "2022-01-28T20:37:00.602Z"
   },
   {
    "duration": 1334,
    "start_time": "2022-01-28T20:37:05.290Z"
   },
   {
    "duration": 1104,
    "start_time": "2022-01-28T20:37:28.025Z"
   },
   {
    "duration": 1073,
    "start_time": "2022-01-28T20:37:42.801Z"
   },
   {
    "duration": 1243,
    "start_time": "2022-01-28T20:37:57.353Z"
   },
   {
    "duration": 1115,
    "start_time": "2022-01-28T20:38:20.161Z"
   },
   {
    "duration": 1153,
    "start_time": "2022-01-28T20:38:31.585Z"
   },
   {
    "duration": 1375,
    "start_time": "2022-01-28T20:39:00.072Z"
   },
   {
    "duration": 1134,
    "start_time": "2022-01-28T20:39:09.809Z"
   },
   {
    "duration": 1148,
    "start_time": "2022-01-28T20:39:14.601Z"
   },
   {
    "duration": 1057,
    "start_time": "2022-01-28T20:39:44.760Z"
   },
   {
    "duration": 1262,
    "start_time": "2022-01-28T20:41:39.522Z"
   },
   {
    "duration": 1033,
    "start_time": "2022-01-28T20:41:48.473Z"
   },
   {
    "duration": 1034,
    "start_time": "2022-01-28T20:41:53.768Z"
   },
   {
    "duration": 1264,
    "start_time": "2022-01-28T20:42:05.473Z"
   },
   {
    "duration": 1068,
    "start_time": "2022-01-28T20:42:20.227Z"
   },
   {
    "duration": 1047,
    "start_time": "2022-01-28T20:42:39.449Z"
   },
   {
    "duration": 1257,
    "start_time": "2022-01-28T20:42:42.960Z"
   },
   {
    "duration": 1056,
    "start_time": "2022-01-28T20:46:26.729Z"
   },
   {
    "duration": 1109,
    "start_time": "2022-01-28T20:47:27.904Z"
   },
   {
    "duration": 1072,
    "start_time": "2022-01-28T20:47:43.912Z"
   },
   {
    "duration": 77,
    "start_time": "2022-01-28T20:56:31.783Z"
   },
   {
    "duration": 6634,
    "start_time": "2022-01-28T20:57:07.599Z"
   },
   {
    "duration": 1338,
    "start_time": "2022-01-28T20:58:08.511Z"
   },
   {
    "duration": 1307,
    "start_time": "2022-01-28T20:58:10.950Z"
   },
   {
    "duration": 6712,
    "start_time": "2022-01-28T20:58:13.710Z"
   },
   {
    "duration": 1383,
    "start_time": "2022-01-28T20:58:40.871Z"
   },
   {
    "duration": 1141,
    "start_time": "2022-01-28T20:59:35.167Z"
   },
   {
    "duration": 1045,
    "start_time": "2022-01-28T21:00:38.950Z"
   },
   {
    "duration": 1309,
    "start_time": "2022-01-28T21:01:03.534Z"
   },
   {
    "duration": 1076,
    "start_time": "2022-01-28T21:01:11.728Z"
   },
   {
    "duration": 1098,
    "start_time": "2022-01-28T21:01:20.293Z"
   },
   {
    "duration": 1304,
    "start_time": "2022-01-28T21:01:27.462Z"
   },
   {
    "duration": 1088,
    "start_time": "2022-01-28T21:01:30.748Z"
   },
   {
    "duration": 1105,
    "start_time": "2022-01-28T21:01:36.997Z"
   },
   {
    "duration": 1049,
    "start_time": "2022-01-28T21:01:42.957Z"
   },
   {
    "duration": 1284,
    "start_time": "2022-01-28T21:01:51.022Z"
   },
   {
    "duration": 1109,
    "start_time": "2022-01-28T21:02:00.534Z"
   },
   {
    "duration": 1087,
    "start_time": "2022-01-28T21:02:23.261Z"
   },
   {
    "duration": 1283,
    "start_time": "2022-01-28T21:02:40.038Z"
   },
   {
    "duration": 1076,
    "start_time": "2022-01-28T21:04:47.629Z"
   },
   {
    "duration": 1138,
    "start_time": "2022-01-29T09:56:41.350Z"
   },
   {
    "duration": 6,
    "start_time": "2022-01-29T09:56:42.490Z"
   },
   {
    "duration": 6,
    "start_time": "2022-01-29T09:56:42.498Z"
   },
   {
    "duration": 796,
    "start_time": "2022-01-29T09:56:42.506Z"
   },
   {
    "duration": 40,
    "start_time": "2022-01-29T09:56:43.304Z"
   },
   {
    "duration": 181,
    "start_time": "2022-01-29T09:56:43.346Z"
   },
   {
    "duration": 405,
    "start_time": "2022-01-29T09:56:43.529Z"
   },
   {
    "duration": 226,
    "start_time": "2022-01-29T09:56:43.937Z"
   },
   {
    "duration": 6,
    "start_time": "2022-01-29T09:56:44.165Z"
   },
   {
    "duration": 26,
    "start_time": "2022-01-29T09:56:44.172Z"
   },
   {
    "duration": 256,
    "start_time": "2022-01-29T09:56:44.201Z"
   },
   {
    "duration": 9,
    "start_time": "2022-01-29T09:56:44.459Z"
   },
   {
    "duration": 9,
    "start_time": "2022-01-29T09:56:44.470Z"
   },
   {
    "duration": 38,
    "start_time": "2022-01-29T09:56:44.480Z"
   },
   {
    "duration": 32,
    "start_time": "2022-01-29T09:56:44.519Z"
   },
   {
    "duration": 47,
    "start_time": "2022-01-29T09:56:44.553Z"
   },
   {
    "duration": 6,
    "start_time": "2022-01-29T09:56:44.602Z"
   },
   {
    "duration": 12601,
    "start_time": "2022-01-29T09:56:44.610Z"
   },
   {
    "duration": 3,
    "start_time": "2022-01-29T09:56:57.213Z"
   },
   {
    "duration": 1246,
    "start_time": "2022-01-29T09:56:57.218Z"
   },
   {
    "duration": 7,
    "start_time": "2022-01-29T09:56:58.466Z"
   },
   {
    "duration": 6,
    "start_time": "2022-01-29T09:56:58.474Z"
   },
   {
    "duration": 1208,
    "start_time": "2022-01-29T09:56:58.483Z"
   },
   {
    "duration": 311,
    "start_time": "2022-01-29T09:56:59.694Z"
   },
   {
    "duration": 17,
    "start_time": "2022-01-29T09:57:52.069Z"
   },
   {
    "duration": 3,
    "start_time": "2022-01-29T09:58:25.772Z"
   },
   {
    "duration": 1159,
    "start_time": "2022-01-29T09:58:33.491Z"
   },
   {
    "duration": 18,
    "start_time": "2022-01-29T10:08:00.097Z"
   },
   {
    "duration": 1270,
    "start_time": "2022-01-29T10:09:08.025Z"
   },
   {
    "duration": 26,
    "start_time": "2022-01-29T10:10:43.656Z"
   },
   {
    "duration": 1165,
    "start_time": "2022-01-29T10:10:45.456Z"
   },
   {
    "duration": 16,
    "start_time": "2022-01-29T10:10:55.926Z"
   },
   {
    "duration": 1147,
    "start_time": "2022-01-29T10:10:58.424Z"
   },
   {
    "duration": 1291,
    "start_time": "2022-01-29T10:12:03.415Z"
   },
   {
    "duration": 1139,
    "start_time": "2022-01-29T10:12:07.945Z"
   },
   {
    "duration": 991,
    "start_time": "2022-01-30T10:30:54.455Z"
   },
   {
    "duration": 11,
    "start_time": "2022-01-30T10:30:55.449Z"
   },
   {
    "duration": 7,
    "start_time": "2022-01-30T10:30:55.463Z"
   },
   {
    "duration": 1208,
    "start_time": "2022-01-30T10:30:55.473Z"
   },
   {
    "duration": 58,
    "start_time": "2022-01-30T10:30:56.684Z"
   },
   {
    "duration": 201,
    "start_time": "2022-01-30T10:30:56.744Z"
   },
   {
    "duration": 413,
    "start_time": "2022-01-30T10:30:56.947Z"
   },
   {
    "duration": 231,
    "start_time": "2022-01-30T10:30:57.362Z"
   },
   {
    "duration": 8,
    "start_time": "2022-01-30T10:30:57.597Z"
   },
   {
    "duration": 6,
    "start_time": "2022-01-30T10:30:57.608Z"
   },
   {
    "duration": 385,
    "start_time": "2022-01-30T10:30:57.617Z"
   },
   {
    "duration": 14,
    "start_time": "2022-01-30T10:30:58.005Z"
   },
   {
    "duration": 6,
    "start_time": "2022-01-30T10:30:58.022Z"
   },
   {
    "duration": 80,
    "start_time": "2022-01-30T10:30:58.031Z"
   },
   {
    "duration": 87,
    "start_time": "2022-01-30T10:30:58.114Z"
   },
   {
    "duration": 79,
    "start_time": "2022-01-30T10:30:58.204Z"
   },
   {
    "duration": 14,
    "start_time": "2022-01-30T10:30:58.286Z"
   },
   {
    "duration": 22075,
    "start_time": "2022-01-30T10:30:58.303Z"
   },
   {
    "duration": 5,
    "start_time": "2022-01-30T10:31:20.380Z"
   },
   {
    "duration": 36,
    "start_time": "2022-01-30T10:31:20.388Z"
   },
   {
    "duration": 35,
    "start_time": "2022-01-30T10:31:20.426Z"
   },
   {
    "duration": 1758,
    "start_time": "2022-01-30T10:31:20.464Z"
   },
   {
    "duration": 1524,
    "start_time": "2022-01-30T10:31:22.225Z"
   },
   {
    "duration": 1558,
    "start_time": "2022-01-30T10:31:23.751Z"
   },
   {
    "duration": 47,
    "start_time": "2022-01-30T10:31:25.312Z"
   },
   {
    "duration": 436,
    "start_time": "2022-01-30T10:54:14.052Z"
   },
   {
    "duration": 5,
    "start_time": "2022-01-30T10:54:22.000Z"
   },
   {
    "duration": 6,
    "start_time": "2022-01-30T10:54:22.008Z"
   },
   {
    "duration": 5,
    "start_time": "2022-01-30T10:54:22.017Z"
   },
   {
    "duration": 1052,
    "start_time": "2022-01-30T10:54:22.025Z"
   },
   {
    "duration": 56,
    "start_time": "2022-01-30T10:54:23.080Z"
   },
   {
    "duration": 200,
    "start_time": "2022-01-30T10:54:23.141Z"
   },
   {
    "duration": 396,
    "start_time": "2022-01-30T10:54:23.344Z"
   },
   {
    "duration": 246,
    "start_time": "2022-01-30T10:54:23.742Z"
   },
   {
    "duration": 8,
    "start_time": "2022-01-30T10:54:23.991Z"
   },
   {
    "duration": 8,
    "start_time": "2022-01-30T10:54:24.002Z"
   },
   {
    "duration": 337,
    "start_time": "2022-01-30T10:54:24.012Z"
   },
   {
    "duration": 17,
    "start_time": "2022-01-30T10:54:24.351Z"
   },
   {
    "duration": 5,
    "start_time": "2022-01-30T10:54:24.371Z"
   },
   {
    "duration": 33,
    "start_time": "2022-01-30T10:54:24.380Z"
   },
   {
    "duration": 74,
    "start_time": "2022-01-30T10:54:24.416Z"
   },
   {
    "duration": 37,
    "start_time": "2022-01-30T10:54:24.492Z"
   },
   {
    "duration": 30,
    "start_time": "2022-01-30T10:54:24.531Z"
   },
   {
    "duration": 21278,
    "start_time": "2022-01-30T10:54:24.564Z"
   },
   {
    "duration": 4,
    "start_time": "2022-01-30T10:54:45.844Z"
   },
   {
    "duration": 29,
    "start_time": "2022-01-30T10:54:45.851Z"
   },
   {
    "duration": 11,
    "start_time": "2022-01-30T10:54:45.883Z"
   },
   {
    "duration": 1794,
    "start_time": "2022-01-30T10:54:45.897Z"
   },
   {
    "duration": 1611,
    "start_time": "2022-01-30T10:54:47.694Z"
   },
   {
    "duration": 2529,
    "start_time": "2022-01-30T10:54:49.308Z"
   },
   {
    "duration": 41,
    "start_time": "2022-01-30T10:54:51.840Z"
   },
   {
    "duration": 9,
    "start_time": "2022-01-30T10:55:05.171Z"
   },
   {
    "duration": 6,
    "start_time": "2022-01-30T10:58:13.953Z"
   },
   {
    "duration": 6,
    "start_time": "2022-01-30T10:58:13.963Z"
   },
   {
    "duration": 9,
    "start_time": "2022-01-30T10:58:13.973Z"
   },
   {
    "duration": 1026,
    "start_time": "2022-01-30T10:58:13.984Z"
   },
   {
    "duration": 84,
    "start_time": "2022-01-30T10:58:15.013Z"
   },
   {
    "duration": 347,
    "start_time": "2022-01-30T10:58:15.100Z"
   },
   {
    "duration": 750,
    "start_time": "2022-01-30T10:58:15.450Z"
   },
   {
    "duration": 240,
    "start_time": "2022-01-30T10:58:16.203Z"
   },
   {
    "duration": 17,
    "start_time": "2022-01-30T10:58:16.446Z"
   },
   {
    "duration": 8,
    "start_time": "2022-01-30T10:58:16.465Z"
   },
   {
    "duration": 485,
    "start_time": "2022-01-30T10:58:16.476Z"
   },
   {
    "duration": 15,
    "start_time": "2022-01-30T10:58:16.965Z"
   },
   {
    "duration": 6,
    "start_time": "2022-01-30T10:58:16.983Z"
   },
   {
    "duration": 34,
    "start_time": "2022-01-30T10:58:16.991Z"
   },
   {
    "duration": 72,
    "start_time": "2022-01-30T10:58:17.027Z"
   },
   {
    "duration": 58,
    "start_time": "2022-01-30T10:58:17.102Z"
   },
   {
    "duration": 9,
    "start_time": "2022-01-30T10:58:17.162Z"
   },
   {
    "duration": 21281,
    "start_time": "2022-01-30T10:58:17.173Z"
   },
   {
    "duration": 5,
    "start_time": "2022-01-30T10:58:38.460Z"
   },
   {
    "duration": 24,
    "start_time": "2022-01-30T10:58:38.468Z"
   },
   {
    "duration": 12,
    "start_time": "2022-01-30T10:58:38.495Z"
   },
   {
    "duration": 1612,
    "start_time": "2022-01-30T10:58:38.510Z"
   },
   {
    "duration": 1557,
    "start_time": "2022-01-30T10:58:40.128Z"
   },
   {
    "duration": 1710,
    "start_time": "2022-01-30T10:58:41.688Z"
   },
   {
    "duration": 10,
    "start_time": "2022-01-30T10:58:43.400Z"
   },
   {
    "duration": 105,
    "start_time": "2022-01-30T11:03:17.129Z"
   },
   {
    "duration": 129,
    "start_time": "2022-01-30T11:03:31.842Z"
   },
   {
    "duration": 107,
    "start_time": "2022-01-30T11:03:38.761Z"
   },
   {
    "duration": 120,
    "start_time": "2022-01-30T11:03:43.161Z"
   },
   {
    "duration": 151,
    "start_time": "2022-01-30T11:03:54.777Z"
   },
   {
    "duration": 14,
    "start_time": "2022-01-30T11:04:06.369Z"
   },
   {
    "duration": 666,
    "start_time": "2022-01-30T11:04:08.001Z"
   },
   {
    "duration": 9,
    "start_time": "2022-01-30T11:04:26.748Z"
   },
   {
    "duration": 703,
    "start_time": "2022-01-30T11:04:27.162Z"
   },
   {
    "duration": 110,
    "start_time": "2022-01-30T11:04:40.298Z"
   },
   {
    "duration": 9,
    "start_time": "2022-01-30T11:07:18.538Z"
   },
   {
    "duration": 386,
    "start_time": "2022-01-30T11:07:47.003Z"
   },
   {
    "duration": 4,
    "start_time": "2022-01-30T11:07:49.897Z"
   },
   {
    "duration": 7,
    "start_time": "2022-01-30T11:07:49.904Z"
   },
   {
    "duration": 4,
    "start_time": "2022-01-30T11:07:49.914Z"
   },
   {
    "duration": 1045,
    "start_time": "2022-01-30T11:07:49.921Z"
   },
   {
    "duration": 69,
    "start_time": "2022-01-30T11:07:50.968Z"
   },
   {
    "duration": 236,
    "start_time": "2022-01-30T11:07:51.040Z"
   },
   {
    "duration": 403,
    "start_time": "2022-01-30T11:07:51.278Z"
   },
   {
    "duration": 232,
    "start_time": "2022-01-30T11:07:51.684Z"
   },
   {
    "duration": 8,
    "start_time": "2022-01-30T11:07:51.920Z"
   },
   {
    "duration": 28,
    "start_time": "2022-01-30T11:07:51.931Z"
   },
   {
    "duration": 310,
    "start_time": "2022-01-30T11:07:51.961Z"
   },
   {
    "duration": 13,
    "start_time": "2022-01-30T11:07:52.273Z"
   },
   {
    "duration": 7,
    "start_time": "2022-01-30T11:07:52.288Z"
   },
   {
    "duration": 62,
    "start_time": "2022-01-30T11:07:52.297Z"
   },
   {
    "duration": 45,
    "start_time": "2022-01-30T11:07:52.362Z"
   },
   {
    "duration": 59,
    "start_time": "2022-01-30T11:07:52.410Z"
   },
   {
    "duration": 9,
    "start_time": "2022-01-30T11:07:52.472Z"
   },
   {
    "duration": 21522,
    "start_time": "2022-01-30T11:07:52.484Z"
   },
   {
    "duration": 6,
    "start_time": "2022-01-30T11:08:14.008Z"
   },
   {
    "duration": 44,
    "start_time": "2022-01-30T11:08:14.017Z"
   },
   {
    "duration": 17,
    "start_time": "2022-01-30T11:08:14.065Z"
   },
   {
    "duration": 1613,
    "start_time": "2022-01-30T11:08:14.084Z"
   },
   {
    "duration": 1590,
    "start_time": "2022-01-30T11:08:15.700Z"
   },
   {
    "duration": 1855,
    "start_time": "2022-01-30T11:08:17.293Z"
   },
   {
    "duration": 15,
    "start_time": "2022-01-30T11:08:19.150Z"
   },
   {
    "duration": 4,
    "start_time": "2022-01-30T11:08:37.427Z"
   },
   {
    "duration": 4,
    "start_time": "2022-01-30T11:08:37.434Z"
   },
   {
    "duration": 5,
    "start_time": "2022-01-30T11:08:37.441Z"
   },
   {
    "duration": 1008,
    "start_time": "2022-01-30T11:08:37.449Z"
   },
   {
    "duration": 54,
    "start_time": "2022-01-30T11:08:38.459Z"
   },
   {
    "duration": 244,
    "start_time": "2022-01-30T11:08:38.516Z"
   },
   {
    "duration": 416,
    "start_time": "2022-01-30T11:08:38.763Z"
   },
   {
    "duration": 239,
    "start_time": "2022-01-30T11:08:39.181Z"
   },
   {
    "duration": 8,
    "start_time": "2022-01-30T11:08:39.425Z"
   },
   {
    "duration": 26,
    "start_time": "2022-01-30T11:08:39.436Z"
   },
   {
    "duration": 322,
    "start_time": "2022-01-30T11:08:39.464Z"
   },
   {
    "duration": 10,
    "start_time": "2022-01-30T11:08:39.789Z"
   },
   {
    "duration": 7,
    "start_time": "2022-01-30T11:08:39.801Z"
   },
   {
    "duration": 55,
    "start_time": "2022-01-30T11:08:39.811Z"
   },
   {
    "duration": 44,
    "start_time": "2022-01-30T11:08:39.868Z"
   },
   {
    "duration": 55,
    "start_time": "2022-01-30T11:08:39.915Z"
   },
   {
    "duration": 10,
    "start_time": "2022-01-30T11:08:39.972Z"
   },
   {
    "duration": 20819,
    "start_time": "2022-01-30T11:08:39.984Z"
   },
   {
    "duration": 6,
    "start_time": "2022-01-30T11:09:00.805Z"
   },
   {
    "duration": 47,
    "start_time": "2022-01-30T11:09:00.814Z"
   },
   {
    "duration": 17,
    "start_time": "2022-01-30T11:09:00.864Z"
   },
   {
    "duration": 1567,
    "start_time": "2022-01-30T11:09:00.884Z"
   },
   {
    "duration": 1590,
    "start_time": "2022-01-30T11:09:02.454Z"
   },
   {
    "duration": 1572,
    "start_time": "2022-01-30T11:09:04.047Z"
   },
   {
    "duration": 10,
    "start_time": "2022-01-30T11:09:05.621Z"
   },
   {
    "duration": 368,
    "start_time": "2022-01-30T11:26:17.504Z"
   },
   {
    "duration": 4,
    "start_time": "2022-01-30T11:26:24.389Z"
   },
   {
    "duration": 5,
    "start_time": "2022-01-30T11:26:24.396Z"
   },
   {
    "duration": 6,
    "start_time": "2022-01-30T11:26:24.405Z"
   },
   {
    "duration": 1050,
    "start_time": "2022-01-30T11:26:24.413Z"
   },
   {
    "duration": 56,
    "start_time": "2022-01-30T11:26:25.465Z"
   },
   {
    "duration": 198,
    "start_time": "2022-01-30T11:26:25.523Z"
   },
   {
    "duration": 432,
    "start_time": "2022-01-30T11:26:25.723Z"
   },
   {
    "duration": 267,
    "start_time": "2022-01-30T11:26:26.159Z"
   },
   {
    "duration": 9,
    "start_time": "2022-01-30T11:26:26.430Z"
   },
   {
    "duration": 6,
    "start_time": "2022-01-30T11:26:26.460Z"
   },
   {
    "duration": 331,
    "start_time": "2022-01-30T11:26:26.469Z"
   },
   {
    "duration": 11,
    "start_time": "2022-01-30T11:26:26.803Z"
   },
   {
    "duration": 7,
    "start_time": "2022-01-30T11:26:26.817Z"
   },
   {
    "duration": 69,
    "start_time": "2022-01-30T11:26:26.828Z"
   },
   {
    "duration": 61,
    "start_time": "2022-01-30T11:26:26.900Z"
   },
   {
    "duration": 75,
    "start_time": "2022-01-30T11:26:26.964Z"
   },
   {
    "duration": 27,
    "start_time": "2022-01-30T11:26:27.041Z"
   },
   {
    "duration": 24100,
    "start_time": "2022-01-30T11:26:27.072Z"
   },
   {
    "duration": 6,
    "start_time": "2022-01-30T11:26:51.175Z"
   },
   {
    "duration": 24,
    "start_time": "2022-01-30T11:26:51.184Z"
   },
   {
    "duration": 18,
    "start_time": "2022-01-30T11:26:51.211Z"
   },
   {
    "duration": 1573,
    "start_time": "2022-01-30T11:26:51.231Z"
   },
   {
    "duration": 1677,
    "start_time": "2022-01-30T11:26:52.806Z"
   },
   {
    "duration": 1614,
    "start_time": "2022-01-30T11:26:54.486Z"
   },
   {
    "duration": 11,
    "start_time": "2022-01-30T11:26:56.103Z"
   },
   {
    "duration": 395,
    "start_time": "2022-01-30T11:27:56.911Z"
   },
   {
    "duration": 4,
    "start_time": "2022-01-30T11:28:02.770Z"
   },
   {
    "duration": 7,
    "start_time": "2022-01-30T11:28:02.777Z"
   },
   {
    "duration": 6,
    "start_time": "2022-01-30T11:28:02.787Z"
   },
   {
    "duration": 1038,
    "start_time": "2022-01-30T11:28:02.796Z"
   },
   {
    "duration": 62,
    "start_time": "2022-01-30T11:28:03.837Z"
   },
   {
    "duration": 199,
    "start_time": "2022-01-30T11:28:03.901Z"
   },
   {
    "duration": 438,
    "start_time": "2022-01-30T11:28:04.103Z"
   },
   {
    "duration": 248,
    "start_time": "2022-01-30T11:28:04.544Z"
   },
   {
    "duration": 13,
    "start_time": "2022-01-30T11:28:04.799Z"
   },
   {
    "duration": 7,
    "start_time": "2022-01-30T11:28:04.816Z"
   },
   {
    "duration": 337,
    "start_time": "2022-01-30T11:28:04.826Z"
   },
   {
    "duration": 13,
    "start_time": "2022-01-30T11:28:05.167Z"
   },
   {
    "duration": 5,
    "start_time": "2022-01-30T11:28:05.183Z"
   },
   {
    "duration": 36,
    "start_time": "2022-01-30T11:28:05.190Z"
   },
   {
    "duration": 73,
    "start_time": "2022-01-30T11:28:05.228Z"
   },
   {
    "duration": 79,
    "start_time": "2022-01-30T11:28:05.304Z"
   },
   {
    "duration": 10,
    "start_time": "2022-01-30T11:28:05.386Z"
   },
   {
    "duration": 21072,
    "start_time": "2022-01-30T11:28:05.399Z"
   },
   {
    "duration": 4,
    "start_time": "2022-01-30T11:28:26.474Z"
   },
   {
    "duration": 22,
    "start_time": "2022-01-30T11:28:26.481Z"
   },
   {
    "duration": 11,
    "start_time": "2022-01-30T11:28:26.506Z"
   },
   {
    "duration": 1800,
    "start_time": "2022-01-30T11:28:26.519Z"
   },
   {
    "duration": 1572,
    "start_time": "2022-01-30T11:28:28.321Z"
   },
   {
    "duration": 1604,
    "start_time": "2022-01-30T11:28:29.895Z"
   },
   {
    "duration": 10,
    "start_time": "2022-01-30T11:28:31.501Z"
   },
   {
    "duration": 23,
    "start_time": "2022-01-30T11:33:40.109Z"
   },
   {
    "duration": 9,
    "start_time": "2022-01-30T11:33:42.325Z"
   },
   {
    "duration": 1655,
    "start_time": "2022-01-30T11:33:43.725Z"
   },
   {
    "duration": 23,
    "start_time": "2022-01-30T11:34:13.349Z"
   },
   {
    "duration": 1556,
    "start_time": "2022-01-30T11:34:14.238Z"
   },
   {
    "duration": 24,
    "start_time": "2022-01-30T11:34:37.190Z"
   },
   {
    "duration": 24,
    "start_time": "2022-01-30T11:34:43.173Z"
   },
   {
    "duration": 1629,
    "start_time": "2022-01-30T11:34:47.134Z"
   },
   {
    "duration": 39,
    "start_time": "2022-01-30T11:35:14.966Z"
   },
   {
    "duration": 1851,
    "start_time": "2022-01-30T11:35:17.062Z"
   },
   {
    "duration": 25,
    "start_time": "2022-01-30T11:35:42.189Z"
   },
   {
    "duration": 1608,
    "start_time": "2022-01-30T11:35:44.630Z"
   },
   {
    "duration": 26,
    "start_time": "2022-01-30T11:36:16.149Z"
   },
   {
    "duration": 1545,
    "start_time": "2022-01-30T11:36:16.614Z"
   },
   {
    "duration": 243,
    "start_time": "2022-01-30T11:36:44.533Z"
   },
   {
    "duration": 1610,
    "start_time": "2022-01-30T11:36:45.389Z"
   },
   {
    "duration": 25,
    "start_time": "2022-01-30T11:37:04.413Z"
   },
   {
    "duration": 2512,
    "start_time": "2022-01-30T11:37:05.206Z"
   },
   {
    "duration": 27,
    "start_time": "2022-01-30T11:37:14.918Z"
   },
   {
    "duration": 1745,
    "start_time": "2022-01-30T11:37:17.092Z"
   },
   {
    "duration": 1526,
    "start_time": "2022-01-30T11:37:24.324Z"
   },
   {
    "duration": 1741,
    "start_time": "2022-01-30T11:37:35.005Z"
   },
   {
    "duration": 25,
    "start_time": "2022-01-30T11:39:18.621Z"
   },
   {
    "duration": 1704,
    "start_time": "2022-01-30T11:39:19.806Z"
   },
   {
    "duration": 24,
    "start_time": "2022-01-30T11:39:28.309Z"
   },
   {
    "duration": 1606,
    "start_time": "2022-01-30T11:39:28.916Z"
   },
   {
    "duration": 1610,
    "start_time": "2022-01-30T11:54:50.755Z"
   },
   {
    "duration": 25,
    "start_time": "2022-01-30T12:00:56.818Z"
   },
   {
    "duration": 1782,
    "start_time": "2022-01-30T12:01:00.491Z"
   },
   {
    "duration": 26,
    "start_time": "2022-01-30T12:01:30.531Z"
   },
   {
    "duration": 1609,
    "start_time": "2022-01-30T12:01:32.073Z"
   },
   {
    "duration": 25,
    "start_time": "2022-01-30T12:04:17.811Z"
   },
   {
    "duration": 1632,
    "start_time": "2022-01-30T12:04:20.289Z"
   },
   {
    "duration": 165,
    "start_time": "2022-01-30T12:04:50.627Z"
   },
   {
    "duration": 1761,
    "start_time": "2022-01-30T12:04:51.298Z"
   },
   {
    "duration": 25,
    "start_time": "2022-01-30T12:05:48.146Z"
   },
   {
    "duration": 1921,
    "start_time": "2022-01-30T12:05:48.674Z"
   },
   {
    "duration": 28,
    "start_time": "2022-01-30T12:06:30.128Z"
   },
   {
    "duration": 1645,
    "start_time": "2022-01-30T12:06:32.818Z"
   },
   {
    "duration": 25,
    "start_time": "2022-01-30T12:06:51.681Z"
   },
   {
    "duration": 1580,
    "start_time": "2022-01-30T12:06:52.337Z"
   },
   {
    "duration": 27,
    "start_time": "2022-01-30T12:07:03.202Z"
   },
   {
    "duration": 1581,
    "start_time": "2022-01-30T12:07:05.578Z"
   },
   {
    "duration": 1631,
    "start_time": "2022-01-30T12:07:55.969Z"
   },
   {
    "duration": 1035,
    "start_time": "2022-01-30T12:08:23.449Z"
   },
   {
    "duration": 25,
    "start_time": "2022-01-30T12:09:42.152Z"
   },
   {
    "duration": 1574,
    "start_time": "2022-01-30T12:09:45.913Z"
   },
   {
    "duration": 1636,
    "start_time": "2022-01-30T12:10:02.130Z"
   },
   {
    "duration": 3121,
    "start_time": "2022-01-30T12:10:22.889Z"
   },
   {
    "duration": 1522,
    "start_time": "2022-01-30T12:10:31.808Z"
   },
   {
    "duration": 1448,
    "start_time": "2022-01-30T12:10:46.490Z"
   },
   {
    "duration": 1696,
    "start_time": "2022-01-30T12:10:55.242Z"
   },
   {
    "duration": 1753,
    "start_time": "2022-01-30T12:11:04.889Z"
   },
   {
    "duration": 25,
    "start_time": "2022-01-30T14:21:33.534Z"
   },
   {
    "duration": 1694,
    "start_time": "2022-01-30T14:21:35.102Z"
   },
   {
    "duration": 25,
    "start_time": "2022-01-30T14:21:43.664Z"
   },
   {
    "duration": 153,
    "start_time": "2022-01-30T14:21:59.119Z"
   },
   {
    "duration": 24,
    "start_time": "2022-01-30T14:22:28.727Z"
   },
   {
    "duration": 1742,
    "start_time": "2022-01-30T14:22:41.686Z"
   },
   {
    "duration": 24,
    "start_time": "2022-01-30T14:22:53.542Z"
   },
   {
    "duration": 1640,
    "start_time": "2022-01-30T14:22:54.926Z"
   },
   {
    "duration": 25,
    "start_time": "2022-01-30T14:28:43.430Z"
   },
   {
    "duration": 1778,
    "start_time": "2022-01-30T14:28:45.133Z"
   },
   {
    "duration": 24,
    "start_time": "2022-01-30T14:28:50.831Z"
   },
   {
    "duration": 25,
    "start_time": "2022-01-30T14:28:53.343Z"
   },
   {
    "duration": 1712,
    "start_time": "2022-01-30T14:28:54.822Z"
   },
   {
    "duration": 26,
    "start_time": "2022-01-30T14:29:04.197Z"
   },
   {
    "duration": 1622,
    "start_time": "2022-01-30T14:29:06.191Z"
   },
   {
    "duration": 27,
    "start_time": "2022-01-30T14:33:55.487Z"
   },
   {
    "duration": 1236,
    "start_time": "2022-01-30T14:34:26.126Z"
   },
   {
    "duration": 27,
    "start_time": "2022-01-30T14:43:02.692Z"
   },
   {
    "duration": 28,
    "start_time": "2022-01-30T14:43:09.412Z"
   },
   {
    "duration": 335,
    "start_time": "2022-01-30T14:44:46.420Z"
   },
   {
    "duration": 308,
    "start_time": "2022-01-30T14:45:47.252Z"
   },
   {
    "duration": 426,
    "start_time": "2022-01-30T14:45:57.507Z"
   },
   {
    "duration": 8840,
    "start_time": "2022-01-30T14:46:26.715Z"
   },
   {
    "duration": -69,
    "start_time": "2022-01-30T14:46:46.807Z"
   },
   {
    "duration": 8366,
    "start_time": "2022-01-30T14:46:49.682Z"
   },
   {
    "duration": 9,
    "start_time": "2022-01-30T14:47:52.300Z"
   },
   {
    "duration": 12,
    "start_time": "2022-01-30T14:48:01.324Z"
   },
   {
    "duration": 13,
    "start_time": "2022-01-30T14:48:06.699Z"
   },
   {
    "duration": 12,
    "start_time": "2022-01-30T14:48:09.682Z"
   },
   {
    "duration": 327,
    "start_time": "2022-01-30T14:48:22.770Z"
   },
   {
    "duration": 12,
    "start_time": "2022-01-30T14:48:39.828Z"
   },
   {
    "duration": 309,
    "start_time": "2022-01-30T14:48:53.442Z"
   },
   {
    "duration": 308,
    "start_time": "2022-01-30T14:49:10.155Z"
   },
   {
    "duration": 1293,
    "start_time": "2022-01-30T14:50:59.866Z"
   },
   {
    "duration": 1555,
    "start_time": "2022-01-30T14:51:15.817Z"
   },
   {
    "duration": 1126,
    "start_time": "2022-01-30T14:51:19.457Z"
   },
   {
    "duration": 125,
    "start_time": "2022-01-30T14:51:46.442Z"
   },
   {
    "duration": 122,
    "start_time": "2022-01-30T14:52:12.995Z"
   },
   {
    "duration": 145,
    "start_time": "2022-01-30T14:53:07.940Z"
   },
   {
    "duration": 1457,
    "start_time": "2022-01-30T14:53:11.434Z"
   },
   {
    "duration": 280,
    "start_time": "2022-01-30T14:53:57.571Z"
   },
   {
    "duration": 135,
    "start_time": "2022-01-30T14:54:17.785Z"
   },
   {
    "duration": 1109,
    "start_time": "2022-01-30T14:54:25.481Z"
   },
   {
    "duration": 892,
    "start_time": "2022-01-30T14:54:46.466Z"
   },
   {
    "duration": 863,
    "start_time": "2022-01-30T14:55:12.459Z"
   },
   {
    "duration": 1020,
    "start_time": "2022-01-30T14:56:02.105Z"
   },
   {
    "duration": 189,
    "start_time": "2022-01-30T14:56:12.081Z"
   },
   {
    "duration": 351,
    "start_time": "2022-01-30T14:56:21.345Z"
   },
   {
    "duration": 4,
    "start_time": "2022-01-30T14:56:30.393Z"
   },
   {
    "duration": 125,
    "start_time": "2022-01-30T14:56:38.400Z"
   },
   {
    "duration": 103,
    "start_time": "2022-01-30T14:56:42.033Z"
   },
   {
    "duration": 158,
    "start_time": "2022-01-30T14:56:49.057Z"
   },
   {
    "duration": 95,
    "start_time": "2022-01-30T14:56:51.641Z"
   },
   {
    "duration": 130,
    "start_time": "2022-01-30T14:56:55.488Z"
   },
   {
    "duration": 120,
    "start_time": "2022-01-30T14:57:12.833Z"
   },
   {
    "duration": 108,
    "start_time": "2022-01-30T14:57:52.616Z"
   },
   {
    "duration": 949,
    "start_time": "2022-01-30T14:57:57.193Z"
   },
   {
    "duration": 1314,
    "start_time": "2022-01-30T14:58:01.776Z"
   },
   {
    "duration": 1311,
    "start_time": "2022-01-30T14:58:20.362Z"
   },
   {
    "duration": 4,
    "start_time": "2022-01-30T15:00:46.312Z"
   },
   {
    "duration": 27,
    "start_time": "2022-01-30T15:01:02.776Z"
   },
   {
    "duration": 374,
    "start_time": "2022-01-30T15:01:15.432Z"
   },
   {
    "duration": 621,
    "start_time": "2022-01-30T15:01:22.592Z"
   },
   {
    "duration": 902,
    "start_time": "2022-01-30T15:01:30.639Z"
   },
   {
    "duration": 5,
    "start_time": "2022-01-30T15:01:31.544Z"
   },
   {
    "duration": 4,
    "start_time": "2022-01-30T15:01:31.559Z"
   },
   {
    "duration": 1161,
    "start_time": "2022-01-30T15:01:31.565Z"
   },
   {
    "duration": 57,
    "start_time": "2022-01-30T15:01:32.729Z"
   },
   {
    "duration": 202,
    "start_time": "2022-01-30T15:01:32.788Z"
   },
   {
    "duration": 422,
    "start_time": "2022-01-30T15:01:32.993Z"
   },
   {
    "duration": 424,
    "start_time": "2022-01-30T15:01:33.418Z"
   },
   {
    "duration": 21,
    "start_time": "2022-01-30T15:01:33.850Z"
   },
   {
    "duration": 8,
    "start_time": "2022-01-30T15:01:33.875Z"
   },
   {
    "duration": 491,
    "start_time": "2022-01-30T15:01:33.886Z"
   },
   {
    "duration": 10,
    "start_time": "2022-01-30T15:01:34.380Z"
   },
   {
    "duration": 7,
    "start_time": "2022-01-30T15:01:34.393Z"
   },
   {
    "duration": 57,
    "start_time": "2022-01-30T15:01:34.402Z"
   },
   {
    "duration": 45,
    "start_time": "2022-01-30T15:01:34.461Z"
   },
   {
    "duration": 74,
    "start_time": "2022-01-30T15:01:34.509Z"
   },
   {
    "duration": 9,
    "start_time": "2022-01-30T15:01:34.586Z"
   },
   {
    "duration": 24681,
    "start_time": "2022-01-30T15:01:34.597Z"
   },
   {
    "duration": 5,
    "start_time": "2022-01-30T15:01:59.281Z"
   },
   {
    "duration": 71,
    "start_time": "2022-01-30T15:01:59.289Z"
   },
   {
    "duration": 13,
    "start_time": "2022-01-30T15:01:59.362Z"
   },
   {
    "duration": 337,
    "start_time": "2022-01-30T15:01:59.377Z"
   },
   {
    "duration": 1817,
    "start_time": "2022-01-30T15:01:59.717Z"
   },
   {
    "duration": 372,
    "start_time": "2022-01-30T15:02:01.536Z"
   },
   {
    "duration": -51,
    "start_time": "2022-01-30T15:02:01.961Z"
   },
   {
    "duration": -51,
    "start_time": "2022-01-30T15:02:01.962Z"
   },
   {
    "duration": 1601,
    "start_time": "2022-01-30T15:03:04.137Z"
   },
   {
    "duration": 1066,
    "start_time": "2022-01-30T15:03:14.515Z"
   },
   {
    "duration": 154,
    "start_time": "2022-01-30T15:03:39.122Z"
   },
   {
    "duration": 2241,
    "start_time": "2022-01-30T15:03:47.281Z"
   },
   {
    "duration": 28,
    "start_time": "2022-01-30T15:04:00.777Z"
   },
   {
    "duration": 2385,
    "start_time": "2022-01-30T15:04:03.809Z"
   },
   {
    "duration": 42,
    "start_time": "2022-01-30T15:04:30.802Z"
   },
   {
    "duration": 2566,
    "start_time": "2022-01-30T15:04:32.475Z"
   },
   {
    "duration": 299,
    "start_time": "2022-01-30T15:05:30.833Z"
   },
   {
    "duration": 11,
    "start_time": "2022-01-30T15:05:35.025Z"
   },
   {
    "duration": 597,
    "start_time": "2022-01-30T15:05:52.962Z"
   },
   {
    "duration": 371,
    "start_time": "2022-01-30T15:05:57.832Z"
   },
   {
    "duration": 284,
    "start_time": "2022-01-30T15:06:01.783Z"
   },
   {
    "duration": 272,
    "start_time": "2022-01-30T15:06:05.473Z"
   },
   {
    "duration": 283,
    "start_time": "2022-01-30T15:06:09.280Z"
   },
   {
    "duration": 455,
    "start_time": "2022-01-30T15:06:13.881Z"
   },
   {
    "duration": 26,
    "start_time": "2022-01-30T15:06:31.896Z"
   },
   {
    "duration": 1809,
    "start_time": "2022-01-30T15:06:33.729Z"
   },
   {
    "duration": 269,
    "start_time": "2022-01-30T15:07:53.120Z"
   },
   {
    "duration": 25,
    "start_time": "2022-01-30T15:08:05.897Z"
   },
   {
    "duration": 1980,
    "start_time": "2022-01-30T15:08:08.201Z"
   },
   {
    "duration": 5357,
    "start_time": "2022-01-30T15:08:20.457Z"
   },
   {
    "duration": 43,
    "start_time": "2022-01-30T15:08:48.464Z"
   },
   {
    "duration": 2489,
    "start_time": "2022-01-30T15:08:50.712Z"
   },
   {
    "duration": 26,
    "start_time": "2022-01-30T15:12:41.512Z"
   },
   {
    "duration": 3392,
    "start_time": "2022-01-30T15:12:45.959Z"
   },
   {
    "duration": 27,
    "start_time": "2022-01-30T15:13:21.440Z"
   },
   {
    "duration": 1881,
    "start_time": "2022-01-30T15:13:22.695Z"
   },
   {
    "duration": 8731,
    "start_time": "2022-01-30T15:14:36.207Z"
   },
   {
    "duration": 295,
    "start_time": "2022-01-30T15:14:46.904Z"
   },
   {
    "duration": 280,
    "start_time": "2022-01-30T15:15:35.783Z"
   },
   {
    "duration": 351,
    "start_time": "2022-01-30T15:15:42.936Z"
   },
   {
    "duration": 10,
    "start_time": "2022-01-30T15:15:51.593Z"
   },
   {
    "duration": 102,
    "start_time": "2022-01-30T15:18:07.133Z"
   },
   {
    "duration": 334,
    "start_time": "2022-01-30T15:18:13.952Z"
   },
   {
    "duration": 331,
    "start_time": "2022-01-30T15:18:24.302Z"
   },
   {
    "duration": 394,
    "start_time": "2022-01-30T15:18:39.144Z"
   },
   {
    "duration": 151,
    "start_time": "2022-01-30T15:29:37.742Z"
   },
   {
    "duration": 347,
    "start_time": "2022-01-30T15:29:43.015Z"
   },
   {
    "duration": 1647,
    "start_time": "2022-01-30T15:29:52.255Z"
   },
   {
    "duration": 312,
    "start_time": "2022-01-30T15:30:13.534Z"
   },
   {
    "duration": 1566,
    "start_time": "2022-01-30T15:30:17.837Z"
   },
   {
    "duration": 1044,
    "start_time": "2022-01-30T15:30:23.686Z"
   },
   {
    "duration": 1738,
    "start_time": "2022-01-30T15:31:57.911Z"
   },
   {
    "duration": 949,
    "start_time": "2022-01-30T15:33:38.166Z"
   },
   {
    "duration": 1629,
    "start_time": "2022-01-30T15:33:43.255Z"
   },
   {
    "duration": 232,
    "start_time": "2022-01-30T15:43:33.004Z"
   },
   {
    "duration": 25,
    "start_time": "2022-01-30T15:43:38.492Z"
   },
   {
    "duration": 2112,
    "start_time": "2022-01-30T15:43:40.339Z"
   },
   {
    "duration": 25,
    "start_time": "2022-01-30T15:43:47.642Z"
   },
   {
    "duration": 2102,
    "start_time": "2022-01-30T15:43:48.995Z"
   },
   {
    "duration": 25,
    "start_time": "2022-01-30T15:43:58.331Z"
   },
   {
    "duration": 2542,
    "start_time": "2022-01-30T15:44:01.017Z"
   },
   {
    "duration": 139,
    "start_time": "2022-01-30T15:44:55.117Z"
   },
   {
    "duration": 128,
    "start_time": "2022-01-30T15:45:09.164Z"
   },
   {
    "duration": 25,
    "start_time": "2022-01-30T15:45:13.210Z"
   },
   {
    "duration": 1604,
    "start_time": "2022-01-30T15:45:14.700Z"
   },
   {
    "duration": 25,
    "start_time": "2022-01-30T15:45:20.803Z"
   },
   {
    "duration": 1588,
    "start_time": "2022-01-30T15:45:21.763Z"
   },
   {
    "duration": 26,
    "start_time": "2022-01-30T15:45:30.897Z"
   },
   {
    "duration": 1789,
    "start_time": "2022-01-30T15:45:31.836Z"
   },
   {
    "duration": 25,
    "start_time": "2022-01-30T15:46:06.779Z"
   },
   {
    "duration": 1647,
    "start_time": "2022-01-30T15:46:07.554Z"
   },
   {
    "duration": 26,
    "start_time": "2022-01-30T15:46:15.187Z"
   },
   {
    "duration": 1561,
    "start_time": "2022-01-30T15:46:16.106Z"
   },
   {
    "duration": 137,
    "start_time": "2022-01-30T15:46:22.762Z"
   },
   {
    "duration": 1638,
    "start_time": "2022-01-30T15:46:23.602Z"
   },
   {
    "duration": 25,
    "start_time": "2022-01-30T15:46:37.276Z"
   },
   {
    "duration": 1598,
    "start_time": "2022-01-30T15:46:38.699Z"
   },
   {
    "duration": 26,
    "start_time": "2022-01-30T15:46:43.786Z"
   },
   {
    "duration": 1653,
    "start_time": "2022-01-30T15:46:44.634Z"
   },
   {
    "duration": 26,
    "start_time": "2022-01-30T15:47:29.043Z"
   },
   {
    "duration": 1702,
    "start_time": "2022-01-30T15:47:30.657Z"
   },
   {
    "duration": 27,
    "start_time": "2022-01-30T15:47:39.243Z"
   },
   {
    "duration": 1584,
    "start_time": "2022-01-30T15:47:40.635Z"
   },
   {
    "duration": 134,
    "start_time": "2022-01-30T15:48:47.067Z"
   },
   {
    "duration": 26,
    "start_time": "2022-01-30T15:48:53.306Z"
   },
   {
    "duration": 1809,
    "start_time": "2022-01-30T15:48:55.306Z"
   },
   {
    "duration": 26,
    "start_time": "2022-01-30T15:49:43.859Z"
   },
   {
    "duration": 1756,
    "start_time": "2022-01-30T15:49:45.395Z"
   },
   {
    "duration": 1548,
    "start_time": "2022-01-30T15:49:51.418Z"
   },
   {
    "duration": 1694,
    "start_time": "2022-01-30T15:49:55.459Z"
   },
   {
    "duration": 25,
    "start_time": "2022-01-30T15:52:11.419Z"
   },
   {
    "duration": 1638,
    "start_time": "2022-01-30T15:52:13.457Z"
   },
   {
    "duration": 1630,
    "start_time": "2022-01-30T15:52:19.761Z"
   },
   {
    "duration": 1722,
    "start_time": "2022-01-30T15:52:23.456Z"
   },
   {
    "duration": 1744,
    "start_time": "2022-01-30T15:54:10.826Z"
   },
   {
    "duration": 28,
    "start_time": "2022-01-30T15:54:30.618Z"
   },
   {
    "duration": 1678,
    "start_time": "2022-01-30T15:54:34.481Z"
   },
   {
    "duration": 25,
    "start_time": "2022-01-30T15:56:11.547Z"
   },
   {
    "duration": 26,
    "start_time": "2022-01-30T15:56:40.426Z"
   },
   {
    "duration": 1595,
    "start_time": "2022-01-30T15:56:44.385Z"
   },
   {
    "duration": 27,
    "start_time": "2022-01-30T15:57:45.722Z"
   },
   {
    "duration": 1579,
    "start_time": "2022-01-30T15:57:48.761Z"
   },
   {
    "duration": 11,
    "start_time": "2022-01-30T16:07:07.296Z"
   },
   {
    "duration": 3,
    "start_time": "2022-01-30T16:07:25.280Z"
   },
   {
    "duration": 212,
    "start_time": "2022-01-30T17:22:06.902Z"
   },
   {
    "duration": 208,
    "start_time": "2022-01-30T17:23:00.238Z"
   },
   {
    "duration": 358,
    "start_time": "2022-01-30T17:23:28.733Z"
   },
   {
    "duration": 200,
    "start_time": "2022-01-30T17:24:49.894Z"
   },
   {
    "duration": 206,
    "start_time": "2022-01-30T17:25:09.005Z"
   },
   {
    "duration": 224,
    "start_time": "2022-01-30T17:25:49.884Z"
   },
   {
    "duration": 226,
    "start_time": "2022-01-30T17:26:30.749Z"
   },
   {
    "duration": 215,
    "start_time": "2022-01-30T17:29:32.781Z"
   },
   {
    "duration": 5,
    "start_time": "2022-01-30T17:31:05.580Z"
   },
   {
    "duration": 7,
    "start_time": "2022-01-30T17:33:16.165Z"
   },
   {
    "duration": 8,
    "start_time": "2022-01-30T17:33:20.996Z"
   },
   {
    "duration": 110,
    "start_time": "2022-01-30T17:33:42.533Z"
   },
   {
    "duration": 73,
    "start_time": "2022-01-30T17:33:46.797Z"
   },
   {
    "duration": 12,
    "start_time": "2022-01-30T17:37:53.820Z"
   },
   {
    "duration": 12,
    "start_time": "2022-01-30T17:38:25.437Z"
   },
   {
    "duration": 13,
    "start_time": "2022-01-30T17:38:32.026Z"
   },
   {
    "duration": 13,
    "start_time": "2022-01-30T17:38:50.283Z"
   },
   {
    "duration": 12,
    "start_time": "2022-01-30T17:39:04.579Z"
   },
   {
    "duration": 12,
    "start_time": "2022-01-30T17:39:29.675Z"
   },
   {
    "duration": 11,
    "start_time": "2022-01-30T17:39:50.484Z"
   },
   {
    "duration": 204,
    "start_time": "2022-01-30T17:40:39.628Z"
   },
   {
    "duration": 193,
    "start_time": "2022-01-30T17:41:04.404Z"
   },
   {
    "duration": 11,
    "start_time": "2022-01-30T17:41:10.827Z"
   },
   {
    "duration": 5,
    "start_time": "2022-01-30T17:53:28.474Z"
   },
   {
    "duration": 31,
    "start_time": "2022-01-30T17:53:33.579Z"
   },
   {
    "duration": 53,
    "start_time": "2022-01-30T17:56:35.514Z"
   },
   {
    "duration": 31,
    "start_time": "2022-01-30T17:58:25.122Z"
   },
   {
    "duration": 34,
    "start_time": "2022-01-30T17:58:35.531Z"
   },
   {
    "duration": 32,
    "start_time": "2022-01-30T17:58:44.114Z"
   },
   {
    "duration": 31,
    "start_time": "2022-01-30T17:59:38.874Z"
   },
   {
    "duration": 37,
    "start_time": "2022-01-30T17:59:44.633Z"
   },
   {
    "duration": 31,
    "start_time": "2022-01-30T17:59:49.202Z"
   },
   {
    "duration": 32,
    "start_time": "2022-01-30T17:59:51.545Z"
   },
   {
    "duration": 33,
    "start_time": "2022-01-30T17:59:54.770Z"
   },
   {
    "duration": 33,
    "start_time": "2022-01-30T17:59:57.418Z"
   },
   {
    "duration": 104,
    "start_time": "2022-01-30T18:00:09.178Z"
   },
   {
    "duration": 15,
    "start_time": "2022-01-30T18:00:12.353Z"
   },
   {
    "duration": 14,
    "start_time": "2022-01-30T18:00:18.066Z"
   },
   {
    "duration": 14,
    "start_time": "2022-01-30T18:00:27.746Z"
   },
   {
    "duration": 16,
    "start_time": "2022-01-30T18:00:38.409Z"
   },
   {
    "duration": 15,
    "start_time": "2022-01-30T18:00:41.921Z"
   },
   {
    "duration": 36,
    "start_time": "2022-01-30T18:00:54.785Z"
   },
   {
    "duration": 34,
    "start_time": "2022-01-30T18:01:06.802Z"
   },
   {
    "duration": 37,
    "start_time": "2022-01-30T18:01:33.586Z"
   },
   {
    "duration": 7,
    "start_time": "2022-01-30T18:10:07.730Z"
   },
   {
    "duration": 9,
    "start_time": "2022-01-30T18:11:00.201Z"
   },
   {
    "duration": 10,
    "start_time": "2022-01-30T18:29:41.261Z"
   },
   {
    "duration": 6,
    "start_time": "2022-01-30T18:31:12.757Z"
   },
   {
    "duration": 18,
    "start_time": "2022-01-30T18:31:18.636Z"
   },
   {
    "duration": 5,
    "start_time": "2022-01-30T18:31:54.053Z"
   },
   {
    "duration": 357,
    "start_time": "2022-01-30T18:33:23.939Z"
   },
   {
    "duration": 31,
    "start_time": "2022-01-30T18:42:46.460Z"
   },
   {
    "duration": 35,
    "start_time": "2022-01-30T18:47:52.744Z"
   },
   {
    "duration": 15,
    "start_time": "2022-01-30T18:48:07.075Z"
   },
   {
    "duration": 31,
    "start_time": "2022-01-30T18:48:11.504Z"
   },
   {
    "duration": 32,
    "start_time": "2022-01-30T18:49:23.386Z"
   },
   {
    "duration": 150,
    "start_time": "2022-01-30T18:49:51.042Z"
   },
   {
    "duration": 113,
    "start_time": "2022-01-30T18:49:55.649Z"
   },
   {
    "duration": 9,
    "start_time": "2022-01-30T18:50:06.784Z"
   },
   {
    "duration": 4,
    "start_time": "2022-01-30T18:56:32.290Z"
   },
   {
    "duration": 35,
    "start_time": "2022-01-30T18:56:43.769Z"
   },
   {
    "duration": 33,
    "start_time": "2022-01-30T18:57:07.073Z"
   },
   {
    "duration": 32,
    "start_time": "2022-01-30T18:57:19.320Z"
   },
   {
    "duration": 32,
    "start_time": "2022-01-30T18:57:22.352Z"
   },
   {
    "duration": 31,
    "start_time": "2022-01-30T18:57:28.425Z"
   },
   {
    "duration": 35,
    "start_time": "2022-01-30T18:57:30.408Z"
   },
   {
    "duration": 5,
    "start_time": "2022-01-30T18:57:33.206Z"
   },
   {
    "duration": 32,
    "start_time": "2022-01-30T18:57:34.049Z"
   },
   {
    "duration": 32,
    "start_time": "2022-01-30T18:57:36.448Z"
   },
   {
    "duration": 5,
    "start_time": "2022-01-30T18:57:39.616Z"
   },
   {
    "duration": 33,
    "start_time": "2022-01-30T18:57:40.888Z"
   },
   {
    "duration": 34,
    "start_time": "2022-01-30T18:57:43.169Z"
   },
   {
    "duration": 32,
    "start_time": "2022-01-30T18:58:08.055Z"
   },
   {
    "duration": 5,
    "start_time": "2022-01-30T18:58:15.768Z"
   },
   {
    "duration": 33,
    "start_time": "2022-01-30T18:58:16.904Z"
   },
   {
    "duration": 33,
    "start_time": "2022-01-30T18:58:18.696Z"
   },
   {
    "duration": 34,
    "start_time": "2022-01-30T18:58:20.570Z"
   },
   {
    "duration": 5,
    "start_time": "2022-01-30T18:59:35.953Z"
   },
   {
    "duration": 36,
    "start_time": "2022-01-30T18:59:37.944Z"
   },
   {
    "duration": 6,
    "start_time": "2022-01-30T19:00:07.897Z"
   },
   {
    "duration": 38,
    "start_time": "2022-01-30T19:00:09.334Z"
   },
   {
    "duration": 105,
    "start_time": "2022-01-30T19:00:24.273Z"
   },
   {
    "duration": 165,
    "start_time": "2022-01-30T19:00:29.383Z"
   },
   {
    "duration": 176,
    "start_time": "2022-01-30T19:00:36.592Z"
   },
   {
    "duration": 6,
    "start_time": "2022-01-30T19:00:51.497Z"
   },
   {
    "duration": 35,
    "start_time": "2022-01-30T19:00:52.208Z"
   },
   {
    "duration": 6,
    "start_time": "2022-01-30T19:02:15.823Z"
   },
   {
    "duration": 6,
    "start_time": "2022-01-30T19:02:30.808Z"
   },
   {
    "duration": 37,
    "start_time": "2022-01-30T19:02:32.617Z"
   },
   {
    "duration": 38,
    "start_time": "2022-01-30T19:02:35.663Z"
   },
   {
    "duration": 39,
    "start_time": "2022-01-30T19:02:38.161Z"
   },
   {
    "duration": 509,
    "start_time": "2022-01-30T19:03:09.681Z"
   },
   {
    "duration": 6,
    "start_time": "2022-01-30T19:03:25.793Z"
   },
   {
    "duration": 38,
    "start_time": "2022-01-30T19:03:27.176Z"
   },
   {
    "duration": 37,
    "start_time": "2022-01-30T19:03:30.968Z"
   },
   {
    "duration": 38,
    "start_time": "2022-01-30T19:03:57.432Z"
   },
   {
    "duration": 36,
    "start_time": "2022-01-30T19:04:03.576Z"
   },
   {
    "duration": 41,
    "start_time": "2022-01-30T19:04:13.672Z"
   },
   {
    "duration": 37,
    "start_time": "2022-01-30T19:04:22.552Z"
   },
   {
    "duration": 36,
    "start_time": "2022-01-30T19:09:56.647Z"
   },
   {
    "duration": 41,
    "start_time": "2022-01-30T19:10:01.114Z"
   },
   {
    "duration": 27,
    "start_time": "2022-01-30T19:14:04.150Z"
   },
   {
    "duration": 322,
    "start_time": "2022-01-30T19:14:15.277Z"
   },
   {
    "duration": 10005,
    "start_time": "2022-01-30T19:14:28.372Z"
   },
   {
    "duration": 35,
    "start_time": "2022-01-30T19:15:23.975Z"
   },
   {
    "duration": 1642,
    "start_time": "2022-01-30T19:15:25.661Z"
   },
   {
    "duration": 6,
    "start_time": "2022-01-30T19:22:33.461Z"
   },
   {
    "duration": 4,
    "start_time": "2022-01-30T19:22:33.893Z"
   },
   {
    "duration": 27,
    "start_time": "2022-01-30T19:22:34.365Z"
   },
   {
    "duration": 1534,
    "start_time": "2022-01-30T19:22:55.709Z"
   },
   {
    "duration": 1797,
    "start_time": "2022-01-30T19:23:22.316Z"
   },
   {
    "duration": 1561,
    "start_time": "2022-01-30T19:23:37.803Z"
   },
   {
    "duration": 1643,
    "start_time": "2022-01-30T19:24:41.565Z"
   },
   {
    "duration": 1692,
    "start_time": "2022-01-30T19:25:18.332Z"
   },
   {
    "duration": 5,
    "start_time": "2022-01-30T19:29:16.748Z"
   },
   {
    "duration": 1684,
    "start_time": "2022-01-30T19:29:19.220Z"
   },
   {
    "duration": 6,
    "start_time": "2022-01-30T19:29:25.532Z"
   },
   {
    "duration": 1755,
    "start_time": "2022-01-30T19:29:27.804Z"
   },
   {
    "duration": 1551,
    "start_time": "2022-01-30T19:31:16.597Z"
   },
   {
    "duration": 1628,
    "start_time": "2022-01-30T19:39:47.818Z"
   },
   {
    "duration": 1749,
    "start_time": "2022-01-30T19:39:53.505Z"
   },
   {
    "duration": 428,
    "start_time": "2022-01-30T19:58:18.647Z"
   },
   {
    "duration": 30,
    "start_time": "2022-01-30T20:14:47.589Z"
   },
   {
    "duration": 374,
    "start_time": "2022-01-30T20:23:12.790Z"
   },
   {
    "duration": 6,
    "start_time": "2022-01-30T20:23:18.116Z"
   },
   {
    "duration": 10,
    "start_time": "2022-01-30T20:23:20.292Z"
   },
   {
    "duration": 6,
    "start_time": "2022-01-30T20:23:36.701Z"
   },
   {
    "duration": 12,
    "start_time": "2022-01-30T20:23:38.258Z"
   },
   {
    "duration": 8,
    "start_time": "2022-01-30T20:25:13.231Z"
   },
   {
    "duration": 31,
    "start_time": "2022-01-30T20:25:31.701Z"
   },
   {
    "duration": 12,
    "start_time": "2022-01-30T20:25:37.523Z"
   },
   {
    "duration": 14,
    "start_time": "2022-01-30T20:25:52.341Z"
   },
   {
    "duration": 6,
    "start_time": "2022-01-30T20:25:54.579Z"
   },
   {
    "duration": 11,
    "start_time": "2022-01-30T20:25:56.188Z"
   },
   {
    "duration": 102,
    "start_time": "2022-01-30T20:29:23.051Z"
   },
   {
    "duration": 6,
    "start_time": "2022-01-30T20:30:20.419Z"
   },
   {
    "duration": 11,
    "start_time": "2022-01-30T20:30:25.820Z"
   },
   {
    "duration": 6,
    "start_time": "2022-01-30T20:30:29.620Z"
   },
   {
    "duration": 13,
    "start_time": "2022-01-30T20:30:31.042Z"
   },
   {
    "duration": 278,
    "start_time": "2022-01-30T20:33:30.204Z"
   },
   {
    "duration": 14,
    "start_time": "2022-01-30T20:33:37.093Z"
   },
   {
    "duration": 6,
    "start_time": "2022-01-30T20:33:40.048Z"
   },
   {
    "duration": 41,
    "start_time": "2022-01-30T20:33:44.956Z"
   },
   {
    "duration": 34,
    "start_time": "2022-01-30T20:34:01.924Z"
   },
   {
    "duration": 19,
    "start_time": "2022-01-30T20:34:13.909Z"
   },
   {
    "duration": 7,
    "start_time": "2022-01-30T20:34:23.331Z"
   },
   {
    "duration": 41,
    "start_time": "2022-01-30T20:34:28.180Z"
   },
   {
    "duration": 323,
    "start_time": "2022-01-30T20:34:53.923Z"
   },
   {
    "duration": 325,
    "start_time": "2022-01-30T20:35:01.546Z"
   },
   {
    "duration": 15,
    "start_time": "2022-01-30T20:35:03.332Z"
   },
   {
    "duration": 1942,
    "start_time": "2022-01-30T20:35:09.150Z"
   },
   {
    "duration": 344,
    "start_time": "2022-01-30T20:36:40.754Z"
   },
   {
    "duration": 314,
    "start_time": "2022-01-30T20:36:46.971Z"
   },
   {
    "duration": 7,
    "start_time": "2022-01-30T20:36:52.364Z"
   },
   {
    "duration": 7,
    "start_time": "2022-01-30T20:37:38.877Z"
   },
   {
    "duration": 21,
    "start_time": "2022-01-30T20:37:43.995Z"
   },
   {
    "duration": 353,
    "start_time": "2022-01-30T20:42:10.299Z"
   },
   {
    "duration": 334,
    "start_time": "2022-01-30T20:42:32.459Z"
   },
   {
    "duration": 6,
    "start_time": "2022-01-30T20:42:37.225Z"
   },
   {
    "duration": 370,
    "start_time": "2022-01-30T20:42:43.217Z"
   },
   {
    "duration": 326,
    "start_time": "2022-01-30T20:42:56.546Z"
   },
   {
    "duration": 34,
    "start_time": "2022-01-30T20:43:08.898Z"
   },
   {
    "duration": 6,
    "start_time": "2022-01-30T20:43:47.459Z"
   },
   {
    "duration": 668,
    "start_time": "2022-01-30T20:43:50.410Z"
   },
   {
    "duration": 716,
    "start_time": "2022-01-30T20:44:08.483Z"
   },
   {
    "duration": 34,
    "start_time": "2022-01-30T20:44:13.890Z"
   },
   {
    "duration": 5,
    "start_time": "2022-01-30T20:44:44.005Z"
   },
   {
    "duration": 34,
    "start_time": "2022-01-30T20:44:44.523Z"
   },
   {
    "duration": 35,
    "start_time": "2022-01-30T20:44:49.666Z"
   },
   {
    "duration": 5,
    "start_time": "2022-01-30T20:44:52.074Z"
   },
   {
    "duration": 6,
    "start_time": "2022-01-30T20:44:58.018Z"
   },
   {
    "duration": 1704,
    "start_time": "2022-01-30T20:45:01.562Z"
   },
   {
    "duration": 1715,
    "start_time": "2022-01-30T20:45:12.281Z"
   },
   {
    "duration": 1554,
    "start_time": "2022-01-30T20:46:08.137Z"
   },
   {
    "duration": 1652,
    "start_time": "2022-01-30T20:46:14.129Z"
   },
   {
    "duration": 1649,
    "start_time": "2022-01-30T20:46:31.424Z"
   },
   {
    "duration": 1524,
    "start_time": "2022-01-30T20:47:25.641Z"
   },
   {
    "duration": 1738,
    "start_time": "2022-01-30T20:47:33.921Z"
   },
   {
    "duration": 8,
    "start_time": "2022-01-30T20:48:12.496Z"
   },
   {
    "duration": 34,
    "start_time": "2022-01-30T20:48:18.248Z"
   },
   {
    "duration": 7,
    "start_time": "2022-01-30T20:49:26.962Z"
   },
   {
    "duration": 35,
    "start_time": "2022-01-30T20:49:27.537Z"
   },
   {
    "duration": 310,
    "start_time": "2022-01-30T20:49:46.145Z"
   },
   {
    "duration": 408,
    "start_time": "2022-01-30T20:49:51.418Z"
   },
   {
    "duration": 323,
    "start_time": "2022-01-30T20:49:55.344Z"
   },
   {
    "duration": 7,
    "start_time": "2022-01-30T20:50:01.351Z"
   },
   {
    "duration": 34,
    "start_time": "2022-01-30T20:50:03.985Z"
   },
   {
    "duration": 11,
    "start_time": "2022-01-30T20:53:08.016Z"
   },
   {
    "duration": 35,
    "start_time": "2022-01-30T20:53:09.505Z"
   },
   {
    "duration": 1182,
    "start_time": "2022-01-30T20:53:18.944Z"
   },
   {
    "duration": 118,
    "start_time": "2022-01-30T20:56:06.535Z"
   },
   {
    "duration": 9,
    "start_time": "2022-01-30T20:56:14.279Z"
   },
   {
    "duration": 33,
    "start_time": "2022-01-30T20:56:16.512Z"
   },
   {
    "duration": 8,
    "start_time": "2022-01-30T20:58:47.311Z"
   },
   {
    "duration": 30,
    "start_time": "2022-01-30T20:58:48.455Z"
   },
   {
    "duration": 8,
    "start_time": "2022-01-30T20:59:00.047Z"
   },
   {
    "duration": 39,
    "start_time": "2022-01-30T20:59:00.968Z"
   },
   {
    "duration": 8,
    "start_time": "2022-01-30T21:03:31.392Z"
   },
   {
    "duration": 32,
    "start_time": "2022-01-30T21:03:32.945Z"
   },
   {
    "duration": 8,
    "start_time": "2022-01-30T21:03:43.743Z"
   },
   {
    "duration": 32,
    "start_time": "2022-01-30T21:03:45.301Z"
   },
   {
    "duration": 382,
    "start_time": "2022-01-30T21:07:20.574Z"
   },
   {
    "duration": 712,
    "start_time": "2022-01-30T21:07:29.948Z"
   },
   {
    "duration": 456,
    "start_time": "2022-01-30T21:07:40.230Z"
   },
   {
    "duration": 31,
    "start_time": "2022-01-30T21:07:42.581Z"
   },
   {
    "duration": 451,
    "start_time": "2022-01-30T21:11:30.382Z"
   },
   {
    "duration": 483,
    "start_time": "2022-01-30T21:13:15.823Z"
   },
   {
    "duration": 914,
    "start_time": "2022-01-30T21:13:53.975Z"
   },
   {
    "duration": 968,
    "start_time": "2022-01-30T21:14:24.413Z"
   },
   {
    "duration": 5071,
    "start_time": "2022-01-30T21:14:33.550Z"
   },
   {
    "duration": 4806,
    "start_time": "2022-01-30T21:14:41.055Z"
   },
   {
    "duration": 4785,
    "start_time": "2022-01-30T21:14:51.687Z"
   },
   {
    "duration": 4459,
    "start_time": "2022-01-30T21:14:59.605Z"
   },
   {
    "duration": 110,
    "start_time": "2022-01-30T21:15:24.102Z"
   },
   {
    "duration": 465,
    "start_time": "2022-01-30T21:15:32.997Z"
   },
   {
    "duration": 4593,
    "start_time": "2022-01-30T21:15:37.773Z"
   },
   {
    "duration": 460,
    "start_time": "2022-01-30T21:15:44.060Z"
   },
   {
    "duration": 466,
    "start_time": "2022-01-30T21:15:56.982Z"
   },
   {
    "duration": 5,
    "start_time": "2022-01-30T21:16:04.309Z"
   },
   {
    "duration": 457,
    "start_time": "2022-01-30T21:17:46.302Z"
   },
   {
    "duration": 6,
    "start_time": "2022-01-30T21:18:42.484Z"
   },
   {
    "duration": 2175,
    "start_time": "2022-01-30T21:18:47.597Z"
   },
   {
    "duration": 5,
    "start_time": "2022-01-30T21:21:24.220Z"
   },
   {
    "duration": 6,
    "start_time": "2022-01-30T21:21:36.180Z"
   },
   {
    "duration": 2069,
    "start_time": "2022-01-30T21:21:38.516Z"
   },
   {
    "duration": 2061,
    "start_time": "2022-01-30T21:21:46.020Z"
   },
   {
    "duration": 2412,
    "start_time": "2022-01-30T21:21:49.932Z"
   },
   {
    "duration": 1559,
    "start_time": "2022-01-30T21:22:25.836Z"
   },
   {
    "duration": 2025,
    "start_time": "2022-01-30T21:22:31.524Z"
   },
   {
    "duration": 11,
    "start_time": "2022-01-30T21:24:02.643Z"
   },
   {
    "duration": 576,
    "start_time": "2022-01-30T21:24:10.059Z"
   },
   {
    "duration": 30,
    "start_time": "2022-01-30T21:24:11.565Z"
   },
   {
    "duration": 13,
    "start_time": "2022-01-30T21:24:42.854Z"
   },
   {
    "duration": 11,
    "start_time": "2022-01-30T21:24:52.476Z"
   },
   {
    "duration": 1439,
    "start_time": "2022-02-07T15:59:08.942Z"
   },
   {
    "duration": 5,
    "start_time": "2022-02-07T15:59:10.384Z"
   },
   {
    "duration": 13,
    "start_time": "2022-02-07T15:59:10.392Z"
   },
   {
    "duration": 1130,
    "start_time": "2022-02-07T15:59:10.408Z"
   },
   {
    "duration": 58,
    "start_time": "2022-02-07T15:59:11.541Z"
   },
   {
    "duration": 231,
    "start_time": "2022-02-07T15:59:11.602Z"
   },
   {
    "duration": 499,
    "start_time": "2022-02-07T15:59:11.836Z"
   },
   {
    "duration": 275,
    "start_time": "2022-02-07T15:59:12.339Z"
   },
   {
    "duration": 8,
    "start_time": "2022-02-07T15:59:12.617Z"
   },
   {
    "duration": 12,
    "start_time": "2022-02-07T15:59:12.627Z"
   },
   {
    "duration": 342,
    "start_time": "2022-02-07T15:59:12.642Z"
   },
   {
    "duration": 11,
    "start_time": "2022-02-07T15:59:12.987Z"
   },
   {
    "duration": 7,
    "start_time": "2022-02-07T15:59:13.001Z"
   },
   {
    "duration": 37,
    "start_time": "2022-02-07T15:59:13.010Z"
   },
   {
    "duration": 46,
    "start_time": "2022-02-07T15:59:13.070Z"
   },
   {
    "duration": 73,
    "start_time": "2022-02-07T15:59:13.120Z"
   },
   {
    "duration": 11,
    "start_time": "2022-02-07T15:59:13.195Z"
   },
   {
    "duration": 21449,
    "start_time": "2022-02-07T15:59:13.208Z"
   },
   {
    "duration": 5,
    "start_time": "2022-02-07T15:59:34.660Z"
   },
   {
    "duration": 4,
    "start_time": "2022-02-07T15:59:34.670Z"
   },
   {
    "duration": 25,
    "start_time": "2022-02-07T15:59:34.677Z"
   },
   {
    "duration": 2083,
    "start_time": "2022-02-07T15:59:34.705Z"
   },
   {
    "duration": 1695,
    "start_time": "2022-02-07T15:59:36.792Z"
   },
   {
    "duration": 2151,
    "start_time": "2022-02-07T15:59:38.490Z"
   },
   {
    "duration": 6,
    "start_time": "2022-02-07T15:59:40.643Z"
   },
   {
    "duration": 27,
    "start_time": "2022-02-07T15:59:40.652Z"
   },
   {
    "duration": 488,
    "start_time": "2022-02-07T15:59:40.682Z"
   },
   {
    "duration": 11,
    "start_time": "2022-02-07T15:59:41.173Z"
   },
   {
    "duration": 431,
    "start_time": "2022-02-07T16:02:16.578Z"
   },
   {
    "duration": 7,
    "start_time": "2022-02-07T16:02:28.247Z"
   },
   {
    "duration": 7818,
    "start_time": "2022-02-07T16:02:36.792Z"
   },
   {
    "duration": 8,
    "start_time": "2022-02-07T16:02:46.486Z"
   },
   {
    "duration": 8,
    "start_time": "2022-02-07T16:03:41.505Z"
   },
   {
    "duration": 304,
    "start_time": "2022-02-07T16:03:55.896Z"
   },
   {
    "duration": 8,
    "start_time": "2022-02-07T16:03:59.032Z"
   },
   {
    "duration": 8,
    "start_time": "2022-02-07T16:04:04.255Z"
   },
   {
    "duration": 8,
    "start_time": "2022-02-07T16:04:07.022Z"
   },
   {
    "duration": 9,
    "start_time": "2022-02-07T16:04:13.544Z"
   },
   {
    "duration": 9,
    "start_time": "2022-02-07T16:07:15.143Z"
   },
   {
    "duration": 313,
    "start_time": "2022-02-07T16:07:23.007Z"
   },
   {
    "duration": 336,
    "start_time": "2022-02-07T16:07:24.975Z"
   },
   {
    "duration": 342,
    "start_time": "2022-02-07T16:07:29.086Z"
   },
   {
    "duration": 310,
    "start_time": "2022-02-07T16:07:33.399Z"
   },
   {
    "duration": 9,
    "start_time": "2022-02-07T16:07:38.775Z"
   },
   {
    "duration": 8,
    "start_time": "2022-02-07T16:07:51.544Z"
   },
   {
    "duration": 305,
    "start_time": "2022-02-07T16:07:58.527Z"
   },
   {
    "duration": 9,
    "start_time": "2022-02-07T16:08:01.935Z"
   },
   {
    "duration": 10,
    "start_time": "2022-02-07T16:08:04.470Z"
   },
   {
    "duration": 8,
    "start_time": "2022-02-07T16:08:10.109Z"
   },
   {
    "duration": 341,
    "start_time": "2022-02-07T16:08:30.511Z"
   },
   {
    "duration": 316,
    "start_time": "2022-02-07T16:08:34.093Z"
   },
   {
    "duration": 329,
    "start_time": "2022-02-07T16:08:42.007Z"
   },
   {
    "duration": 9,
    "start_time": "2022-02-07T16:08:56.415Z"
   },
   {
    "duration": 9,
    "start_time": "2022-02-07T16:09:06.134Z"
   },
   {
    "duration": 410,
    "start_time": "2022-02-07T16:09:12.903Z"
   },
   {
    "duration": 9,
    "start_time": "2022-02-07T16:09:59.151Z"
   },
   {
    "duration": 9,
    "start_time": "2022-02-07T16:10:10.815Z"
   },
   {
    "duration": 9,
    "start_time": "2022-02-07T16:11:43.824Z"
   },
   {
    "duration": 9,
    "start_time": "2022-02-07T16:11:46.695Z"
   },
   {
    "duration": 11,
    "start_time": "2022-02-07T16:11:50.479Z"
   },
   {
    "duration": 9,
    "start_time": "2022-02-07T16:11:59.633Z"
   },
   {
    "duration": 103,
    "start_time": "2022-02-07T16:12:03.757Z"
   },
   {
    "duration": 9,
    "start_time": "2022-02-07T16:12:07.166Z"
   },
   {
    "duration": 8,
    "start_time": "2022-02-07T16:12:10.198Z"
   },
   {
    "duration": 357,
    "start_time": "2022-02-07T16:12:14.550Z"
   },
   {
    "duration": 9,
    "start_time": "2022-02-07T16:12:17.352Z"
   },
   {
    "duration": 8,
    "start_time": "2022-02-07T16:12:22.255Z"
   },
   {
    "duration": 9,
    "start_time": "2022-02-07T16:12:26.470Z"
   },
   {
    "duration": 8,
    "start_time": "2022-02-07T16:12:35.823Z"
   },
   {
    "duration": 7,
    "start_time": "2022-02-07T16:12:48.880Z"
   },
   {
    "duration": 10,
    "start_time": "2022-02-07T16:12:51.622Z"
   },
   {
    "duration": 9,
    "start_time": "2022-02-07T16:13:36.159Z"
   },
   {
    "duration": 10,
    "start_time": "2022-02-07T16:13:39.478Z"
   },
   {
    "duration": 341,
    "start_time": "2022-02-07T16:13:43.718Z"
   },
   {
    "duration": 9,
    "start_time": "2022-02-07T16:13:46.407Z"
   },
   {
    "duration": 10,
    "start_time": "2022-02-07T16:14:02.199Z"
   },
   {
    "duration": 9,
    "start_time": "2022-02-07T16:14:06.422Z"
   },
   {
    "duration": 316,
    "start_time": "2022-02-07T16:14:09.279Z"
   },
   {
    "duration": 309,
    "start_time": "2022-02-07T16:15:04.209Z"
   },
   {
    "duration": 319,
    "start_time": "2022-02-07T16:15:07.848Z"
   },
   {
    "duration": 660,
    "start_time": "2022-02-07T16:15:24.343Z"
   },
   {
    "duration": 347,
    "start_time": "2022-02-07T16:15:49.737Z"
   },
   {
    "duration": 303,
    "start_time": "2022-02-07T16:15:56.896Z"
   },
   {
    "duration": 9,
    "start_time": "2022-02-07T16:16:00.538Z"
   },
   {
    "duration": 310,
    "start_time": "2022-02-07T16:16:09.455Z"
   },
   {
    "duration": 9,
    "start_time": "2022-02-07T16:16:14.177Z"
   },
   {
    "duration": 9,
    "start_time": "2022-02-07T16:16:17.375Z"
   },
   {
    "duration": 9,
    "start_time": "2022-02-07T16:16:53.910Z"
   },
   {
    "duration": 9,
    "start_time": "2022-02-07T16:16:58.359Z"
   },
   {
    "duration": 312,
    "start_time": "2022-02-07T16:17:03.559Z"
   },
   {
    "duration": 353,
    "start_time": "2022-02-07T16:17:09.974Z"
   },
   {
    "duration": 9,
    "start_time": "2022-02-07T16:17:17.158Z"
   },
   {
    "duration": 8,
    "start_time": "2022-02-07T16:17:21.918Z"
   },
   {
    "duration": 8,
    "start_time": "2022-02-07T16:17:24.342Z"
   },
   {
    "duration": 9,
    "start_time": "2022-02-07T16:18:34.206Z"
   },
   {
    "duration": 326,
    "start_time": "2022-02-07T16:18:44.374Z"
   },
   {
    "duration": 305,
    "start_time": "2022-02-07T16:18:47.990Z"
   },
   {
    "duration": 9,
    "start_time": "2022-02-07T16:18:50.575Z"
   },
   {
    "duration": 11,
    "start_time": "2022-02-07T16:19:08.535Z"
   },
   {
    "duration": 314,
    "start_time": "2022-02-07T16:19:28.663Z"
   },
   {
    "duration": 332,
    "start_time": "2022-02-07T16:19:44.342Z"
   },
   {
    "duration": 13,
    "start_time": "2022-02-07T16:19:49.231Z"
   },
   {
    "duration": 13,
    "start_time": "2022-02-07T16:20:28.054Z"
   },
   {
    "duration": 12,
    "start_time": "2022-02-07T16:20:33.638Z"
   },
   {
    "duration": 11,
    "start_time": "2022-02-07T16:20:42.111Z"
   },
   {
    "duration": 11,
    "start_time": "2022-02-07T16:20:48.502Z"
   },
   {
    "duration": 10,
    "start_time": "2022-02-07T16:21:06.327Z"
   },
   {
    "duration": 94,
    "start_time": "2022-02-07T16:23:24.254Z"
   },
   {
    "duration": 65,
    "start_time": "2022-02-07T16:24:08.421Z"
   },
   {
    "duration": 5,
    "start_time": "2022-02-07T16:24:23.511Z"
   },
   {
    "duration": 7,
    "start_time": "2022-02-07T16:24:23.519Z"
   },
   {
    "duration": 20,
    "start_time": "2022-02-07T16:24:23.530Z"
   },
   {
    "duration": 1128,
    "start_time": "2022-02-07T16:24:23.552Z"
   },
   {
    "duration": 56,
    "start_time": "2022-02-07T16:24:24.682Z"
   },
   {
    "duration": 203,
    "start_time": "2022-02-07T16:24:24.740Z"
   },
   {
    "duration": 539,
    "start_time": "2022-02-07T16:24:24.945Z"
   },
   {
    "duration": 324,
    "start_time": "2022-02-07T16:24:25.487Z"
   },
   {
    "duration": 9,
    "start_time": "2022-02-07T16:24:25.815Z"
   },
   {
    "duration": 6,
    "start_time": "2022-02-07T16:24:25.828Z"
   },
   {
    "duration": 360,
    "start_time": "2022-02-07T16:24:25.836Z"
   },
   {
    "duration": 12,
    "start_time": "2022-02-07T16:24:26.200Z"
   },
   {
    "duration": 8,
    "start_time": "2022-02-07T16:24:26.215Z"
   },
   {
    "duration": 59,
    "start_time": "2022-02-07T16:24:26.226Z"
   },
   {
    "duration": 45,
    "start_time": "2022-02-07T16:24:26.288Z"
   },
   {
    "duration": 71,
    "start_time": "2022-02-07T16:24:26.335Z"
   },
   {
    "duration": 10,
    "start_time": "2022-02-07T16:24:26.408Z"
   },
   {
    "duration": 20776,
    "start_time": "2022-02-07T16:24:26.420Z"
   },
   {
    "duration": 6,
    "start_time": "2022-02-07T16:24:47.199Z"
   },
   {
    "duration": 7,
    "start_time": "2022-02-07T16:24:47.208Z"
   },
   {
    "duration": 55,
    "start_time": "2022-02-07T16:24:47.219Z"
   },
   {
    "duration": 2140,
    "start_time": "2022-02-07T16:24:47.277Z"
   },
   {
    "duration": 2199,
    "start_time": "2022-02-07T16:24:49.419Z"
   },
   {
    "duration": 2094,
    "start_time": "2022-02-07T16:24:51.622Z"
   },
   {
    "duration": 8,
    "start_time": "2022-02-07T16:24:53.719Z"
   },
   {
    "duration": 29,
    "start_time": "2022-02-07T16:24:53.729Z"
   },
   {
    "duration": 15,
    "start_time": "2022-02-07T16:24:53.770Z"
   },
   {
    "duration": 490,
    "start_time": "2022-02-07T16:24:53.788Z"
   },
   {
    "duration": 11,
    "start_time": "2022-02-07T16:24:54.281Z"
   },
   {
    "duration": 19,
    "start_time": "2022-02-07T16:29:13.483Z"
   },
   {
    "duration": 20,
    "start_time": "2022-02-07T16:29:31.690Z"
   },
   {
    "duration": 18,
    "start_time": "2022-02-07T16:29:53.219Z"
   },
   {
    "duration": 24,
    "start_time": "2022-02-07T16:30:11.690Z"
   },
   {
    "duration": 6,
    "start_time": "2022-02-07T17:04:49.153Z"
   },
   {
    "duration": 33,
    "start_time": "2022-02-07T17:04:49.162Z"
   },
   {
    "duration": 1122,
    "start_time": "2022-02-07T17:04:49.198Z"
   },
   {
    "duration": 53,
    "start_time": "2022-02-07T17:04:50.323Z"
   },
   {
    "duration": 245,
    "start_time": "2022-02-07T17:04:50.378Z"
   },
   {
    "duration": 484,
    "start_time": "2022-02-07T17:04:50.626Z"
   },
   {
    "duration": 275,
    "start_time": "2022-02-07T17:04:51.113Z"
   },
   {
    "duration": 10,
    "start_time": "2022-02-07T17:04:51.391Z"
   },
   {
    "duration": 19,
    "start_time": "2022-02-07T17:04:51.407Z"
   },
   {
    "duration": 330,
    "start_time": "2022-02-07T17:04:51.429Z"
   },
   {
    "duration": 13,
    "start_time": "2022-02-07T17:04:51.762Z"
   },
   {
    "duration": 28,
    "start_time": "2022-02-07T17:04:51.778Z"
   },
   {
    "duration": 70,
    "start_time": "2022-02-07T17:04:51.809Z"
   },
   {
    "duration": 47,
    "start_time": "2022-02-07T17:04:51.882Z"
   },
   {
    "duration": 71,
    "start_time": "2022-02-07T17:04:51.931Z"
   },
   {
    "duration": 9,
    "start_time": "2022-02-07T17:04:52.005Z"
   },
   {
    "duration": 21787,
    "start_time": "2022-02-07T17:04:52.017Z"
   },
   {
    "duration": 5,
    "start_time": "2022-02-07T17:05:13.807Z"
   },
   {
    "duration": 9,
    "start_time": "2022-02-07T17:05:13.815Z"
   },
   {
    "duration": 44,
    "start_time": "2022-02-07T17:05:13.826Z"
   },
   {
    "duration": 2275,
    "start_time": "2022-02-07T17:05:13.872Z"
   },
   {
    "duration": 1678,
    "start_time": "2022-02-07T17:05:16.150Z"
   },
   {
    "duration": 2031,
    "start_time": "2022-02-07T17:05:17.831Z"
   },
   {
    "duration": 5,
    "start_time": "2022-02-07T17:05:19.865Z"
   },
   {
    "duration": 11,
    "start_time": "2022-02-07T17:05:19.873Z"
   },
   {
    "duration": 16,
    "start_time": "2022-02-07T17:05:19.886Z"
   },
   {
    "duration": 505,
    "start_time": "2022-02-07T17:05:19.907Z"
   },
   {
    "duration": 11,
    "start_time": "2022-02-07T17:05:20.414Z"
   },
   {
    "duration": 1079,
    "start_time": "2022-02-13T11:01:38.261Z"
   },
   {
    "duration": 3,
    "start_time": "2022-02-13T11:01:39.342Z"
   },
   {
    "duration": 707,
    "start_time": "2022-02-13T11:01:41.601Z"
   },
   {
    "duration": 4,
    "start_time": "2022-02-13T11:14:35.350Z"
   },
   {
    "duration": 20,
    "start_time": "2022-02-13T11:14:35.356Z"
   },
   {
    "duration": 688,
    "start_time": "2022-02-13T11:14:35.378Z"
   },
   {
    "duration": 39,
    "start_time": "2022-02-13T11:14:36.068Z"
   },
   {
    "duration": 156,
    "start_time": "2022-02-13T11:14:36.108Z"
   },
   {
    "duration": 352,
    "start_time": "2022-02-13T11:14:36.265Z"
   },
   {
    "duration": 211,
    "start_time": "2022-02-13T11:14:36.619Z"
   },
   {
    "duration": 7,
    "start_time": "2022-02-13T11:14:36.831Z"
   },
   {
    "duration": 33,
    "start_time": "2022-02-13T11:14:36.841Z"
   },
   {
    "duration": 234,
    "start_time": "2022-02-13T11:14:36.876Z"
   },
   {
    "duration": 7,
    "start_time": "2022-02-13T11:14:37.112Z"
   },
   {
    "duration": 21,
    "start_time": "2022-02-13T11:14:37.120Z"
   },
   {
    "duration": 40,
    "start_time": "2022-02-13T11:14:37.143Z"
   },
   {
    "duration": 34,
    "start_time": "2022-02-13T11:14:37.185Z"
   },
   {
    "duration": 30,
    "start_time": "2022-02-13T11:14:37.220Z"
   },
   {
    "duration": 7,
    "start_time": "2022-02-13T11:14:37.252Z"
   },
   {
    "duration": 12595,
    "start_time": "2022-02-13T11:14:39.246Z"
   },
   {
    "duration": 12,
    "start_time": "2022-02-13T11:15:10.045Z"
   },
   {
    "duration": 14,
    "start_time": "2022-02-13T11:15:14.182Z"
   },
   {
    "duration": 103,
    "start_time": "2022-02-13T13:15:31.207Z"
   },
   {
    "duration": 122,
    "start_time": "2022-02-13T13:15:49.340Z"
   },
   {
    "duration": 103,
    "start_time": "2022-02-13T13:15:52.424Z"
   }
  ],
  "kernelspec": {
   "display_name": "Python 3 (ipykernel)",
   "language": "python",
   "name": "python3"
  },
  "language_info": {
   "codemirror_mode": {
    "name": "ipython",
    "version": 3
   },
   "file_extension": ".py",
   "mimetype": "text/x-python",
   "name": "python",
   "nbconvert_exporter": "python",
   "pygments_lexer": "ipython3",
   "version": "3.9.13"
  },
  "toc": {
   "base_numbering": 1,
   "nav_menu": {},
   "number_sections": true,
   "sideBar": true,
   "skip_h1_title": true,
   "title_cell": "Table of Contents",
   "title_sidebar": "Contents",
   "toc_cell": false,
   "toc_position": {
    "height": "calc(100% - 180px)",
    "left": "10px",
    "top": "150px",
    "width": "404.391px"
   },
   "toc_section_display": true,
   "toc_window_display": true
  }
 },
 "nbformat": 4,
 "nbformat_minor": 2
}
