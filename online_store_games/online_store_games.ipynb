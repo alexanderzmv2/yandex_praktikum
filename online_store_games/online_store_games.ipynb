{
 "cells": [
  {
   "cell_type": "markdown",
   "metadata": {
    "id": "HKuvJ_Cilrny"
   },
   "source": [
    "# Интернет-магазин компьютерных игр\n",
    "<br>\n",
    "В данном проекте будет рассматриваться работа интернет-магазина, который реализует компьютерные игры по всему миру.\n",
    "Для анализа нам представлены исторические данные о продажах игр, оценки пользоваетелй и экспертов, а также жанры и платформы (Xbos, PS, и т.д.).\n",
    "\n",
    "Задачей проекта является - выявление закономерностей, определяющие успешность игр, что позволит сделать ставку на потенциально популярный продукт и спланировать рекламные кампании."
   ]
  },
  {
   "cell_type": "markdown",
   "metadata": {
    "id": "6r9dnRA3lxlq"
   },
   "source": [
    "## Изучение общей информации"
   ]
  },
  {
   "cell_type": "markdown",
   "metadata": {
    "id": "6cQbILaeoM2y"
   },
   "source": [
    "Для начала работы с данными и последующего их анализа, загрузим необходимые библиотеки"
   ]
  },
  {
   "cell_type": "code",
   "execution_count": 2,
   "metadata": {
    "id": "6KG6Msksn4rB"
   },
   "outputs": [],
   "source": [
    "import pandas as pd\n",
    "import matplotlib.pyplot as plt\n",
    "import numpy as np\n",
    "from scipy import stats as st\n",
    "import warnings\n",
    "#отключим уведомления об ограничениях\n",
    "pd.options.mode.chained_assignment = None\n",
    "warnings.filterwarnings('ignore')"
   ]
  },
  {
   "cell_type": "code",
   "execution_count": 3,
   "metadata": {
    "id": "2e1SxTF21CiM"
   },
   "outputs": [],
   "source": [
    "#откроем файл\n",
    "try:\n",
    "    df = pd.read_csv('C:/Users/datasets/games.csv', sep=',', decimal='.')  # Локальный путь\n",
    "except:\n",
    "    df = pd.read_csv('/datasets/games.csv', sep=',', decimal='.')  # Серверный путь"
   ]
  },
  {
   "cell_type": "code",
   "execution_count": 4,
   "metadata": {
    "colab": {
     "base_uri": "https://localhost:8080/",
     "height": 707
    },
    "id": "QtDawWyKlqV0",
    "outputId": "b67251a4-132c-46b2-97bd-cd4590a28a63"
   },
   "outputs": [
    {
     "name": "stdout",
     "output_type": "stream",
     "text": [
      "<class 'pandas.core.frame.DataFrame'>\n",
      "RangeIndex: 16715 entries, 0 to 16714\n",
      "Data columns (total 11 columns):\n",
      "Name               16713 non-null object\n",
      "Platform           16715 non-null object\n",
      "Year_of_Release    16446 non-null float64\n",
      "Genre              16713 non-null object\n",
      "NA_sales           16715 non-null float64\n",
      "EU_sales           16715 non-null float64\n",
      "JP_sales           16715 non-null float64\n",
      "Other_sales        16715 non-null float64\n",
      "Critic_Score       8137 non-null float64\n",
      "User_Score         10014 non-null object\n",
      "Rating             9949 non-null object\n",
      "dtypes: float64(6), object(5)\n",
      "memory usage: 1.4+ MB\n"
     ]
    },
    {
     "data": {
      "text/html": [
       "<div>\n",
       "<style scoped>\n",
       "    .dataframe tbody tr th:only-of-type {\n",
       "        vertical-align: middle;\n",
       "    }\n",
       "\n",
       "    .dataframe tbody tr th {\n",
       "        vertical-align: top;\n",
       "    }\n",
       "\n",
       "    .dataframe thead th {\n",
       "        text-align: right;\n",
       "    }\n",
       "</style>\n",
       "<table border=\"1\" class=\"dataframe\">\n",
       "  <thead>\n",
       "    <tr style=\"text-align: right;\">\n",
       "      <th></th>\n",
       "      <th>Name</th>\n",
       "      <th>Platform</th>\n",
       "      <th>Year_of_Release</th>\n",
       "      <th>Genre</th>\n",
       "      <th>NA_sales</th>\n",
       "      <th>EU_sales</th>\n",
       "      <th>JP_sales</th>\n",
       "      <th>Other_sales</th>\n",
       "      <th>Critic_Score</th>\n",
       "      <th>User_Score</th>\n",
       "      <th>Rating</th>\n",
       "    </tr>\n",
       "  </thead>\n",
       "  <tbody>\n",
       "    <tr>\n",
       "      <td>count</td>\n",
       "      <td>16713</td>\n",
       "      <td>16715</td>\n",
       "      <td>16446.000000</td>\n",
       "      <td>16713</td>\n",
       "      <td>16715.000000</td>\n",
       "      <td>16715.000000</td>\n",
       "      <td>16715.000000</td>\n",
       "      <td>16715.000000</td>\n",
       "      <td>8137.000000</td>\n",
       "      <td>10014</td>\n",
       "      <td>9949</td>\n",
       "    </tr>\n",
       "    <tr>\n",
       "      <td>unique</td>\n",
       "      <td>11559</td>\n",
       "      <td>31</td>\n",
       "      <td>NaN</td>\n",
       "      <td>12</td>\n",
       "      <td>NaN</td>\n",
       "      <td>NaN</td>\n",
       "      <td>NaN</td>\n",
       "      <td>NaN</td>\n",
       "      <td>NaN</td>\n",
       "      <td>96</td>\n",
       "      <td>8</td>\n",
       "    </tr>\n",
       "    <tr>\n",
       "      <td>top</td>\n",
       "      <td>Need for Speed: Most Wanted</td>\n",
       "      <td>PS2</td>\n",
       "      <td>NaN</td>\n",
       "      <td>Action</td>\n",
       "      <td>NaN</td>\n",
       "      <td>NaN</td>\n",
       "      <td>NaN</td>\n",
       "      <td>NaN</td>\n",
       "      <td>NaN</td>\n",
       "      <td>tbd</td>\n",
       "      <td>E</td>\n",
       "    </tr>\n",
       "    <tr>\n",
       "      <td>freq</td>\n",
       "      <td>12</td>\n",
       "      <td>2161</td>\n",
       "      <td>NaN</td>\n",
       "      <td>3369</td>\n",
       "      <td>NaN</td>\n",
       "      <td>NaN</td>\n",
       "      <td>NaN</td>\n",
       "      <td>NaN</td>\n",
       "      <td>NaN</td>\n",
       "      <td>2424</td>\n",
       "      <td>3990</td>\n",
       "    </tr>\n",
       "    <tr>\n",
       "      <td>mean</td>\n",
       "      <td>NaN</td>\n",
       "      <td>NaN</td>\n",
       "      <td>2006.484616</td>\n",
       "      <td>NaN</td>\n",
       "      <td>0.263377</td>\n",
       "      <td>0.145060</td>\n",
       "      <td>0.077617</td>\n",
       "      <td>0.047342</td>\n",
       "      <td>68.967679</td>\n",
       "      <td>NaN</td>\n",
       "      <td>NaN</td>\n",
       "    </tr>\n",
       "    <tr>\n",
       "      <td>std</td>\n",
       "      <td>NaN</td>\n",
       "      <td>NaN</td>\n",
       "      <td>5.877050</td>\n",
       "      <td>NaN</td>\n",
       "      <td>0.813604</td>\n",
       "      <td>0.503339</td>\n",
       "      <td>0.308853</td>\n",
       "      <td>0.186731</td>\n",
       "      <td>13.938165</td>\n",
       "      <td>NaN</td>\n",
       "      <td>NaN</td>\n",
       "    </tr>\n",
       "    <tr>\n",
       "      <td>min</td>\n",
       "      <td>NaN</td>\n",
       "      <td>NaN</td>\n",
       "      <td>1980.000000</td>\n",
       "      <td>NaN</td>\n",
       "      <td>0.000000</td>\n",
       "      <td>0.000000</td>\n",
       "      <td>0.000000</td>\n",
       "      <td>0.000000</td>\n",
       "      <td>13.000000</td>\n",
       "      <td>NaN</td>\n",
       "      <td>NaN</td>\n",
       "    </tr>\n",
       "    <tr>\n",
       "      <td>25%</td>\n",
       "      <td>NaN</td>\n",
       "      <td>NaN</td>\n",
       "      <td>2003.000000</td>\n",
       "      <td>NaN</td>\n",
       "      <td>0.000000</td>\n",
       "      <td>0.000000</td>\n",
       "      <td>0.000000</td>\n",
       "      <td>0.000000</td>\n",
       "      <td>60.000000</td>\n",
       "      <td>NaN</td>\n",
       "      <td>NaN</td>\n",
       "    </tr>\n",
       "    <tr>\n",
       "      <td>50%</td>\n",
       "      <td>NaN</td>\n",
       "      <td>NaN</td>\n",
       "      <td>2007.000000</td>\n",
       "      <td>NaN</td>\n",
       "      <td>0.080000</td>\n",
       "      <td>0.020000</td>\n",
       "      <td>0.000000</td>\n",
       "      <td>0.010000</td>\n",
       "      <td>71.000000</td>\n",
       "      <td>NaN</td>\n",
       "      <td>NaN</td>\n",
       "    </tr>\n",
       "    <tr>\n",
       "      <td>75%</td>\n",
       "      <td>NaN</td>\n",
       "      <td>NaN</td>\n",
       "      <td>2010.000000</td>\n",
       "      <td>NaN</td>\n",
       "      <td>0.240000</td>\n",
       "      <td>0.110000</td>\n",
       "      <td>0.040000</td>\n",
       "      <td>0.030000</td>\n",
       "      <td>79.000000</td>\n",
       "      <td>NaN</td>\n",
       "      <td>NaN</td>\n",
       "    </tr>\n",
       "    <tr>\n",
       "      <td>max</td>\n",
       "      <td>NaN</td>\n",
       "      <td>NaN</td>\n",
       "      <td>2016.000000</td>\n",
       "      <td>NaN</td>\n",
       "      <td>41.360000</td>\n",
       "      <td>28.960000</td>\n",
       "      <td>10.220000</td>\n",
       "      <td>10.570000</td>\n",
       "      <td>98.000000</td>\n",
       "      <td>NaN</td>\n",
       "      <td>NaN</td>\n",
       "    </tr>\n",
       "  </tbody>\n",
       "</table>\n",
       "</div>"
      ],
      "text/plain": [
       "                               Name Platform  Year_of_Release   Genre  \\\n",
       "count                         16713    16715     16446.000000   16713   \n",
       "unique                        11559       31              NaN      12   \n",
       "top     Need for Speed: Most Wanted      PS2              NaN  Action   \n",
       "freq                             12     2161              NaN    3369   \n",
       "mean                            NaN      NaN      2006.484616     NaN   \n",
       "std                             NaN      NaN         5.877050     NaN   \n",
       "min                             NaN      NaN      1980.000000     NaN   \n",
       "25%                             NaN      NaN      2003.000000     NaN   \n",
       "50%                             NaN      NaN      2007.000000     NaN   \n",
       "75%                             NaN      NaN      2010.000000     NaN   \n",
       "max                             NaN      NaN      2016.000000     NaN   \n",
       "\n",
       "            NA_sales      EU_sales      JP_sales   Other_sales  Critic_Score  \\\n",
       "count   16715.000000  16715.000000  16715.000000  16715.000000   8137.000000   \n",
       "unique           NaN           NaN           NaN           NaN           NaN   \n",
       "top              NaN           NaN           NaN           NaN           NaN   \n",
       "freq             NaN           NaN           NaN           NaN           NaN   \n",
       "mean        0.263377      0.145060      0.077617      0.047342     68.967679   \n",
       "std         0.813604      0.503339      0.308853      0.186731     13.938165   \n",
       "min         0.000000      0.000000      0.000000      0.000000     13.000000   \n",
       "25%         0.000000      0.000000      0.000000      0.000000     60.000000   \n",
       "50%         0.080000      0.020000      0.000000      0.010000     71.000000   \n",
       "75%         0.240000      0.110000      0.040000      0.030000     79.000000   \n",
       "max        41.360000     28.960000     10.220000     10.570000     98.000000   \n",
       "\n",
       "       User_Score Rating  \n",
       "count       10014   9949  \n",
       "unique         96      8  \n",
       "top           tbd      E  \n",
       "freq         2424   3990  \n",
       "mean          NaN    NaN  \n",
       "std           NaN    NaN  \n",
       "min           NaN    NaN  \n",
       "25%           NaN    NaN  \n",
       "50%           NaN    NaN  \n",
       "75%           NaN    NaN  \n",
       "max           NaN    NaN  "
      ]
     },
     "execution_count": 4,
     "metadata": {},
     "output_type": "execute_result"
    }
   ],
   "source": [
    "df.info();df.describe(include = 'all')"
   ]
  },
  {
   "cell_type": "markdown",
   "metadata": {
    "id": "zu8IbGtbw9Yo"
   },
   "source": [
    "### Вывод\n",
    "Как видим из предварительного анализа:\n",
    "1. Имеются пропущенные значения в столбцах: \"Название игры\", \"Год выхода\", \"Жанр\", оценки критиков и пользователей и \"Рейтинг\"\n",
    "2. В наименованиях столбцов присутствует заглавные буквы, для упрощения обращения к ним, необходимо привести их к нижнему регистру\n",
    "3. Необходимо скорректировать типы данных: а) по типам `object` можно сконвертировать по части данных в `category`, например по \"Платформе\", \"Жанру\" и \"Рейтингу\"; б) по столбцам \"Год\" и возможно по оценкам изменим тип данных на `int`; в) в столбце `user_score` присутствует значение `tbd`, необходимо перед обработкой типов заменить данное значение на `NaN` т.к. это значение будет определено в будущем\n",
    "\n",
    "\n"
   ]
  },
  {
   "cell_type": "markdown",
   "metadata": {
    "id": "9IDySjbi-oCb"
   },
   "source": [
    "## Подготовка данных\n",
    "На основе предварительного анализа на первом этапе, выполним обработку данных и подготовим их к исследовательскому анализу данных"
   ]
  },
  {
   "cell_type": "markdown",
   "metadata": {
    "id": "1dplXeYp_LKa"
   },
   "source": [
    "### Изменение названий столбцов\n",
    "С помощью `.str.lower()` заменим названия всех столбцов на нижний регистр"
   ]
  },
  {
   "cell_type": "code",
   "execution_count": 5,
   "metadata": {
    "id": "grwv-EsF_Iep"
   },
   "outputs": [],
   "source": [
    "df.columns = df.columns.str.lower()"
   ]
  },
  {
   "cell_type": "markdown",
   "metadata": {
    "id": "_58fIf2FR-jz"
   },
   "source": [
    "### Обработка пропусков\n"
   ]
  },
  {
   "cell_type": "markdown",
   "metadata": {
    "id": "Ai-5Z3DKYfZU"
   },
   "source": [
    "#### Столбец `name`\n",
    "Так как наименование игр подобрать мы не сможем, удаляем их"
   ]
  },
  {
   "cell_type": "code",
   "execution_count": 6,
   "metadata": {
    "id": "pLPaHEbQSfn-"
   },
   "outputs": [],
   "source": [
    "df.dropna(subset = ['name'], inplace = True)"
   ]
  },
  {
   "cell_type": "markdown",
   "metadata": {
    "id": "A4UD1e9dS5v3"
   },
   "source": [
    "#### Столбец `year_of_release`\n",
    "Количество отсутствующих значений не критично, удаляем данные строки"
   ]
  },
  {
   "cell_type": "code",
   "execution_count": 7,
   "metadata": {
    "id": "9lbfw5PJTT1W"
   },
   "outputs": [],
   "source": [
    "df.dropna(subset = ['year_of_release'], inplace = True)"
   ]
  },
  {
   "cell_type": "markdown",
   "metadata": {},
   "source": [
    "#### Столбец `user_score`\n",
    "Исправляем только значения `tbd` на `NaN`"
   ]
  },
  {
   "cell_type": "code",
   "execution_count": 8,
   "metadata": {},
   "outputs": [],
   "source": [
    "df['user_score'] = df['user_score'].replace('tbd', np.NaN).astype('float')"
   ]
  },
  {
   "cell_type": "markdown",
   "metadata": {
    "id": "IJzekUkoTbod"
   },
   "source": [
    "В следующих столбцах `critic_score`, `user_score`, `rating` пропуски мы не будем заполнять т.к. данные показатели нельзя подобрать расчетно и мы можем исказить анализ и выводы."
   ]
  },
  {
   "cell_type": "markdown",
   "metadata": {
    "id": "svh1iCtcBNCn"
   },
   "source": [
    "### Изменение типов данных\n",
    "Перед тем как изменять типы данных, мы создадим функцию `mem_usage`, которая будет проверять занимаемую память таблицей"
   ]
  },
  {
   "cell_type": "code",
   "execution_count": 9,
   "metadata": {
    "id": "D4ZEBHo-JYJV"
   },
   "outputs": [],
   "source": [
    "def mem_usage(pandas_obj):\n",
    "    if isinstance(pandas_obj,pd.DataFrame):\n",
    "        usage_b = pandas_obj.memory_usage(deep=True).sum()\n",
    "    else: # исходим из предположения о том, что если это не DataFrame, то это Series\n",
    "        usage_b = pandas_obj.memory_usage(deep=True)\n",
    "    usage_mb = usage_b / 1024 ** 2 # преобразуем байты в мегабайты\n",
    "    return \"{:03.2f}\".format(usage_mb)"
   ]
  },
  {
   "cell_type": "markdown",
   "metadata": {
    "id": "XDNF_f3uKmNz"
   },
   "source": [
    "Приступим к оптимизации, в коде подробно распишем каждый шаг в комментарии"
   ]
  },
  {
   "cell_type": "code",
   "execution_count": 10,
   "metadata": {
    "colab": {
     "base_uri": "https://localhost:8080/"
    },
    "id": "lkPhJ7tdKPHi",
    "outputId": "a104498f-a7fd-458c-ce02-90a38f36ebcd"
   },
   "outputs": [
    {
     "name": "stdout",
     "output_type": "stream",
     "text": [
      "Таблица до изменений типов данных занимает в памяти: 4.97 МБ\n",
      "Таблица после изменений типов данных занимает в памяти: 1.86 МБ\n"
     ]
    }
   ],
   "source": [
    "#отобразим занимаемую память до оптимизации\n",
    "print('Таблица до изменений типов данных занимает в памяти:',mem_usage(df),'МБ')\n",
    "#оптимизация по типу данных 'object', что позволит сэкономить память т.к. уникальных значений в общей массе мало\n",
    "df[['platform','genre','rating']] = df[['platform','genre','rating']].astype('category')\n",
    "#изменение типа с float на int\n",
    "df['year_of_release']=df['year_of_release'].astype('int')\n",
    "#оптимизация типов float и int, понижение до минимальной разрядности\n",
    "#---оптимизация\n",
    "df[df.select_dtypes(include=['floating']).columns] = df.select_dtypes(include=['floating']).apply(pd.to_numeric,downcast='float')\n",
    "df[df.select_dtypes(include=['integer']).columns] = df.select_dtypes(include=['integer']).apply(pd.to_numeric,downcast='integer')\n",
    "#отобразим занимаемую память после оптимизации\n",
    "print('Таблица после изменений типов данных занимает в памяти:',mem_usage(df),'МБ')"
   ]
  },
  {
   "cell_type": "markdown",
   "metadata": {
    "id": "tBv4PWZVVZhv"
   },
   "source": [
    "Обработав пропуски и типы данных мы смогли оптимизировать таблицу на 67%."
   ]
  },
  {
   "cell_type": "markdown",
   "metadata": {
    "id": "luupsat5Wv8W"
   },
   "source": [
    "### Расчет суммарных продаж\n",
    "Добавим столбец с суммарными продажами во всех регионах"
   ]
  },
  {
   "cell_type": "code",
   "execution_count": 11,
   "metadata": {
    "id": "ASCvKX_JXRVl"
   },
   "outputs": [],
   "source": [
    "df['sales'] = df[['na_sales','eu_sales','jp_sales','other_sales']].sum(axis=1)"
   ]
  },
  {
   "cell_type": "markdown",
   "metadata": {
    "id": "2A6FoEcyXjsq"
   },
   "source": [
    "### Вывод\n",
    "Мы провели предобработку данных, выполнив следующие процедуры:\n",
    "1. привели названия столбцов к нижнему регистру\n",
    "2. там где необходимо обработали пропуски\n",
    "3. преобразовали данные в нужные типы\n",
    "4. добавили расчетный столбец с суммарными продажами\n",
    "\n",
    "Теперь мы можем приступать к исследованиям т.к. наши данные готовы к анализу и построению выводов."
   ]
  },
  {
   "cell_type": "markdown",
   "metadata": {
    "id": "YLggIo_kZV5G"
   },
   "source": [
    "## Исследовательский анализ данных\n",
    "В данном блоке мы узнаем: 1) сколько было выпущено игр; 2) проанализируем продажи по платформам; 3) узнаем влияние отзывов пользователей и критиков на продажи; 4) узнаем наиболее прибыльные жанры игр. \n",
    "<br>Для этого мы будем строить диаграммы и на основании этого делать выводы."
   ]
  },
  {
   "cell_type": "markdown",
   "metadata": {
    "id": "SJ6ddeDuZdK8"
   },
   "source": [
    "### Количество выпущенных игр по годам\n",
    "Построим столбчатую диаграмму по годам"
   ]
  },
  {
   "cell_type": "code",
   "execution_count": 12,
   "metadata": {
    "colab": {
     "base_uri": "https://localhost:8080/",
     "height": 365
    },
    "id": "RcoV_b_faz9T",
    "outputId": "a33f3589-4927-4000-a958-686fce207d2b"
   },
   "outputs": [
    {
     "data": {
      "image/png": "[encoded data removed]",
      "text/plain": [
       "<Figure size 1152x360 with 1 Axes>"
      ]
     },
     "metadata": {
      "needs_background": "light"
     },
     "output_type": "display_data"
    }
   ],
   "source": [
    "ax = df.groupby('year_of_release')['name'].count().plot(kind='bar', grid=True, figsize=(16, 5), title = 'Количество вышедших игр')\n",
    "ax.set_ylabel(\"Количество игр\", fontsize=11)\n",
    "ax.set_xlabel(\"Год выпуска\", fontsize=11)\n",
    "plt.show()"
   ]
  },
  {
   "cell_type": "markdown",
   "metadata": {
    "id": "daLTvODqcrU5"
   },
   "source": [
    "Как видим из графика, пик выпуска игр наблюдался с 2007 по 2011, после произошел спад.\n",
    "<br>По графику можно увидеть, что развитие игр более-менее активно началось с 1994 года, можно предположить с развитием компьютерных технологий. Наиболее активная фаза наблюдается с 2002 года. С 2012 года видим сокращение количества игр, на это могло повлиять много аспектов, например уход каких-либо платформ с рынка или развитие более качественных игр и фокус на определенные направления."
   ]
  },
  {
   "cell_type": "markdown",
   "metadata": {
    "id": "s9l4qmq9ewz5"
   },
   "source": [
    "### Суммарные продажи по платформам"
   ]
  },
  {
   "cell_type": "markdown",
   "metadata": {
    "id": "cBiRrWpygvNp"
   },
   "source": [
    "Построим диаграмму с продажами по всем платформам с сортировкой по возрастанию"
   ]
  },
  {
   "cell_type": "code",
   "execution_count": 13,
   "metadata": {
    "colab": {
     "base_uri": "https://localhost:8080/",
     "height": 366
    },
    "id": "xpwygjTqg6kN",
    "outputId": "d1737a44-2c4d-46bc-d8be-bb4e6ecf7675"
   },
   "outputs": [
    {
     "data": {
      "image/png": "[encoded data removed]",
      "text/plain": [
       "<Figure size 1152x360 with 1 Axes>"
      ]
     },
     "metadata": {
      "needs_background": "light"
     },
     "output_type": "display_data"
    }
   ],
   "source": [
    "ax = df.groupby('platform')['sales'].sum().sort_values().plot(kind='bar', grid=True, figsize=(16, 5), title = 'Продажи по платформам')\n",
    "ax.set_ylabel(\"Сумма продаж\", fontsize=11)\n",
    "ax.set_xlabel(\"Платформа\", fontsize=11)\n",
    "plt.show()"
   ]
  },
  {
   "cell_type": "markdown",
   "metadata": {
    "id": "ETR8CRRph_1r"
   },
   "source": [
    "Как видно из диаграммы, наибольшие продажи наблюдаются по платформам: PS,DS,Wii,PS3,X360,PS2.\n"
   ]
  },
  {
   "cell_type": "markdown",
   "metadata": {
    "id": "XVwpRrq8FldI"
   },
   "source": [
    "### Продажи у популярных платформ по годам\n",
    "Рассмотрим подробнее данные платформы по годам и проверим, какой срок существует новая платформа на рынке"
   ]
  },
  {
   "cell_type": "code",
   "execution_count": 14,
   "metadata": {
    "colab": {
     "base_uri": "https://localhost:8080/",
     "height": 1000
    },
    "id": "U77D7qYeiP-_",
    "outputId": "937b3902-4434-4e55-a290-480b68ee3394"
   },
   "outputs": [
    {
     "data": {
      "image/png": "[encoded data removed]",
      "text/plain": [
       "<Figure size 1152x288 with 1 Axes>"
      ]
     },
     "metadata": {
      "needs_background": "light"
     },
     "output_type": "display_data"
    },
    {
     "data": {
      "image/png": "[encoded data removed]",
      "text/plain": [
       "<Figure size 1152x288 with 1 Axes>"
      ]
     },
     "metadata": {
      "needs_background": "light"
     },
     "output_type": "display_data"
    },
    {
     "data": {
      "image/png": "[encoded data removed]",
      "text/plain": [
       "<Figure size 1152x288 with 1 Axes>"
      ]
     },
     "metadata": {
      "needs_background": "light"
     },
     "output_type": "display_data"
    },
    {
     "data": {
      "image/png": "[encoded data removed]",
      "text/plain": [
       "<Figure size 1152x288 with 1 Axes>"
      ]
     },
     "metadata": {
      "needs_background": "light"
     },
     "output_type": "display_data"
    },
    {
     "data": {
      "image/png": "[encoded data removed]",
      "text/plain": [
       "<Figure size 1152x288 with 1 Axes>"
      ]
     },
     "metadata": {
      "needs_background": "light"
     },
     "output_type": "display_data"
    }
   ],
   "source": [
    "for col in df.groupby('platform')['sales'].sum().sort_values(ascending=False).head(5).index:\n",
    "  ax = df[df['platform']==col].groupby('year_of_release')['sales'].sum().plot(kind='bar', grid=True, figsize=(16, 4), title = 'Продажи по платформе '+col)\n",
    "  ax.set_ylabel(\"Сумма продаж\", fontsize=11)\n",
    "  ax.set_xlabel(\"Год продажи\", fontsize=11)\n",
    "  plt.show()"
   ]
  },
  {
   "cell_type": "markdown",
   "metadata": {
    "id": "BNVVf65xlTz3"
   },
   "source": [
    "Как видно из графиков по продажам в разрезе самых продаваемых платформ, срок активной жизни платформ в среднем составляет 6 лет, что вполне логично, технологии развиваются стремительно и новые игры становятся все более требовательными, для этого приходится создавать новые консоли с наиболее мощными начинками."
   ]
  },
  {
   "cell_type": "markdown",
   "metadata": {
    "id": "K3Drwhlmo2ri"
   },
   "source": [
    "Так как мы определили, что средний срок активной жизни платформы составляет 6 лет, то будем рассматривать в анализе `актуальный период` как половину - 3 года, чтобы наиболее свежую информацию в предпочтениях пользователей т.е. с 2014 года, что послужит опорой для построения прогноза на 2017 год."
   ]
  },
  {
   "cell_type": "code",
   "execution_count": 15,
   "metadata": {
    "id": "PgeeJeGeV-5H"
   },
   "outputs": [],
   "source": [
    "#далее в работе будем рассматривать данные с 2014 года\n",
    "df = df[df['year_of_release']>=2014]\n",
    "df = df[df['sales']>0].reset_index(drop=True)\n",
    "#так как бы работаем с категориальным типом данных, необходимо после группировки сбросить неиспользуемые категории\n",
    "df['platform'] = df['platform'].cat.remove_unused_categories()"
   ]
  },
  {
   "cell_type": "markdown",
   "metadata": {
    "id": "5uKsCuW4GY7c"
   },
   "source": [
    "### Определение потенциально прибыльных платформ"
   ]
  },
  {
   "cell_type": "code",
   "execution_count": 16,
   "metadata": {
    "colab": {
     "base_uri": "https://localhost:8080/",
     "height": 366
    },
    "id": "jLRMixnUpxRU",
    "outputId": "b6830bfb-0a21-42e1-e0cb-ebd24b230733"
   },
   "outputs": [
    {
     "data": {
      "image/png": "[encoded data removed]",
      "text/plain": [
       "<Figure size 1152x360 with 1 Axes>"
      ]
     },
     "metadata": {
      "needs_background": "light"
     },
     "output_type": "display_data"
    }
   ],
   "source": [
    "#таблица под график\n",
    "df_act = df.groupby(['platform','year_of_release'])['sales'].sum().reset_index()\n",
    "#так как бы работаем с категориальным типом данных, необходимо после группировки сбросить неиспользуемые категории\n",
    "df_act['platform'] = df_act['platform'].cat.remove_unused_categories()\n",
    "#трансформируем таблицу для отображения столбчатой диаграммы по каждой платформе по\n",
    "ax_data = df_act.pivot(index='platform', columns='year_of_release', values='sales')\n",
    "#построим столбчатую диаграмму\n",
    "ax = ax_data.plot(kind='bar', grid=True, figsize=(16, 5), title = 'Продажи платформ по годам')\n",
    "ax.set_ylabel(\"Сумма продаж\", fontsize=11)\n",
    "ax.set_xlabel(\"Платформа\", fontsize=11)\n",
    "plt.show()"
   ]
  },
  {
   "cell_type": "markdown",
   "metadata": {
    "id": "chguBjxrDZdI"
   },
   "source": [
    "Как видим из наглядного графика, что наиболее высокие продажи наблюдались больше всего по `PS3`, `PS4` и `X360`, но обратим вниманием, что по `PS3` и `X360` продажи на 2016 год крайне малы. Для наших целей нам необходимо отобрать наиболее потенциальные платформы, поэтому возьмем на анлиз платформы `3DS`, `PS4` и `XOne`, где две последние относительно новые т.к. вышли в 2013 и могут показать большие продажи."
   ]
  },
  {
   "cell_type": "markdown",
   "metadata": {
    "id": "nZDowN2iGj8s"
   },
   "source": [
    "### \"Ящик с усами\" по глобальным продажам игр по платформам"
   ]
  },
  {
   "cell_type": "code",
   "execution_count": 18,
   "metadata": {
    "colab": {
     "base_uri": "https://localhost:8080/",
     "height": 402
    },
    "id": "EwTkB-kAG-U0",
    "outputId": "1ab71151-eb86-4861-e62e-2c2ff2875d67"
   },
   "outputs": [
    {
     "data": {
      "image/png": "[encoded data removed]",
      "text/plain": [
       "<Figure size 1152x432 with 1 Axes>"
      ]
     },
     "metadata": {
      "needs_background": "light"
     },
     "output_type": "display_data"
    }
   ],
   "source": [
    "#построим диаграмму\n",
    "ax = df.boxplot(column = 'sales', by='platform', figsize=(16,6))\n",
    "plt.suptitle(\"\")\n",
    "ax.set_title(\"Продажи по платформам\", fontsize=12)\n",
    "ax.set_ylabel(\"Сумма продаж\", fontsize=11)\n",
    "ax.set_xlabel(\"Платформа\", fontsize=11)\n",
    "ax.set_ylim([0, 1.75])\n",
    "plt.show()"
   ]
  },
  {
   "cell_type": "markdown",
   "metadata": {
    "id": "PMPwgJW8J4iU"
   },
   "source": [
    "Наибольшие продажи по медиане наблюдаются у `XOne`,`PS4`,`X360` и `Wii`, а также у `3DS` и `PS3`\n",
    "<br>Практически у всех платформ присутствуют выбросы, что говорит о наличии аномально высоких и низких продажах."
   ]
  },
  {
   "cell_type": "markdown",
   "metadata": {
    "id": "BT7eCqY-Kqy3"
   },
   "source": [
    "### Влияние на продажи отзывов пользователей и критиков\n",
    "Для выполнения данного исследования, построим диаграмму рассеяния и посчитаем корреляцию между отзывами и продажами.\n",
    "<br>Анализ будем выполнять по наиболее популярной платформе **`PS4`**"
   ]
  },
  {
   "cell_type": "markdown",
   "metadata": {
    "id": "kV-Xok4rLBo8"
   },
   "source": [
    "#### Диаграммы рассеяния - оценки критиков"
   ]
  },
  {
   "cell_type": "code",
   "execution_count": 19,
   "metadata": {
    "colab": {
     "base_uri": "https://localhost:8080/",
     "height": 350
    },
    "id": "SmtOOA9RLv8t",
    "outputId": "6751250d-3fb0-4091-9276-27332ec32c7a"
   },
   "outputs": [
    {
     "data": {
      "image/png": "[encoded data removed]",
      "text/plain": [
       "<Figure size 1152x360 with 1 Axes>"
      ]
     },
     "metadata": {
      "needs_background": "light"
     },
     "output_type": "display_data"
    }
   ],
   "source": [
    "#построение диаграммы\n",
    "ax = df[df['platform']=='PS4'].plot(x='critic_score', y='sales', kind='scatter', figsize=(16, 5), grid=True)\n",
    "ax.set_title(\"Влияние отзывов критиков на продажи\", fontsize=12)\n",
    "ax.set_ylabel(\"Сумма продаж\", fontsize=11)\n",
    "ax.set_xlabel(\"Оценка\", fontsize=11)\n",
    "plt.show()"
   ]
  },
  {
   "cell_type": "markdown",
   "metadata": {
    "id": "3mbWjDLWPM1s"
   },
   "source": [
    "Как видим из графика, наличие высоких оценок от критиков оказывает влияние на продажи игр"
   ]
  },
  {
   "cell_type": "code",
   "execution_count": 20,
   "metadata": {
    "colab": {
     "base_uri": "https://localhost:8080/",
     "height": 350
    },
    "id": "8AveBBaSOMTA",
    "outputId": "2223f9dd-e86b-48be-e2c0-1a3a577f8879"
   },
   "outputs": [
    {
     "data": {
      "image/png": "[encoded data removed]",
      "text/plain": [
       "<Figure size 1152x360 with 1 Axes>"
      ]
     },
     "metadata": {
      "needs_background": "light"
     },
     "output_type": "display_data"
    }
   ],
   "source": [
    "#построение диаграммы\n",
    "ax = df[df['platform']=='PS4'].plot(x='user_score', y='sales', kind='scatter', figsize=(16, 5), grid=True)\n",
    "ax.set_title(\"Влияние отзывов пользователей на продажи\", fontsize=12)\n",
    "ax.set_ylabel(\"Сумма продаж\", fontsize=11)\n",
    "ax.set_xlabel(\"Оценка\", fontsize=11)\n",
    "plt.show()"
   ]
  },
  {
   "cell_type": "markdown",
   "metadata": {
    "id": "6UmoXZUyPZsq"
   },
   "source": [
    "В отличие от критиков, на данной диаграмме мы видим, что отзывы пользователей не оказывают весомого влияния на продажи игр"
   ]
  },
  {
   "cell_type": "markdown",
   "metadata": {
    "id": "nbvDNZMVP486"
   },
   "source": [
    "#### Корреляция между отзывами и продажами\n",
    "Построим функцию, которая будет рассчитывать коэффициент корреляции между заданными нами показателями"
   ]
  },
  {
   "cell_type": "code",
   "execution_count": 21,
   "metadata": {
    "id": "S2FkhKuGT4O4"
   },
   "outputs": [],
   "source": [
    "#функция расчета корреляции\n",
    "def check_corr(pltfrm,var):\n",
    "  x = df[df['platform']==pltfrm][var].corr(df[df['platform']==pltfrm]['sales'])\n",
    "  print('Корреляция между продажами и показателем \"' + var +'\" составила - {:.2}'.format(x))"
   ]
  },
  {
   "cell_type": "code",
   "execution_count": 22,
   "metadata": {
    "colab": {
     "base_uri": "https://localhost:8080/"
    },
    "id": "2XZCMmAhU_gl",
    "outputId": "4df387c8-ae7f-47cc-cb1d-70fc7c197924"
   },
   "outputs": [
    {
     "name": "stdout",
     "output_type": "stream",
     "text": [
      "Корреляция между продажами и показателем \"critic_score\" составила - 0.4\n",
      "Корреляция между продажами и показателем \"user_score\" составила - -0.04\n"
     ]
    }
   ],
   "source": [
    "check_corr('PS4','critic_score')\n",
    "check_corr('PS4','user_score')"
   ]
  },
  {
   "cell_type": "markdown",
   "metadata": {
    "id": "cllj0AKNQpXk"
   },
   "source": [
    "На основании рассчитаных показателей, мы лишь подтверждаем наши выводы из диаграмм рассеивания, что оценка критиков иммет более высокий уровень корреляции и по отзывам пользователей наоборот наблюдается крайне слабая корреляция."
   ]
  },
  {
   "cell_type": "markdown",
   "metadata": {
    "id": "CYlFo8Z5lqQ-"
   },
   "source": [
    "#### Соотнесем выводы с продажами игр на других платформах"
   ]
  },
  {
   "cell_type": "code",
   "execution_count": 23,
   "metadata": {
    "colab": {
     "base_uri": "https://localhost:8080/"
    },
    "id": "KgD8Ywx-iW1f",
    "outputId": "654861f4-9ec8-4900-e3ad-e0f4408563a5"
   },
   "outputs": [
    {
     "name": "stdout",
     "output_type": "stream",
     "text": [
      "XOne\n",
      "Корреляция между продажами и показателем \"critic_score\" составила - 0.43\n",
      "Корреляция между продажами и показателем \"user_score\" составила - -0.07\n",
      "3DS\n",
      "Корреляция между продажами и показателем \"critic_score\" составила - 0.31\n",
      "Корреляция между продажами и показателем \"user_score\" составила - 0.22\n",
      "PS3\n",
      "Корреляция между продажами и показателем \"critic_score\" составила - 0.45\n",
      "Корреляция между продажами и показателем \"user_score\" составила - -0.17\n",
      "X360\n",
      "Корреляция между продажами и показателем \"critic_score\" составила - 0.53\n",
      "Корреляция между продажами и показателем \"user_score\" составила - -0.14\n",
      "WiiU\n",
      "Корреляция между продажами и показателем \"critic_score\" составила - 0.37\n",
      "Корреляция между продажами и показателем \"user_score\" составила - 0.41\n"
     ]
    }
   ],
   "source": [
    "#перебираем популярные платформы, кроме PS3 т.к. мы ее рассматривали выше\n",
    "for col in df[df['platform']!='PS4'].groupby('platform')['sales'].sum().sort_values(ascending=False).head(5).index:\n",
    "  print(col)\n",
    "  check_corr(col,'critic_score')\n",
    "  check_corr(col,'user_score')"
   ]
  },
  {
   "cell_type": "markdown",
   "metadata": {
    "id": "3y58iHZJl1CX"
   },
   "source": [
    "Как видно из рассчитанных показателей, оценки критиков всегда имели большее влияние на продажи игр, нежели оценки пользователей, кроме платформы `WiiU`, где корреляция по оценкам пользователей немного выше."
   ]
  },
  {
   "cell_type": "markdown",
   "metadata": {
    "id": "EyH-r5GbmOiE"
   },
   "source": [
    "### Общее распределение игр по жанрам\n"
   ]
  },
  {
   "cell_type": "code",
   "execution_count": 24,
   "metadata": {
    "colab": {
     "base_uri": "https://localhost:8080/",
     "height": 347
    },
    "id": "EYuzGROend0D",
    "outputId": "06399681-9192-4d5c-de58-25c00bd8c18d"
   },
   "outputs": [
    {
     "data": {
      "image/png": "[encoded data removed]",
      "text/plain": [
       "<Figure size 1152x288 with 1 Axes>"
      ]
     },
     "metadata": {
      "needs_background": "light"
     },
     "output_type": "display_data"
    }
   ],
   "source": [
    "#построим диаграмму по количеству игр в разрезе жанров\n",
    "ax = df.groupby('genre')['name'].count().sort_values().plot(kind='bar', grid=True, figsize=(16, 4), title = 'Количество игр по жанрам')\n",
    "ax.set_ylabel(\"Количество\", fontsize=11)\n",
    "ax.set_xlabel(\"Жанр игры\", fontsize=11)\n",
    "plt.show()"
   ]
  },
  {
   "cell_type": "markdown",
   "metadata": {
    "id": "_96yMoe9pgcr"
   },
   "source": [
    "Как видно из диаграммы, наиболее часто выпускаемыми играми являются с жанрами: `Action`,`Role-Playing`,`Adventure`. Наименьшее количество игр на рынке с жанрами: `Puzzle` и `Strategy`, что вполне звучит реалистично. "
   ]
  },
  {
   "cell_type": "code",
   "execution_count": 25,
   "metadata": {
    "colab": {
     "base_uri": "https://localhost:8080/",
     "height": 347
    },
    "id": "VwDhwPrppTiZ",
    "outputId": "9d08ee47-72aa-4d73-870c-b49eba23023e"
   },
   "outputs": [
    {
     "data": {
      "image/png": "[encoded data removed]",
      "text/plain": [
       "<Figure size 1152x288 with 1 Axes>"
      ]
     },
     "metadata": {
      "needs_background": "light"
     },
     "output_type": "display_data"
    }
   ],
   "source": [
    "#построим диаграмму по продажам в разрезе жанров и рассмотрим по медиане, чтобы исключить влияние хитов и большого объема игр в одном жанре\n",
    "ax = df.groupby('genre')['sales'].median().sort_values().plot(kind='bar', grid=True, figsize=(16, 4), title = 'Продажи по жанрам')\n",
    "ax.set_ylabel(\"Сумма продаж\", fontsize=11)\n",
    "ax.set_xlabel(\"Жанр игры\", fontsize=11)\n",
    "plt.show()"
   ]
  },
  {
   "cell_type": "markdown",
   "metadata": {
    "id": "4cRehMKcqJod"
   },
   "source": [
    "При просмотре медианных продаж, мы видим другую картину нежели чем в количественном выражении. Если по количеству наиболее популярным жанром был `Action`, то в продажах первое место с большим отрывом ото всех занимает `Shooter`, и затем идут `Sports`,`Platform` и остальные."
   ]
  },
  {
   "cell_type": "markdown",
   "metadata": {
    "id": "Lall406ZrQIa"
   },
   "source": [
    "### Вывод\n",
    "На основе проведенного исследования мы выяснили:\n",
    "1. По количеству выпущенных игр лидирует жанр `Action`, но при этом жанр `Shooter` лидирует в продажах\n",
    "2. Наиболее популярными платформами, которые вероятнее всего будут актуальными в 2017 году: PS4, XOne и 3DS\n",
    "3. Оценки критиков оказывают большее влияние на продажи игр, чем оценки пользователей."
   ]
  },
  {
   "cell_type": "markdown",
   "metadata": {
    "id": "Gpu29yEPsgxE"
   },
   "source": [
    "## Портрет пользователя каждого региона\n",
    "На данном этапе мы рассмотрим по каждому региону `NA`,`EU`,`JP` продажи по платформам, определим самые популярные жарны и оценим влияние рейтинга `ESRB` на продажи данных регионов. Так как мы ранее отметили, что актуальный период у нас является 3 последних лет, то для большей реалистичности будем проводить анализ платформ с 2014 года."
   ]
  },
  {
   "cell_type": "markdown",
   "metadata": {
    "id": "0kHrcyFxtGIq"
   },
   "source": [
    "### ТОП 5 популярных платформ по регионам"
   ]
  },
  {
   "cell_type": "code",
   "execution_count": 61,
   "metadata": {
    "scrolled": false
   },
   "outputs": [
    {
     "data": {
      "image/png": "[encoded data removed]",
      "text/plain": [
       "<Figure size 1152x432 with 1 Axes>"
      ]
     },
     "metadata": {
      "needs_background": "light"
     },
     "output_type": "display_data"
    }
   ],
   "source": [
    "#сформируем таблицу\n",
    "df_act = df.melt(id_vars=['platform'], value_vars=['na_sales','eu_sales','jp_sales'],var_name='country', value_name='sales').groupby(['platform','country']).sum().reset_index()\n",
    "df_act = df_act.pivot_table(index='country', columns='platform', values='sales')\n",
    "df_act.columns = df_act.columns.astype(str)\n",
    "df_act = df_act.reset_index()\n",
    "#строим график\n",
    "ax = df_act.plot(kind='bar', x='country',y=df.platform.unique(), grid=True, figsize=(16, 6), title = 'Продажи платформ по регионам')\n",
    "ax.set_ylabel(\"Сумма продаж\", fontsize=11)\n",
    "ax.set_xlabel(\"Страны в разрезе платформ\", fontsize=11)\n",
    "ax.legend(loc=1, prop={'size': 14})\n",
    "ax.set_xticklabels(['ЕВРОПА','ЯПОНИЯ','США'])\n",
    "plt.show()"
   ]
  },
  {
   "cell_type": "markdown",
   "metadata": {
    "id": "1jMuW8rtZSao"
   },
   "source": [
    "На основе данной диаграммы, можно сделать следующие выводы:\n",
    "1. в Северной Америке популярными ТОП5 по убыванию являются платформы: `PS4`,`XOne`,`X360`,`3DS` и `PS3`.\n",
    "2. в Европе ТОП5 популярными являются `PS4`,`XOne`,`PS3`,`PC` и `3DS`.\n",
    "3. в Японии картина противоположная Европе и Америке, самой популярной платформой является `3DS`, далее в ТОП5 идут `PS4`,`PS3`,`PSV` и `Wii`. Также стоит обратить внимание, что на данном рынке практически отсутствует XBox."
   ]
  },
  {
   "cell_type": "markdown",
   "metadata": {
    "id": "G2C0vJdLdaEV"
   },
   "source": [
    "### ТОП 5 популярных жанров по регионам"
   ]
  },
  {
   "cell_type": "code",
   "execution_count": 29,
   "metadata": {},
   "outputs": [
    {
     "data": {
      "image/png": "[encoded data removed]",
      "text/plain": [
       "<Figure size 1152x432 with 1 Axes>"
      ]
     },
     "metadata": {
      "needs_background": "light"
     },
     "output_type": "display_data"
    }
   ],
   "source": [
    "#сформируем таблицу по медиане, чтобы исключить влияние хитов и большого объема игр в одном жанре\n",
    "df_act = df.melt(id_vars=['genre'], value_vars=['na_sales','eu_sales','jp_sales'],var_name='country', value_name='sales').groupby(['genre','country']).median().reset_index()\n",
    "df_act = df_act.pivot_table(index='country', columns='genre', values='sales')\n",
    "df_act.columns = df_act.columns.astype(str)\n",
    "df_act = df_act.reset_index()\n",
    "#строим график\n",
    "ax = df_act.plot(kind='bar', x='country',y=df.genre.unique(), grid=True, figsize=(16, 6), title = 'Продажи жанров по регионам')\n",
    "ax.set_ylabel(\"Сумма продаж\", fontsize=11)\n",
    "ax.set_xlabel(\"Страны в разрезе жанров\", fontsize=11)\n",
    "ax.legend(loc=0, prop={'size': 12})\n",
    "ax.set_xticklabels(['ЕВРОПА','ЯПОНИЯ','США'])\n",
    "plt.show()"
   ]
  },
  {
   "cell_type": "markdown",
   "metadata": {
    "id": "3SB0rUrmd8z1"
   },
   "source": [
    "На основе данной диаграммы, можно сделать следующие выводы:\n",
    "1. в Северной Америке наиболее популярными ТОП5 жанрами являются: `Shooter`, `Platfrom`,`Sports`,`Fighting` и `Racing`\n",
    "2. в Европе наблюдается похожая ситуация как в США в предпочтениях пользователей по жанрам `Shooter`, `Platfrom`,`Sports`,`Fighting`, кроме последнего, здесь вместо `Racing` более популярна `Simulation`\n",
    "3. в Японии другие предпочтения в жанрах, в ТОП5 входит: `Role-Playing`,`Fighting`,`Puzzle`,`Misc` и `Adventure`.\n",
    "\n",
    "Таким образом, вкусы пользователей Европы и Америки схожи, что нельзя сказать о Японцах, которые предпочитают другие направления в играх."
   ]
  },
  {
   "cell_type": "markdown",
   "metadata": {
    "id": "tmhlT8sSjv4V"
   },
   "source": [
    "### Влияние рейтинга ESRB на продажи \n",
    "\n",
    "В системе ESRB существует следующее разделение оценок:\n",
    "1. «M» («Mature») — «Для взрослых 18+»\n",
    "2. «E» («Everyone») — «Для всех 6+»\n",
    "3. «E10+» («Everyone 10 and older») — «Для всех 10+»\n",
    "4. «T» («Teen») — «Подростки 13+»\n",
    "5. «EC» («Early childhood») — «Для детей 3+»\n",
    "6. «RP» («Rating Pending») — «Рейтинг ожидается».\n",
    "\n",
    "Для удобства анализа данных, создадим новый столбец, где укажем описание рейтинга и эти данные отразим на диаграмме."
   ]
  },
  {
   "cell_type": "code",
   "execution_count": 30,
   "metadata": {
    "id": "bSPY-iKHnfw3"
   },
   "outputs": [],
   "source": [
    "#функция определения возрастной группы\n",
    "def rat_group(rating):\n",
    "    if rating == 'M': return 'Взрослые 18+'\n",
    "    if rating == 'E': return 'Все 6+'\n",
    "    if rating == 'E10+': return 'Все 10+'\n",
    "    if rating == 'EC': return 'Дети 3+'\n",
    "    if rating == 'T': return 'Подростки 13+'\n",
    "    return 'Не указана'\n",
    "#создаем новый столбец\n",
    "df['rat_group'] = df['rating'].apply(rat_group)"
   ]
  },
  {
   "cell_type": "code",
   "execution_count": 31,
   "metadata": {},
   "outputs": [
    {
     "data": {
      "image/png": "[encoded data removed]",
      "text/plain": [
       "<Figure size 1152x432 with 1 Axes>"
      ]
     },
     "metadata": {
      "needs_background": "light"
     },
     "output_type": "display_data"
    }
   ],
   "source": [
    "#сформируем таблицу, учитываем только группы ESRB т.к. оцениваем именно их влияние\n",
    "df['rat_group'] = df['rat_group'].fillna('Не указана') #заполняем пустые\n",
    "df_act = df.melt(id_vars=['rat_group'], value_vars=['na_sales','eu_sales','jp_sales'],var_name='country', value_name='sales').groupby(['rat_group','country']).sum().reset_index()\n",
    "df_act = df_act.pivot_table(index='country', columns='rat_group', values='sales')\n",
    "df_act.columns = df_act.columns.astype(str)\n",
    "df_act = df_act.reset_index()\n",
    "#строим график\n",
    "ax = df_act.plot(kind='bar', x='country',y=df.rat_group.unique(), grid=True, figsize=(16, 6), title = 'Продажи по возрастным категориям')\n",
    "ax.set_ylabel(\"Сумма продаж\", fontsize=11)\n",
    "ax.set_xlabel(\"Страны в разрезе возрастных категорий\", fontsize=11)\n",
    "ax.legend(loc=0, prop={'size': 12})\n",
    "ax.set_xticklabels(['ЕВРОПА','ЯПОНИЯ','США'])\n",
    "plt.show()"
   ]
  },
  {
   "cell_type": "markdown",
   "metadata": {
    "id": "8--xnn-unRbG"
   },
   "source": [
    "Как видим из графика:\n",
    "1. в Америке по оценке ESRB наиболее продаваемые игры с возрастным цензом `18+`, далее идут игры для детей `6+` и `10+`, игры без оценок занимают такое же место как и `для всех 6+`\n",
    "2. в Европе по оценке ESRB аналогичная ситуация как и в Америке, игры без оценок находятся на втором месте\n",
    "3. в Японии по оценке ESRB больше игр продаются с категорией `6+`, затем идут игры для подростков `13+` и только потом игры для взрослых `18+`, также обращается внимание на игры без оценок, они занимают большую часть.\n",
    "\n",
    "Таким образом, поведение в предпочтениях пользователей Европы и Америки похожи, что нельзя сказать о Японии, где наблюдается противоположная ситуация."
   ]
  },
  {
   "cell_type": "markdown",
   "metadata": {
    "id": "wmpo7VE7q0qO"
   },
   "source": [
    "### Вывод\n"
   ]
  },
  {
   "cell_type": "markdown",
   "metadata": {
    "id": "2jRBKvvQ29Lc"
   },
   "source": [
    "На основании изучения портрета пользователей в регионах, можно сделать следующие выводы:\n",
    "1. по платформам Америка и Европа схожи, Япония отличается от большинства и предпочитает платформу `3DS`, но также и использует `PS4` и `PS3`.\n",
    "2. по жанрам похожая картина, Америка и Европа предпочитают жанры `Shooter`, `Platfrom` и `Sports`, а в Японии наибольшей популярностью пользуется жанр `Role-Playing` и `Fighting`\n",
    "3. исходя из возрастных ограничений по системе `ESRB` в Европе и Америке большинство предпочитает игры `18+`, что вполне логично т.к. в предпочитаемыми ими жанрах часто показывается кровь и на это накладываются ограничения. В Японии немного другая картина, предпочтения отдаются играм `13+` и `для всех 6+`, при этом большая часть игр не имеют возрастных категорий, возможно по причине что в Японии действует другое рейтинговое агенство."
   ]
  },
  {
   "cell_type": "markdown",
   "metadata": {
    "id": "XV5wuof_5PJV"
   },
   "source": [
    "## Проверка гипотез\n",
    "Для удобства проверки гипотез создадим функцию, которая будет выдавать результат по заранее представленным аналитикам. Используем метод для проверки гипотезы о равенстве среднего двух генеральных совокупностей по взятым из них выборкам `scipy.stats.ttest_ind (array1, array2,equal_var)`"
   ]
  },
  {
   "cell_type": "code",
   "execution_count": 32,
   "metadata": {
    "id": "tmYH_QTf5i5u"
   },
   "outputs": [],
   "source": [
    "def hyp_test(col_name,condition_1,condition_2):\n",
    "    #создадим 2 массива с необходимым нам столбцов и условиями\n",
    "    rat_1 = df[df[col_name]==condition_1]['user_score'].dropna()\n",
    "    rat_2 = df[df[col_name]==condition_2]['user_score'].dropna()\n",
    "    # критический уровень статистической значимости\n",
    "    alpha = .05\n",
    "    # результаты расчета\n",
    "    results = st.ttest_ind(rat_1, rat_2)\n",
    "    #отразим p-значение\n",
    "    print('p-значение: ', results.pvalue)\n",
    "    #проверка\n",
    "    if results.pvalue < alpha:\n",
    "        print(\"Отвергаем нулевую гипотезу\")\n",
    "    else:\n",
    "        print(\"Не получилось отвергнуть нулевую гипотезу\")  "
   ]
  },
  {
   "cell_type": "markdown",
   "metadata": {
    "id": "GlgRRe-c5WbQ"
   },
   "source": [
    "### Гипотеза 1\n",
    "Проверим, различаются ли средние пользовательские рейтинги платформ `Xbox One` и `PC`, для этого сформируем нулевую и альтернативную гипотезы:\n",
    "* **Н0** - средние пользовательские рейтинги платформ `Xbox One` и `PC` равны\n",
    "* **Н1** - средние пользовательские рейтинги платформ `Xbox One` и `PC` не равны"
   ]
  },
  {
   "cell_type": "code",
   "execution_count": 33,
   "metadata": {
    "colab": {
     "base_uri": "https://localhost:8080/"
    },
    "id": "cbjXby5N7X-5",
    "outputId": "c0af4585-6461-42cc-bab8-5b357dc04bbc"
   },
   "outputs": [
    {
     "name": "stdout",
     "output_type": "stream",
     "text": [
      "p-значение:  0.10450648637161196\n",
      "Не получилось отвергнуть нулевую гипотезу\n"
     ]
    }
   ],
   "source": [
    "hyp_test ('platform','XOne','PC')"
   ]
  },
  {
   "cell_type": "markdown",
   "metadata": {
    "id": "RHZd2y1f79XE"
   },
   "source": [
    "По результатам проведенной проверки гипотезы, мы можем предположить, что средние пользовательские оценки по данным платформам очень схожи."
   ]
  },
  {
   "cell_type": "markdown",
   "metadata": {
    "id": "Ytcs03Z280FX"
   },
   "source": [
    "### Гипотеза 2\n",
    "Проверим, различаются ли средние пользовательские рейтинги жанров `Action` и `Sports`, для этого сформируем нулевую и альтернативную гипотезы:\n",
    "* **Н0** - средние пользовательские рейтинги жанров `Action` и `Sports` равны\n",
    "* **Н1** - средние пользовательские рейтинги жанров `Action` и `Sports` не равны"
   ]
  },
  {
   "cell_type": "code",
   "execution_count": 34,
   "metadata": {
    "colab": {
     "base_uri": "https://localhost:8080/"
    },
    "id": "XpsFdXc280FX",
    "outputId": "0be3300e-12a5-49d3-8df2-d94155a33ed9"
   },
   "outputs": [
    {
     "name": "stdout",
     "output_type": "stream",
     "text": [
      "p-значение:  2.871148452488903e-19\n",
      "Отвергаем нулевую гипотезу\n"
     ]
    }
   ],
   "source": [
    "hyp_test ('genre','Action','Sports')"
   ]
  },
  {
   "cell_type": "markdown",
   "metadata": {
    "id": "2Jb2NqvY9S64"
   },
   "source": [
    "Таким образом, по результату проверки гипотезы, мы действительно можем предположить, что жанры `Action` и `Sports` имеют разные пользовательские рейтинги."
   ]
  },
  {
   "cell_type": "markdown",
   "metadata": {
    "id": "JpPB1Fuq80FX"
   },
   "source": [
    "## Общий вывод"
   ]
  },
  {
   "cell_type": "markdown",
   "metadata": {
    "id": "pNMtppSj9rTQ"
   },
   "source": [
    "Мы проанализировали исторические данные по продажам игр, где смогли ознакомиться с существующим в мире перечне игр и используемых для этого платформ, и также изучили поведение пользователей и их предпочтения, и готовы сделать выводы согласно задаче нашего проекта и выбрать потенциально популярный продукт, что позволит спланировать корректно рекламную компанию.\n",
    "<br>Для этого мы выполнили ряд процедур:\n",
    "1. Ознакомились с общей информацией\n",
    "2. Подготовили данные к анализу, а именно: а) изменили наименования столбцов к нижнему регистру; б) обработали пропуски, где это было необходимо; в) изменили и оптимизировали типы данных, что позволило нам сэкономить память занимаемую таблицами; г) рассчитали суммарные продажи.\n",
    "\n",
    "По итогам обработки мы приступили к исследованиям, где сделали следующие выводы и наблюдения:\n",
    "1. количество выпущенных игр заметно стало расти с 1994 года и с 2002 года показало резкий рост, что указывает на развитие технологий и их доступность, ведь если они доступнее, то и пользователей этих игр также становится больше\n",
    "2. за всю историю наблюдений наиболее популярными платформами оказались PS2 и X360\n",
    "3. активная жизнь популярных платформ в среднем составила 6 лет, но для анализа мы взяли период 3 последних года, чтобы корректно спрогнозировать потенциально популярный продукт на 2017 год\n",
    "4. наиболее популярными и перспективными платформами на 2016 год оказались `3DS`, `PS4` и `XOne`\n",
    "5. оценки критиков оказывают больше влияния на продажи игр, нежели чем оценки пользователей\n",
    "6. наиболее популярными жанрами являются `Shooter`, `Platfrom`,`Sports`, `Role-Playing` и `Fighting`, что позволяет нам понять в каком направлении делать ставки\n",
    "7. при проверке гипотез, мы выявили, что пользовательские рейтинги между платформами `PC` и `Xbox One` не отличаются существенно. Но при сравнении пользовательских рейтингов жанров `Action` и `Sports` с помощью проверки гипотезы выявили, что они отличаются.\n",
    "\n",
    "Таким образом, мы выяснили, что на 2017 год стоит делать ставки на платформы `3DS`, `PS4` и `XOne` т.к. они перспективны, особенно последние 2 т.к. они развиваются и пришли на замену старых поколений. Среди жанров стоит обращать внимание на `Shooter`, `Platfrom`,`Sports`, `Role-Playing` и `Fighting` т.к. имеют высокий спрос.\n",
    "<br>Но не стоит также забывать и про территориальную принадлежность пользователей, а именно портрет пользователя т.к. у разных континентов могут быть разные предпочтения. Так например в Японии больший акцент стоит делать на платформу Nintendo и жанр `Role-Playing` и `Fighting`, а в Европе и Америке в сторону `XBox` и `Playstation` с жарнами `Shooter`, `Platfrom` и `Sports`."
   ]
  }
 ],
 "metadata": {
  "ExecuteTimeLog": [
   {
    "duration": 604,
    "start_time": "2022-02-15T07:28:02.780Z"
   },
   {
    "duration": 590,
    "start_time": "2022-02-15T07:28:05.770Z"
   },
   {
    "duration": 1426,
    "start_time": "2022-02-15T07:28:17.191Z"
   },
   {
    "duration": 257,
    "start_time": "2022-02-15T07:28:18.620Z"
   },
   {
    "duration": 93,
    "start_time": "2022-02-15T07:28:18.879Z"
   },
   {
    "duration": 3,
    "start_time": "2022-02-15T07:28:18.975Z"
   },
   {
    "duration": 13,
    "start_time": "2022-02-15T07:28:18.981Z"
   },
   {
    "duration": 14,
    "start_time": "2022-02-15T07:28:18.996Z"
   },
   {
    "duration": 21,
    "start_time": "2022-02-15T07:28:19.013Z"
   },
   {
    "duration": 145,
    "start_time": "2022-02-15T07:28:19.036Z"
   },
   {
    "duration": 8,
    "start_time": "2022-02-15T07:28:19.185Z"
   },
   {
    "duration": 638,
    "start_time": "2022-02-15T07:28:19.196Z"
   },
   {
    "duration": 574,
    "start_time": "2022-02-15T07:28:19.837Z"
   },
   {
    "duration": 1859,
    "start_time": "2022-02-15T07:28:20.414Z"
   },
   {
    "duration": 8,
    "start_time": "2022-02-15T07:28:22.276Z"
   },
   {
    "duration": 818,
    "start_time": "2022-02-15T07:28:22.286Z"
   },
   {
    "duration": 631,
    "start_time": "2022-02-15T07:28:23.106Z"
   },
   {
    "duration": 459,
    "start_time": "2022-02-15T07:28:23.740Z"
   },
   {
    "duration": 462,
    "start_time": "2022-02-15T07:28:24.201Z"
   },
   {
    "duration": 5,
    "start_time": "2022-02-15T07:28:24.665Z"
   },
   {
    "duration": 21,
    "start_time": "2022-02-15T07:28:24.672Z"
   },
   {
    "duration": 74,
    "start_time": "2022-02-15T07:28:24.695Z"
   },
   {
    "duration": 399,
    "start_time": "2022-02-15T07:28:24.772Z"
   },
   {
    "duration": 411,
    "start_time": "2022-02-15T07:28:25.173Z"
   },
   {
    "duration": 553,
    "start_time": "2022-02-15T07:28:25.587Z"
   },
   {
    "duration": 583,
    "start_time": "2022-02-15T07:28:26.143Z"
   },
   {
    "duration": 7,
    "start_time": "2022-02-15T07:28:26.728Z"
   },
   {
    "duration": 495,
    "start_time": "2022-02-15T07:28:26.737Z"
   },
   {
    "duration": 8,
    "start_time": "2022-02-15T07:28:27.238Z"
   },
   {
    "duration": 20,
    "start_time": "2022-02-15T07:28:27.249Z"
   },
   {
    "duration": 17,
    "start_time": "2022-02-15T07:28:27.272Z"
   },
   {
    "duration": 219,
    "start_time": "2022-02-15T07:28:56.009Z"
   },
   {
    "duration": 4,
    "start_time": "2022-02-15T07:31:14.158Z"
   },
   {
    "duration": 245,
    "start_time": "2022-02-15T07:31:14.165Z"
   },
   {
    "duration": 161,
    "start_time": "2022-02-15T07:31:14.413Z"
   },
   {
    "duration": 4,
    "start_time": "2022-02-15T07:31:14.577Z"
   },
   {
    "duration": 12,
    "start_time": "2022-02-15T07:31:14.583Z"
   },
   {
    "duration": 9,
    "start_time": "2022-02-15T07:31:14.597Z"
   },
   {
    "duration": 6,
    "start_time": "2022-02-15T07:31:14.633Z"
   },
   {
    "duration": 156,
    "start_time": "2022-02-15T07:31:14.642Z"
   },
   {
    "duration": 8,
    "start_time": "2022-02-15T07:31:14.801Z"
   },
   {
    "duration": 628,
    "start_time": "2022-02-15T07:31:14.812Z"
   },
   {
    "duration": 564,
    "start_time": "2022-02-15T07:31:15.442Z"
   },
   {
    "duration": 1864,
    "start_time": "2022-02-15T07:31:16.009Z"
   },
   {
    "duration": 7,
    "start_time": "2022-02-15T07:31:17.875Z"
   },
   {
    "duration": 732,
    "start_time": "2022-02-15T07:31:17.884Z"
   },
   {
    "duration": 807,
    "start_time": "2022-02-15T07:31:18.618Z"
   },
   {
    "duration": 442,
    "start_time": "2022-02-15T07:31:19.431Z"
   },
   {
    "duration": 437,
    "start_time": "2022-02-15T07:31:19.876Z"
   },
   {
    "duration": 5,
    "start_time": "2022-02-15T07:31:20.315Z"
   },
   {
    "duration": 14,
    "start_time": "2022-02-15T07:31:20.332Z"
   },
   {
    "duration": 53,
    "start_time": "2022-02-15T07:31:20.348Z"
   },
   {
    "duration": 416,
    "start_time": "2022-02-15T07:31:20.403Z"
   },
   {
    "duration": 414,
    "start_time": "2022-02-15T07:31:20.822Z"
   },
   {
    "duration": 567,
    "start_time": "2022-02-15T07:31:21.239Z"
   },
   {
    "duration": 584,
    "start_time": "2022-02-15T07:31:21.809Z"
   },
   {
    "duration": 7,
    "start_time": "2022-02-15T07:31:22.395Z"
   },
   {
    "duration": 457,
    "start_time": "2022-02-15T07:31:22.404Z"
   },
   {
    "duration": 5,
    "start_time": "2022-02-15T07:31:22.865Z"
   },
   {
    "duration": 19,
    "start_time": "2022-02-15T07:31:22.873Z"
   },
   {
    "duration": 23,
    "start_time": "2022-02-15T07:31:22.894Z"
   },
   {
    "duration": 412,
    "start_time": "2022-02-15T07:31:30.700Z"
   },
   {
    "duration": 430,
    "start_time": "2022-02-15T07:31:34.697Z"
   },
   {
    "duration": 647,
    "start_time": "2022-02-15T07:31:40.721Z"
   },
   {
    "duration": 509,
    "start_time": "2022-02-15T07:31:46.361Z"
   },
   {
    "duration": 402,
    "start_time": "2022-02-15T07:31:51.155Z"
   },
   {
    "duration": 388,
    "start_time": "2022-02-15T07:31:54.801Z"
   },
   {
    "duration": 469,
    "start_time": "2022-02-15T07:32:03.338Z"
   },
   {
    "duration": 524,
    "start_time": "2022-02-15T07:32:07.808Z"
   },
   {
    "duration": 1151,
    "start_time": "2022-02-15T07:32:16.425Z"
   },
   {
    "duration": 5,
    "start_time": "2022-02-15T07:32:45.687Z"
   },
   {
    "duration": 234,
    "start_time": "2022-02-15T07:32:45.694Z"
   },
   {
    "duration": 81,
    "start_time": "2022-02-15T07:32:45.931Z"
   },
   {
    "duration": 3,
    "start_time": "2022-02-15T07:32:46.015Z"
   },
   {
    "duration": 10,
    "start_time": "2022-02-15T07:32:46.033Z"
   },
   {
    "duration": 9,
    "start_time": "2022-02-15T07:32:46.045Z"
   },
   {
    "duration": 5,
    "start_time": "2022-02-15T07:32:46.056Z"
   },
   {
    "duration": 156,
    "start_time": "2022-02-15T07:32:46.063Z"
   },
   {
    "duration": 7,
    "start_time": "2022-02-15T07:32:46.235Z"
   },
   {
    "duration": 642,
    "start_time": "2022-02-15T07:32:46.245Z"
   },
   {
    "duration": 663,
    "start_time": "2022-02-15T07:32:46.889Z"
   },
   {
    "duration": 1850,
    "start_time": "2022-02-15T07:32:47.554Z"
   },
   {
    "duration": 7,
    "start_time": "2022-02-15T07:32:49.406Z"
   },
   {
    "duration": 817,
    "start_time": "2022-02-15T07:32:49.415Z"
   },
   {
    "duration": 660,
    "start_time": "2022-02-15T07:32:50.234Z"
   },
   {
    "duration": 515,
    "start_time": "2022-02-15T07:32:50.897Z"
   },
   {
    "duration": 581,
    "start_time": "2022-02-15T07:32:51.415Z"
   },
   {
    "duration": 4,
    "start_time": "2022-02-15T07:32:51.998Z"
   },
   {
    "duration": 32,
    "start_time": "2022-02-15T07:32:52.005Z"
   },
   {
    "duration": 54,
    "start_time": "2022-02-15T07:32:52.040Z"
   },
   {
    "duration": 416,
    "start_time": "2022-02-15T07:32:52.097Z"
   },
   {
    "duration": 407,
    "start_time": "2022-02-15T07:32:52.515Z"
   },
   {
    "duration": 533,
    "start_time": "2022-02-15T07:32:52.924Z"
   },
   {
    "duration": 578,
    "start_time": "2022-02-15T07:32:53.459Z"
   },
   {
    "duration": 8,
    "start_time": "2022-02-15T07:32:54.040Z"
   },
   {
    "duration": 443,
    "start_time": "2022-02-15T07:32:54.050Z"
   },
   {
    "duration": 6,
    "start_time": "2022-02-15T07:32:54.498Z"
   },
   {
    "duration": 32,
    "start_time": "2022-02-15T07:32:54.506Z"
   },
   {
    "duration": 12,
    "start_time": "2022-02-15T07:32:54.541Z"
   },
   {
    "duration": 5,
    "start_time": "2022-02-15T07:40:06.310Z"
   },
   {
    "duration": 15,
    "start_time": "2022-02-15T07:40:06.846Z"
   },
   {
    "duration": 55,
    "start_time": "2022-02-15T07:40:08.296Z"
   },
   {
    "duration": 5,
    "start_time": "2022-02-15T07:49:09.566Z"
   },
   {
    "duration": 299,
    "start_time": "2022-02-15T07:49:09.574Z"
   },
   {
    "duration": 88,
    "start_time": "2022-02-15T07:49:09.876Z"
   },
   {
    "duration": 4,
    "start_time": "2022-02-15T07:49:09.966Z"
   },
   {
    "duration": 20,
    "start_time": "2022-02-15T07:49:09.972Z"
   },
   {
    "duration": 9,
    "start_time": "2022-02-15T07:49:09.994Z"
   },
   {
    "duration": 29,
    "start_time": "2022-02-15T07:49:10.005Z"
   },
   {
    "duration": 17,
    "start_time": "2022-02-15T07:49:10.038Z"
   },
   {
    "duration": 118,
    "start_time": "2022-02-15T07:49:10.058Z"
   },
   {
    "duration": 7,
    "start_time": "2022-02-15T07:49:10.178Z"
   },
   {
    "duration": 672,
    "start_time": "2022-02-15T07:49:10.188Z"
   },
   {
    "duration": 579,
    "start_time": "2022-02-15T07:49:10.862Z"
   },
   {
    "duration": 2077,
    "start_time": "2022-02-15T07:49:11.443Z"
   },
   {
    "duration": 12,
    "start_time": "2022-02-15T07:49:13.523Z"
   },
   {
    "duration": 727,
    "start_time": "2022-02-15T07:49:13.538Z"
   },
   {
    "duration": 668,
    "start_time": "2022-02-15T07:49:14.268Z"
   },
   {
    "duration": 606,
    "start_time": "2022-02-15T07:49:14.939Z"
   },
   {
    "duration": 476,
    "start_time": "2022-02-15T07:49:15.548Z"
   },
   {
    "duration": 8,
    "start_time": "2022-02-15T07:49:16.027Z"
   },
   {
    "duration": 17,
    "start_time": "2022-02-15T07:49:16.037Z"
   },
   {
    "duration": 77,
    "start_time": "2022-02-15T07:49:16.056Z"
   },
   {
    "duration": 409,
    "start_time": "2022-02-15T07:49:16.136Z"
   },
   {
    "duration": 600,
    "start_time": "2022-02-15T07:49:16.550Z"
   },
   {
    "duration": 547,
    "start_time": "2022-02-15T07:49:17.152Z"
   },
   {
    "duration": 607,
    "start_time": "2022-02-15T07:49:17.701Z"
   },
   {
    "duration": 7,
    "start_time": "2022-02-15T07:49:18.310Z"
   },
   {
    "duration": 455,
    "start_time": "2022-02-15T07:49:18.320Z"
   },
   {
    "duration": 6,
    "start_time": "2022-02-15T07:49:18.777Z"
   },
   {
    "duration": 15,
    "start_time": "2022-02-15T07:49:18.785Z"
   },
   {
    "duration": 37,
    "start_time": "2022-02-15T07:49:18.802Z"
   },
   {
    "duration": 1003,
    "start_time": "2022-02-22T10:40:54.702Z"
   },
   {
    "duration": 144,
    "start_time": "2022-02-22T10:40:55.706Z"
   },
   {
    "duration": 56,
    "start_time": "2022-02-22T10:40:55.852Z"
   },
   {
    "duration": 3,
    "start_time": "2022-02-22T10:40:55.910Z"
   },
   {
    "duration": 21,
    "start_time": "2022-02-22T10:40:55.914Z"
   },
   {
    "duration": 6,
    "start_time": "2022-02-22T10:40:55.937Z"
   },
   {
    "duration": 8,
    "start_time": "2022-02-22T10:40:55.944Z"
   },
   {
    "duration": 5,
    "start_time": "2022-02-22T10:40:55.954Z"
   },
   {
    "duration": 86,
    "start_time": "2022-02-22T10:40:55.961Z"
   },
   {
    "duration": 7,
    "start_time": "2022-02-22T10:40:56.049Z"
   },
   {
    "duration": 388,
    "start_time": "2022-02-22T10:40:56.057Z"
   },
   {
    "duration": 334,
    "start_time": "2022-02-22T10:40:56.447Z"
   },
   {
    "duration": 1110,
    "start_time": "2022-02-22T10:40:56.782Z"
   },
   {
    "duration": 5,
    "start_time": "2022-02-22T10:40:57.894Z"
   },
   {
    "duration": 476,
    "start_time": "2022-02-22T10:40:57.900Z"
   },
   {
    "duration": 378,
    "start_time": "2022-02-22T10:40:58.378Z"
   },
   {
    "duration": 332,
    "start_time": "2022-02-22T10:40:58.758Z"
   },
   {
    "duration": 347,
    "start_time": "2022-02-22T10:40:59.091Z"
   },
   {
    "duration": 5,
    "start_time": "2022-02-22T10:40:59.440Z"
   },
   {
    "duration": 18,
    "start_time": "2022-02-22T10:40:59.446Z"
   },
   {
    "duration": 35,
    "start_time": "2022-02-22T10:40:59.466Z"
   },
   {
    "duration": 285,
    "start_time": "2022-02-22T10:40:59.503Z"
   },
   {
    "duration": 270,
    "start_time": "2022-02-22T10:40:59.792Z"
   },
   {
    "duration": 314,
    "start_time": "2022-02-22T10:41:00.063Z"
   },
   {
    "duration": 336,
    "start_time": "2022-02-22T10:41:00.379Z"
   },
   {
    "duration": 6,
    "start_time": "2022-02-22T10:41:00.716Z"
   },
   {
    "duration": 271,
    "start_time": "2022-02-22T10:41:00.723Z"
   },
   {
    "duration": 4,
    "start_time": "2022-02-22T10:41:00.996Z"
   },
   {
    "duration": 26,
    "start_time": "2022-02-22T10:41:01.002Z"
   },
   {
    "duration": 19,
    "start_time": "2022-02-22T10:41:01.030Z"
   },
   {
    "duration": 263,
    "start_time": "2022-02-22T10:49:02.651Z"
   },
   {
    "duration": 99,
    "start_time": "2022-02-22T10:49:08.609Z"
   },
   {
    "duration": 25,
    "start_time": "2022-02-22T10:51:43.374Z"
   },
   {
    "duration": 382,
    "start_time": "2022-02-22T15:47:24.643Z"
   },
   {
    "duration": 344,
    "start_time": "2022-02-22T15:47:48.126Z"
   },
   {
    "duration": 1526,
    "start_time": "2022-02-22T15:47:51.248Z"
   },
   {
    "duration": 222,
    "start_time": "2022-02-22T15:47:52.777Z"
   },
   {
    "duration": 97,
    "start_time": "2022-02-22T15:47:53.002Z"
   },
   {
    "duration": 5,
    "start_time": "2022-02-22T15:47:53.102Z"
   },
   {
    "duration": 18,
    "start_time": "2022-02-22T15:47:53.109Z"
   },
   {
    "duration": 23,
    "start_time": "2022-02-22T15:47:53.130Z"
   },
   {
    "duration": 9,
    "start_time": "2022-02-22T15:47:53.156Z"
   },
   {
    "duration": 12,
    "start_time": "2022-02-22T15:47:53.169Z"
   },
   {
    "duration": 151,
    "start_time": "2022-02-22T15:47:53.184Z"
   },
   {
    "duration": 15,
    "start_time": "2022-02-22T15:47:53.338Z"
   },
   {
    "duration": 670,
    "start_time": "2022-02-22T15:47:53.356Z"
   },
   {
    "duration": 630,
    "start_time": "2022-02-22T15:47:54.029Z"
   },
   {
    "duration": 2318,
    "start_time": "2022-02-22T15:47:54.662Z"
   },
   {
    "duration": 10,
    "start_time": "2022-02-22T15:47:56.984Z"
   },
   {
    "duration": 644,
    "start_time": "2022-02-22T15:47:56.997Z"
   },
   {
    "duration": 73,
    "start_time": "2022-02-22T15:47:57.644Z"
   },
   {
    "duration": 1999,
    "start_time": "2022-02-22T15:47:57.721Z"
   },
   {
    "duration": 718,
    "start_time": "2022-02-22T15:47:59.724Z"
   },
   {
    "duration": 527,
    "start_time": "2022-02-22T15:48:00.448Z"
   },
   {
    "duration": 9,
    "start_time": "2022-02-22T15:48:00.978Z"
   },
   {
    "duration": 27,
    "start_time": "2022-02-22T15:48:00.989Z"
   },
   {
    "duration": 114,
    "start_time": "2022-02-22T15:48:01.019Z"
   },
   {
    "duration": 636,
    "start_time": "2022-02-22T15:48:01.153Z"
   },
   {
    "duration": 631,
    "start_time": "2022-02-22T15:48:01.793Z"
   },
   {
    "duration": 539,
    "start_time": "2022-02-22T15:48:02.426Z"
   },
   {
    "duration": 560,
    "start_time": "2022-02-22T15:48:02.968Z"
   },
   {
    "duration": 18,
    "start_time": "2022-02-22T15:48:03.530Z"
   },
   {
    "duration": 541,
    "start_time": "2022-02-22T15:48:03.551Z"
   },
   {
    "duration": 6,
    "start_time": "2022-02-22T15:48:04.095Z"
   },
   {
    "duration": 20,
    "start_time": "2022-02-22T15:48:04.103Z"
   },
   {
    "duration": 14,
    "start_time": "2022-02-22T15:48:04.149Z"
   },
   {
    "duration": 13,
    "start_time": "2022-02-22T15:48:49.920Z"
   },
   {
    "duration": 502,
    "start_time": "2022-02-22T15:48:58.568Z"
   },
   {
    "duration": 16,
    "start_time": "2022-02-22T15:49:01.296Z"
   },
   {
    "duration": 1222,
    "start_time": "2022-02-22T15:49:49.039Z"
   },
   {
    "duration": 12,
    "start_time": "2022-02-22T15:51:03.487Z"
   },
   {
    "duration": 516,
    "start_time": "2022-02-22T15:51:07.832Z"
   },
   {
    "duration": 45,
    "start_time": "2022-02-22T15:51:35.388Z"
   },
   {
    "duration": 610,
    "start_time": "2022-02-22T15:51:37.814Z"
   },
   {
    "duration": 658,
    "start_time": "2022-02-22T15:52:51.431Z"
   },
   {
    "duration": 733,
    "start_time": "2022-02-22T15:53:00.685Z"
   },
   {
    "duration": 621,
    "start_time": "2022-02-22T15:53:10.197Z"
   },
   {
    "duration": 603,
    "start_time": "2022-02-22T15:53:14.399Z"
   },
   {
    "duration": 630,
    "start_time": "2022-02-22T15:53:22.030Z"
   },
   {
    "duration": 626,
    "start_time": "2022-02-22T15:53:47.729Z"
   },
   {
    "duration": 582,
    "start_time": "2022-02-22T15:54:45.856Z"
   },
   {
    "duration": 916,
    "start_time": "2022-02-22T15:56:18.935Z"
   },
   {
    "duration": 599,
    "start_time": "2022-02-22T15:56:30.423Z"
   },
   {
    "duration": 329,
    "start_time": "2022-02-22T15:59:43.014Z"
   },
   {
    "duration": 539,
    "start_time": "2022-02-22T15:59:45.861Z"
   },
   {
    "duration": 7732,
    "start_time": "2022-02-22T16:00:13.805Z"
   },
   {
    "duration": 12,
    "start_time": "2022-02-22T16:00:23.813Z"
   },
   {
    "duration": 529,
    "start_time": "2022-02-22T16:00:51.294Z"
   },
   {
    "duration": 562,
    "start_time": "2022-02-22T16:01:08.293Z"
   },
   {
    "duration": 149,
    "start_time": "2022-02-22T16:13:51.218Z"
   },
   {
    "duration": 519,
    "start_time": "2022-02-22T16:15:24.892Z"
   },
   {
    "duration": 78,
    "start_time": "2022-02-22T16:17:54.027Z"
   },
   {
    "duration": 77,
    "start_time": "2022-02-22T16:43:56.908Z"
   },
   {
    "duration": 14,
    "start_time": "2022-02-22T16:45:00.094Z"
   },
   {
    "duration": 29,
    "start_time": "2022-02-22T16:45:05.542Z"
   },
   {
    "duration": 91348,
    "start_time": "2022-02-22T16:46:02.908Z"
   },
   {
    "duration": 14,
    "start_time": "2022-02-22T16:50:07.046Z"
   },
   {
    "duration": 9,
    "start_time": "2022-02-22T16:50:12.068Z"
   },
   {
    "duration": 6296,
    "start_time": "2022-02-22T16:50:23.758Z"
   },
   {
    "duration": 656,
    "start_time": "2022-02-22T16:51:02.183Z"
   },
   {
    "duration": 268,
    "start_time": "2022-02-22T16:51:27.631Z"
   },
   {
    "duration": 334,
    "start_time": "2022-02-22T16:51:45.941Z"
   },
   {
    "duration": 34,
    "start_time": "2022-02-22T16:52:48.742Z"
   },
   {
    "duration": 52,
    "start_time": "2022-02-22T16:52:55.564Z"
   },
   {
    "duration": 6440,
    "start_time": "2022-02-22T16:53:04.277Z"
   },
   {
    "duration": 21,
    "start_time": "2022-02-22T16:53:18.892Z"
   },
   {
    "duration": 294,
    "start_time": "2022-02-22T16:53:28.086Z"
   },
   {
    "duration": 6867,
    "start_time": "2022-02-22T16:53:39.399Z"
   },
   {
    "duration": 32,
    "start_time": "2022-02-22T16:53:58.022Z"
   },
   {
    "duration": 21,
    "start_time": "2022-02-22T16:54:02.149Z"
   },
   {
    "duration": 306,
    "start_time": "2022-02-22T16:54:07.965Z"
   },
   {
    "duration": 18,
    "start_time": "2022-02-22T16:54:09.413Z"
   },
   {
    "duration": 288,
    "start_time": "2022-02-22T16:54:23.199Z"
   },
   {
    "duration": 34,
    "start_time": "2022-02-22T16:54:42.012Z"
   },
   {
    "duration": 440,
    "start_time": "2022-02-22T16:54:52.237Z"
   },
   {
    "duration": 21,
    "start_time": "2022-02-22T16:55:02.117Z"
   },
   {
    "duration": 32,
    "start_time": "2022-02-22T16:55:04.461Z"
   },
   {
    "duration": 6567,
    "start_time": "2022-02-22T16:55:42.173Z"
   },
   {
    "duration": 272,
    "start_time": "2022-02-22T16:56:11.558Z"
   },
   {
    "duration": 329,
    "start_time": "2022-02-22T16:57:00.783Z"
   },
   {
    "duration": 32,
    "start_time": "2022-02-22T16:57:16.532Z"
   },
   {
    "duration": 6478,
    "start_time": "2022-02-22T16:57:20.141Z"
   },
   {
    "duration": 272,
    "start_time": "2022-02-22T16:58:40.524Z"
   },
   {
    "duration": 36,
    "start_time": "2022-02-22T16:58:57.492Z"
   },
   {
    "duration": -36,
    "start_time": "2022-02-22T16:59:57.228Z"
   },
   {
    "duration": -32,
    "start_time": "2022-02-22T17:00:07.503Z"
   },
   {
    "duration": 21,
    "start_time": "2022-02-22T17:00:07.556Z"
   },
   {
    "duration": 350,
    "start_time": "2022-02-22T17:00:57.366Z"
   },
   {
    "duration": 8,
    "start_time": "2022-02-22T17:01:28.765Z"
   },
   {
    "duration": 4,
    "start_time": "2022-02-22T17:01:34.445Z"
   },
   {
    "duration": 298,
    "start_time": "2022-02-22T17:01:38.555Z"
   },
   {
    "duration": 6,
    "start_time": "2022-02-22T17:01:42.723Z"
   },
   {
    "duration": 34,
    "start_time": "2022-02-22T17:01:47.396Z"
   },
   {
    "duration": 6,
    "start_time": "2022-02-22T17:02:07.189Z"
   },
   {
    "duration": 18,
    "start_time": "2022-02-22T17:02:12.772Z"
   },
   {
    "duration": 19,
    "start_time": "2022-02-22T17:02:19.811Z"
   },
   {
    "duration": 411,
    "start_time": "2022-02-22T17:03:14.412Z"
   },
   {
    "duration": 283,
    "start_time": "2022-02-22T17:03:49.196Z"
   },
   {
    "duration": 33,
    "start_time": "2022-02-22T17:03:55.887Z"
   },
   {
    "duration": 17,
    "start_time": "2022-02-22T17:04:18.221Z"
   },
   {
    "duration": 33,
    "start_time": "2022-02-22T17:04:34.196Z"
   },
   {
    "duration": 42,
    "start_time": "2022-02-22T17:04:40.963Z"
   },
   {
    "duration": 351,
    "start_time": "2022-02-22T17:04:49.980Z"
   },
   {
    "duration": 34,
    "start_time": "2022-02-22T17:05:47.411Z"
   },
   {
    "duration": 588,
    "start_time": "2022-02-22T17:05:55.974Z"
   },
   {
    "duration": 351,
    "start_time": "2022-02-22T17:06:15.532Z"
   },
   {
    "duration": 272,
    "start_time": "2022-02-22T17:06:24.091Z"
   },
   {
    "duration": 271,
    "start_time": "2022-02-22T17:06:39.739Z"
   },
   {
    "duration": 18,
    "start_time": "2022-02-22T17:06:45.987Z"
   },
   {
    "duration": 35,
    "start_time": "2022-02-22T17:08:54.620Z"
   },
   {
    "duration": 730,
    "start_time": "2022-02-22T17:09:03.827Z"
   },
   {
    "duration": 590,
    "start_time": "2022-02-22T17:12:59.884Z"
   },
   {
    "duration": 517,
    "start_time": "2022-02-22T17:13:27.379Z"
   },
   {
    "duration": 275,
    "start_time": "2022-02-22T17:15:01.133Z"
   },
   {
    "duration": 34,
    "start_time": "2022-02-22T17:15:25.180Z"
   },
   {
    "duration": 52,
    "start_time": "2022-02-22T17:15:32.637Z"
   },
   {
    "duration": 32,
    "start_time": "2022-02-22T17:15:47.285Z"
   },
   {
    "duration": 50,
    "start_time": "2022-02-22T17:16:11.659Z"
   },
   {
    "duration": 29,
    "start_time": "2022-02-22T17:16:26.467Z"
   },
   {
    "duration": 33,
    "start_time": "2022-02-22T17:17:40.572Z"
   },
   {
    "duration": 36,
    "start_time": "2022-02-22T17:17:58.395Z"
   },
   {
    "duration": 66,
    "start_time": "2022-02-22T17:18:12.189Z"
   },
   {
    "duration": 28,
    "start_time": "2022-02-22T17:18:26.308Z"
   },
   {
    "duration": 50,
    "start_time": "2022-02-22T17:18:44.813Z"
   },
   {
    "duration": 91,
    "start_time": "2022-02-22T17:18:48.514Z"
   },
   {
    "duration": 935,
    "start_time": "2022-02-22T17:18:52.853Z"
   },
   {
    "duration": 565,
    "start_time": "2022-02-22T17:21:18.018Z"
   },
   {
    "duration": 548,
    "start_time": "2022-02-22T17:21:24.691Z"
   },
   {
    "duration": 569,
    "start_time": "2022-02-22T17:21:29.769Z"
   },
   {
    "duration": 565,
    "start_time": "2022-02-22T17:21:35.691Z"
   },
   {
    "duration": 585,
    "start_time": "2022-02-22T17:22:11.402Z"
   },
   {
    "duration": 39,
    "start_time": "2022-02-22T17:23:00.876Z"
   },
   {
    "duration": 281,
    "start_time": "2022-02-22T17:23:18.892Z"
   },
   {
    "duration": 278,
    "start_time": "2022-02-22T17:23:26.618Z"
   },
   {
    "duration": 39,
    "start_time": "2022-02-22T17:23:33.019Z"
   },
   {
    "duration": 634,
    "start_time": "2022-02-22T17:23:56.922Z"
   },
   {
    "duration": 586,
    "start_time": "2022-02-22T17:24:04.449Z"
   },
   {
    "duration": 616,
    "start_time": "2022-02-22T17:28:45.064Z"
   },
   {
    "duration": 301,
    "start_time": "2022-02-22T17:29:03.705Z"
   },
   {
    "duration": 652,
    "start_time": "2022-02-22T17:29:36.563Z"
   },
   {
    "duration": 622,
    "start_time": "2022-02-22T17:29:59.569Z"
   },
   {
    "duration": 634,
    "start_time": "2022-02-22T17:30:39.385Z"
   },
   {
    "duration": 574,
    "start_time": "2022-02-22T17:40:52.862Z"
   },
   {
    "duration": 589,
    "start_time": "2022-02-22T17:41:10.359Z"
   },
   {
    "duration": 74,
    "start_time": "2022-02-22T17:41:39.488Z"
   },
   {
    "duration": 472,
    "start_time": "2022-02-22T17:42:36.375Z"
   },
   {
    "duration": 320,
    "start_time": "2022-02-22T17:42:47.000Z"
   },
   {
    "duration": 651,
    "start_time": "2022-02-22T17:42:57.511Z"
   },
   {
    "duration": 656,
    "start_time": "2022-02-22T17:44:05.607Z"
   },
   {
    "duration": 619,
    "start_time": "2022-02-22T17:44:54.064Z"
   },
   {
    "duration": 681,
    "start_time": "2022-02-22T17:45:05.672Z"
   },
   {
    "duration": 780,
    "start_time": "2022-02-22T17:45:10.943Z"
   },
   {
    "duration": 582,
    "start_time": "2022-02-22T17:53:28.718Z"
   },
   {
    "duration": 600,
    "start_time": "2022-02-22T17:53:47.789Z"
   },
   {
    "duration": 543,
    "start_time": "2022-02-22T17:53:53.918Z"
   },
   {
    "duration": 574,
    "start_time": "2022-02-22T17:53:57.078Z"
   },
   {
    "duration": 8,
    "start_time": "2022-02-22T17:57:45.196Z"
   },
   {
    "duration": 8,
    "start_time": "2022-02-22T17:57:52.950Z"
   },
   {
    "duration": 296,
    "start_time": "2022-02-22T17:57:57.724Z"
   },
   {
    "duration": 8,
    "start_time": "2022-02-22T17:58:01.165Z"
   },
   {
    "duration": 8,
    "start_time": "2022-02-22T17:58:02.318Z"
   },
   {
    "duration": 89,
    "start_time": "2022-02-22T17:58:14.974Z"
   },
   {
    "duration": 7,
    "start_time": "2022-02-22T17:58:18.396Z"
   },
   {
    "duration": 8,
    "start_time": "2022-02-22T17:58:19.205Z"
   },
   {
    "duration": 89,
    "start_time": "2022-02-22T17:58:29.693Z"
   },
   {
    "duration": 85,
    "start_time": "2022-02-22T17:58:33.607Z"
   },
   {
    "duration": 81,
    "start_time": "2022-02-22T17:58:36.622Z"
   },
   {
    "duration": 89,
    "start_time": "2022-02-22T17:58:38.870Z"
   },
   {
    "duration": 84,
    "start_time": "2022-02-22T17:58:41.822Z"
   },
   {
    "duration": 7,
    "start_time": "2022-02-22T17:58:46.261Z"
   },
   {
    "duration": 9,
    "start_time": "2022-02-22T17:58:47.100Z"
   },
   {
    "duration": 8,
    "start_time": "2022-02-22T17:58:48.060Z"
   },
   {
    "duration": 17,
    "start_time": "2022-02-22T17:59:07.021Z"
   },
   {
    "duration": 15,
    "start_time": "2022-02-22T17:59:12.484Z"
   },
   {
    "duration": 336,
    "start_time": "2022-02-22T17:59:18.132Z"
   },
   {
    "duration": 239,
    "start_time": "2022-02-22T17:59:26.317Z"
   },
   {
    "duration": 53,
    "start_time": "2022-02-22T17:59:30.645Z"
   },
   {
    "duration": 8,
    "start_time": "2022-02-22T17:59:42.773Z"
   },
   {
    "duration": 8,
    "start_time": "2022-02-22T17:59:43.693Z"
   },
   {
    "duration": 283,
    "start_time": "2022-02-22T18:00:02.420Z"
   },
   {
    "duration": 46,
    "start_time": "2022-02-22T18:00:05.238Z"
   },
   {
    "duration": 8,
    "start_time": "2022-02-22T18:00:27.022Z"
   },
   {
    "duration": 8,
    "start_time": "2022-02-22T18:00:29.333Z"
   },
   {
    "duration": 5,
    "start_time": "2022-02-22T18:00:35.324Z"
   },
   {
    "duration": 7,
    "start_time": "2022-02-22T18:00:36.789Z"
   },
   {
    "duration": 440,
    "start_time": "2022-02-22T18:01:22.972Z"
   },
   {
    "duration": 302,
    "start_time": "2022-02-22T18:04:41.763Z"
   },
   {
    "duration": 502,
    "start_time": "2022-02-22T18:04:53.181Z"
   },
   {
    "duration": 506,
    "start_time": "2022-02-22T18:05:15.020Z"
   },
   {
    "duration": 507,
    "start_time": "2022-02-22T18:06:38.909Z"
   },
   {
    "duration": 494,
    "start_time": "2022-02-22T18:06:43.876Z"
   },
   {
    "duration": 5,
    "start_time": "2022-02-22T18:47:14.672Z"
   },
   {
    "duration": 213,
    "start_time": "2022-02-22T18:47:14.680Z"
   },
   {
    "duration": 88,
    "start_time": "2022-02-22T18:47:14.896Z"
   },
   {
    "duration": 4,
    "start_time": "2022-02-22T18:47:14.987Z"
   },
   {
    "duration": 33,
    "start_time": "2022-02-22T18:47:14.993Z"
   },
   {
    "duration": 21,
    "start_time": "2022-02-22T18:47:15.029Z"
   },
   {
    "duration": 10,
    "start_time": "2022-02-22T18:47:15.053Z"
   },
   {
    "duration": 23,
    "start_time": "2022-02-22T18:47:15.066Z"
   },
   {
    "duration": 123,
    "start_time": "2022-02-22T18:47:15.094Z"
   },
   {
    "duration": 10,
    "start_time": "2022-02-22T18:47:15.221Z"
   },
   {
    "duration": 1772,
    "start_time": "2022-02-22T18:47:15.233Z"
   },
   {
    "duration": 604,
    "start_time": "2022-02-22T18:47:17.008Z"
   },
   {
    "duration": 1919,
    "start_time": "2022-02-22T18:47:17.615Z"
   },
   {
    "duration": 22,
    "start_time": "2022-02-22T18:47:19.537Z"
   },
   {
    "duration": 547,
    "start_time": "2022-02-22T18:47:19.561Z"
   },
   {
    "duration": 57,
    "start_time": "2022-02-22T18:47:20.111Z"
   },
   {
    "duration": 712,
    "start_time": "2022-02-22T18:47:20.171Z"
   },
   {
    "duration": 635,
    "start_time": "2022-02-22T18:47:20.886Z"
   },
   {
    "duration": 542,
    "start_time": "2022-02-22T18:47:21.524Z"
   },
   {
    "duration": 7,
    "start_time": "2022-02-22T18:47:22.069Z"
   },
   {
    "duration": 19,
    "start_time": "2022-02-22T18:47:22.079Z"
   },
   {
    "duration": 81,
    "start_time": "2022-02-22T18:47:22.101Z"
   },
   {
    "duration": 441,
    "start_time": "2022-02-22T18:47:22.185Z"
   },
   {
    "duration": 437,
    "start_time": "2022-02-22T18:47:22.629Z"
   },
   {
    "duration": 602,
    "start_time": "2022-02-22T18:47:23.068Z"
   },
   {
    "duration": 677,
    "start_time": "2022-02-22T18:47:23.674Z"
   },
   {
    "duration": 7,
    "start_time": "2022-02-22T18:47:24.358Z"
   },
   {
    "duration": 516,
    "start_time": "2022-02-22T18:47:24.368Z"
   },
   {
    "duration": 5,
    "start_time": "2022-02-22T18:47:24.887Z"
   },
   {
    "duration": 19,
    "start_time": "2022-02-22T18:47:24.895Z"
   },
   {
    "duration": 34,
    "start_time": "2022-02-22T18:47:24.916Z"
   },
   {
    "duration": 549,
    "start_time": "2022-02-22T18:47:55.938Z"
   },
   {
    "duration": 541,
    "start_time": "2022-02-22T18:48:11.255Z"
   },
   {
    "duration": 23,
    "start_time": "2022-02-22T18:51:11.462Z"
   },
   {
    "duration": 60,
    "start_time": "2022-02-22T18:51:18.021Z"
   },
   {
    "duration": 81,
    "start_time": "2022-02-22T18:57:21.213Z"
   },
   {
    "duration": 251,
    "start_time": "2022-02-23T07:31:55.743Z"
   },
   {
    "duration": 1066,
    "start_time": "2022-02-23T07:32:00.039Z"
   },
   {
    "duration": 175,
    "start_time": "2022-02-23T07:32:01.107Z"
   },
   {
    "duration": 64,
    "start_time": "2022-02-23T07:32:01.284Z"
   },
   {
    "duration": 3,
    "start_time": "2022-02-23T07:32:01.349Z"
   },
   {
    "duration": 9,
    "start_time": "2022-02-23T07:32:01.354Z"
   },
   {
    "duration": 6,
    "start_time": "2022-02-23T07:32:01.365Z"
   },
   {
    "duration": 6,
    "start_time": "2022-02-23T07:32:01.373Z"
   },
   {
    "duration": 6,
    "start_time": "2022-02-23T07:32:01.380Z"
   },
   {
    "duration": 103,
    "start_time": "2022-02-23T07:32:01.388Z"
   },
   {
    "duration": 6,
    "start_time": "2022-02-23T07:32:01.493Z"
   },
   {
    "duration": 448,
    "start_time": "2022-02-23T07:32:01.501Z"
   },
   {
    "duration": 369,
    "start_time": "2022-02-23T07:32:01.951Z"
   },
   {
    "duration": 1237,
    "start_time": "2022-02-23T07:32:02.322Z"
   },
   {
    "duration": 9,
    "start_time": "2022-02-23T07:32:03.561Z"
   },
   {
    "duration": 434,
    "start_time": "2022-02-23T07:32:03.572Z"
   },
   {
    "duration": 36,
    "start_time": "2022-02-23T07:32:04.008Z"
   },
   {
    "duration": 419,
    "start_time": "2022-02-23T07:32:04.046Z"
   },
   {
    "duration": 393,
    "start_time": "2022-02-23T07:32:04.468Z"
   },
   {
    "duration": 379,
    "start_time": "2022-02-23T07:32:04.863Z"
   },
   {
    "duration": 4,
    "start_time": "2022-02-23T07:32:05.244Z"
   },
   {
    "duration": 16,
    "start_time": "2022-02-23T07:32:05.249Z"
   },
   {
    "duration": 59,
    "start_time": "2022-02-23T07:32:05.268Z"
   },
   {
    "duration": 292,
    "start_time": "2022-02-23T07:32:05.329Z"
   },
   {
    "duration": 298,
    "start_time": "2022-02-23T07:32:05.623Z"
   },
   {
    "duration": 396,
    "start_time": "2022-02-23T07:32:05.923Z"
   },
   {
    "duration": 23,
    "start_time": "2022-02-23T07:32:06.321Z"
   },
   {
    "duration": 412,
    "start_time": "2022-02-23T07:32:06.347Z"
   },
   {
    "duration": 459,
    "start_time": "2022-02-23T07:32:06.761Z"
   },
   {
    "duration": 6,
    "start_time": "2022-02-23T07:32:07.223Z"
   },
   {
    "duration": 436,
    "start_time": "2022-02-23T07:32:07.231Z"
   },
   {
    "duration": 4,
    "start_time": "2022-02-23T07:32:07.669Z"
   },
   {
    "duration": 12,
    "start_time": "2022-02-23T07:32:07.674Z"
   },
   {
    "duration": 31,
    "start_time": "2022-02-23T07:32:07.688Z"
   },
   {
    "duration": 317,
    "start_time": "2022-02-23T07:32:56.220Z"
   },
   {
    "duration": 359,
    "start_time": "2022-02-23T07:33:13.460Z"
   },
   {
    "duration": 270,
    "start_time": "2022-02-23T07:33:24.163Z"
   },
   {
    "duration": 1451,
    "start_time": "2022-02-23T07:33:35.579Z"
   },
   {
    "duration": 6523,
    "start_time": "2022-02-23T07:33:49.579Z"
   },
   {
    "duration": 246,
    "start_time": "2022-02-23T07:34:10.212Z"
   },
   {
    "duration": 241,
    "start_time": "2022-02-23T07:34:14.618Z"
   },
   {
    "duration": 228,
    "start_time": "2022-02-23T07:44:29.130Z"
   },
   {
    "duration": 219,
    "start_time": "2022-02-23T07:44:34.307Z"
   },
   {
    "duration": 5462,
    "start_time": "2022-02-23T07:44:44.993Z"
   },
   {
    "duration": 586,
    "start_time": "2022-02-23T07:47:19.681Z"
   },
   {
    "duration": 850,
    "start_time": "2022-02-23T07:47:25.320Z"
   },
   {
    "duration": 849,
    "start_time": "2022-02-23T07:47:28.794Z"
   },
   {
    "duration": 77,
    "start_time": "2022-02-23T07:49:11.311Z"
   },
   {
    "duration": 501,
    "start_time": "2022-02-23T07:49:16.377Z"
   },
   {
    "duration": 434,
    "start_time": "2022-02-23T07:49:28.000Z"
   },
   {
    "duration": 447,
    "start_time": "2022-02-23T07:49:45.792Z"
   },
   {
    "duration": 407,
    "start_time": "2022-02-23T07:49:51.249Z"
   },
   {
    "duration": 556,
    "start_time": "2022-02-23T07:50:31.577Z"
   },
   {
    "duration": 433,
    "start_time": "2022-02-23T07:50:35.113Z"
   },
   {
    "duration": 296,
    "start_time": "2022-02-23T07:52:08.536Z"
   },
   {
    "duration": 342,
    "start_time": "2022-02-23T07:52:12.488Z"
   },
   {
    "duration": 514,
    "start_time": "2022-02-23T07:54:11.568Z"
   },
   {
    "duration": 530,
    "start_time": "2022-02-23T07:56:35.183Z"
   },
   {
    "duration": 530,
    "start_time": "2022-02-23T07:56:39.639Z"
   },
   {
    "duration": 498,
    "start_time": "2022-02-23T07:56:44.144Z"
   },
   {
    "duration": 375,
    "start_time": "2022-02-23T07:58:47.734Z"
   },
   {
    "duration": 69,
    "start_time": "2022-02-23T08:22:36.134Z"
   }
  ],
  "kernelspec": {
   "display_name": "Python 3 (ipykernel)",
   "language": "python",
   "name": "python3"
  },
  "language_info": {
   "codemirror_mode": {
    "name": "ipython",
    "version": 3
   },
   "file_extension": ".py",
   "mimetype": "text/x-python",
   "name": "python",
   "nbconvert_exporter": "python",
   "pygments_lexer": "ipython3",
   "version": "3.9.13"
  },
  "toc": {
   "base_numbering": 1,
   "nav_menu": {},
   "number_sections": true,
   "sideBar": true,
   "skip_h1_title": true,
   "title_cell": "Table of Contents",
   "title_sidebar": "Contents",
   "toc_cell": false,
   "toc_position": {
    "height": "calc(100% - 180px)",
    "left": "10px",
    "top": "150px",
    "width": "366.391px"
   },
   "toc_section_display": true,
   "toc_window_display": true
  }
 },
 "nbformat": 4,
 "nbformat_minor": 2
}
